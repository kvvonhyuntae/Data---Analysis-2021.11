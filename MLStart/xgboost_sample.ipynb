{
 "cells": [
  {
   "cell_type": "markdown",
   "metadata": {},
   "source": [
    "## XGBoost의 파라미터 튜닝 가이드\n",
    "\n",
    "### 1. XGBoost의 장점\n",
    "1. Regularization:\n",
    " - 표준 GBM 구현은 XGBoost와 같은 규제항이 없다.\n",
    " - XGBoost는 규제항이 있는 boosting 기술이라 할 수 있다.\n",
    "2. 병렬처리\n",
    " - 병렬처리를 구현하여 기존 GBM보다 빠르다.\n",
    " - 하둡에서도 구동이 가능하여 spark에서 이용할 수 있다.\n",
    "3. 높은 유연성\n",
    " - 비용함수와 평가 척도에 대한 사용자 설정이 가능하다.\n",
    " - 이로인해 전혀 다른 차원의 문제를 해결하는 데 제약이 없다.\n",
    "4. 결측치의 처리\n",
    " - 결측치 처리를 위한 내부 루틴을 가지고 있다.\n",
    " - 결측에 대한 처리 방법을 매개변수로 전달하여, 처리할 수 있다.\n",
    "5. 나무 가지치기\n",
    " - GBM은 각 split에서 마이너스 gain을 가지면 가지뻗기를 중단한다.\n",
    " - 반면 XGBoost는 지정된 max_depth까지 가지뻗기한 후, 다시 gain이 +가 되도록 가지치기한다. \n",
    " - 특히나, -2 gain 이후, 추가적인 가지뻗기로 +10의 gain을 얻을 기회를 갖는다.\n",
    "6. 내장 교차평가(Cross Validation)\n",
    " - 각 iteration마다 교차평가가 가능하도록 하여, iteration 중 최적 모델을 얻을 수 있다.\n",
    "7. 모델의 지속성\n",
    " - 이전 최종 iteration에서 학습을 재시작할 수 있다. online-update 가능.\n",
    " - 이점에 있어서는 sklearn의 GBM도 같다.\n",
    " \n",
    "### 2. XGBoost Parameters\n",
    "XGBoost 소개 문서를 참조한다.\n",
    "\n",
    "### 3. 파라미터 튜닝 예\n"
   ]
  },
  {
   "cell_type": "code",
   "execution_count": 1,
   "metadata": {},
   "outputs": [],
   "source": [
    "import numpy as np\n",
    "import gzip\n",
    "import pandas as pd"
   ]
  },
  {
   "cell_type": "code",
   "execution_count": 2,
   "metadata": {},
   "outputs": [
    {
     "data": {
      "text/plain": [
       "'1.1.1'"
      ]
     },
     "execution_count": 2,
     "metadata": {},
     "output_type": "execute_result"
    }
   ],
   "source": [
    "import xgboost as xgb\n",
    "xgb.__version__"
   ]
  },
  {
   "cell_type": "code",
   "execution_count": 3,
   "metadata": {},
   "outputs": [
    {
     "data": {
      "text/html": [
       "<div>\n",
       "<style scoped>\n",
       "    .dataframe tbody tr th:only-of-type {\n",
       "        vertical-align: middle;\n",
       "    }\n",
       "\n",
       "    .dataframe tbody tr th {\n",
       "        vertical-align: top;\n",
       "    }\n",
       "\n",
       "    .dataframe thead th {\n",
       "        text-align: right;\n",
       "    }\n",
       "</style>\n",
       "<table border=\"1\" class=\"dataframe\">\n",
       "  <thead>\n",
       "    <tr style=\"text-align: right;\">\n",
       "      <th></th>\n",
       "      <th>INFANT_ALIVE_AT_REPORT</th>\n",
       "      <th>BIRTH_PLACE</th>\n",
       "      <th>MOTHER_AGE_YEARS</th>\n",
       "      <th>FATHER_COMBINED_AGE</th>\n",
       "      <th>CIG_BEFORE</th>\n",
       "      <th>CIG_1_TRI</th>\n",
       "      <th>CIG_2_TRI</th>\n",
       "      <th>CIG_3_TRI</th>\n",
       "      <th>MOTHER_HEIGHT_IN</th>\n",
       "      <th>MOTHER_PRE_WEIGHT</th>\n",
       "      <th>MOTHER_DELIVERY_WEIGHT</th>\n",
       "      <th>MOTHER_WEIGHT_GAIN</th>\n",
       "      <th>DIABETES_PRE</th>\n",
       "      <th>DIABETES_GEST</th>\n",
       "      <th>HYP_TENS_PRE</th>\n",
       "      <th>HYP_TENS_GEST</th>\n",
       "      <th>PREV_BIRTH_PRETERM</th>\n",
       "    </tr>\n",
       "  </thead>\n",
       "  <tbody>\n",
       "    <tr>\n",
       "      <th>0</th>\n",
       "      <td>0</td>\n",
       "      <td>1</td>\n",
       "      <td>29</td>\n",
       "      <td>99</td>\n",
       "      <td>0</td>\n",
       "      <td>0</td>\n",
       "      <td>0</td>\n",
       "      <td>0</td>\n",
       "      <td>99</td>\n",
       "      <td>999</td>\n",
       "      <td>999</td>\n",
       "      <td>99</td>\n",
       "      <td>0</td>\n",
       "      <td>0</td>\n",
       "      <td>0</td>\n",
       "      <td>0</td>\n",
       "      <td>0</td>\n",
       "    </tr>\n",
       "    <tr>\n",
       "      <th>1</th>\n",
       "      <td>0</td>\n",
       "      <td>1</td>\n",
       "      <td>22</td>\n",
       "      <td>29</td>\n",
       "      <td>0</td>\n",
       "      <td>0</td>\n",
       "      <td>0</td>\n",
       "      <td>0</td>\n",
       "      <td>65</td>\n",
       "      <td>180</td>\n",
       "      <td>198</td>\n",
       "      <td>18</td>\n",
       "      <td>0</td>\n",
       "      <td>0</td>\n",
       "      <td>0</td>\n",
       "      <td>0</td>\n",
       "      <td>0</td>\n",
       "    </tr>\n",
       "    <tr>\n",
       "      <th>2</th>\n",
       "      <td>0</td>\n",
       "      <td>1</td>\n",
       "      <td>38</td>\n",
       "      <td>40</td>\n",
       "      <td>0</td>\n",
       "      <td>0</td>\n",
       "      <td>0</td>\n",
       "      <td>0</td>\n",
       "      <td>63</td>\n",
       "      <td>155</td>\n",
       "      <td>167</td>\n",
       "      <td>12</td>\n",
       "      <td>0</td>\n",
       "      <td>0</td>\n",
       "      <td>0</td>\n",
       "      <td>0</td>\n",
       "      <td>0</td>\n",
       "    </tr>\n",
       "  </tbody>\n",
       "</table>\n",
       "</div>"
      ],
      "text/plain": [
       "   INFANT_ALIVE_AT_REPORT  BIRTH_PLACE  MOTHER_AGE_YEARS  FATHER_COMBINED_AGE  \\\n",
       "0                       0            1                29                   99   \n",
       "1                       0            1                22                   29   \n",
       "2                       0            1                38                   40   \n",
       "\n",
       "   CIG_BEFORE  CIG_1_TRI  CIG_2_TRI  CIG_3_TRI  MOTHER_HEIGHT_IN  \\\n",
       "0           0          0          0          0                99   \n",
       "1           0          0          0          0                65   \n",
       "2           0          0          0          0                63   \n",
       "\n",
       "   MOTHER_PRE_WEIGHT  MOTHER_DELIVERY_WEIGHT  MOTHER_WEIGHT_GAIN  \\\n",
       "0                999                     999                  99   \n",
       "1                180                     198                  18   \n",
       "2                155                     167                  12   \n",
       "\n",
       "   DIABETES_PRE  DIABETES_GEST  HYP_TENS_PRE  HYP_TENS_GEST  \\\n",
       "0             0              0             0              0   \n",
       "1             0              0             0              0   \n",
       "2             0              0             0              0   \n",
       "\n",
       "   PREV_BIRTH_PRETERM  \n",
       "0                   0  \n",
       "1                   0  \n",
       "2                   0  "
      ]
     },
     "execution_count": 3,
     "metadata": {},
     "output_type": "execute_result"
    }
   ],
   "source": [
    "df = pd.read_csv('births_transformed.csv.gz', \n",
    "                 compression='gzip', \n",
    "                 header=0, error_bad_lines=False)\n",
    "df[:3]"
   ]
  },
  {
   "cell_type": "code",
   "execution_count": 6,
   "metadata": {
    "scrolled": true
   },
   "outputs": [
    {
     "data": {
      "text/plain": [
       "1    44558\n",
       "4      327\n",
       "3      224\n",
       "2      136\n",
       "7       91\n",
       "5       74\n",
       "6       11\n",
       "9        8\n",
       "Name: BIRTH_PLACE, dtype: int64"
      ]
     },
     "execution_count": 6,
     "metadata": {},
     "output_type": "execute_result"
    }
   ],
   "source": [
    "df.BIRTH_PLACE.value_counts()"
   ]
  },
  {
   "cell_type": "code",
   "execution_count": 4,
   "metadata": {},
   "outputs": [
    {
     "data": {
      "text/plain": [
       "<bound method NDFrame.describe of 0        1\n",
       "1        1\n",
       "2        1\n",
       "3        1\n",
       "4        1\n",
       "        ..\n",
       "45424    1\n",
       "45425    1\n",
       "45426    1\n",
       "45427    1\n",
       "45428    1\n",
       "Name: BIRTH_PLACE, Length: 45429, dtype: object>"
      ]
     },
     "execution_count": 4,
     "metadata": {},
     "output_type": "execute_result"
    }
   ],
   "source": [
    "df.BIRTH_PLACE = df.BIRTH_PLACE.astype(str)\n",
    "df.BIRTH_PLACE.describe"
   ]
  },
  {
   "cell_type": "code",
   "execution_count": 7,
   "metadata": {},
   "outputs": [
    {
     "data": {
      "text/plain": [
       "1    23349\n",
       "0    22080\n",
       "Name: INFANT_ALIVE_AT_REPORT, dtype: int64"
      ]
     },
     "execution_count": 7,
     "metadata": {},
     "output_type": "execute_result"
    }
   ],
   "source": [
    "df.INFANT_ALIVE_AT_REPORT.value_counts()"
   ]
  },
  {
   "cell_type": "code",
   "execution_count": 5,
   "metadata": {},
   "outputs": [],
   "source": [
    "import matplotlib as mpl\n",
    "import matplotlib.pyplot as plt\n",
    "%matplotlib inline"
   ]
  },
  {
   "cell_type": "code",
   "execution_count": 8,
   "metadata": {},
   "outputs": [
    {
     "data": {
      "text/plain": [
       "'FATHER_COMBINED_AGE'"
      ]
     },
     "execution_count": 8,
     "metadata": {},
     "output_type": "execute_result"
    }
   ],
   "source": [
    "len(df.columns)\n",
    "colnames = df.columns\n",
    "colnames[3]"
   ]
  },
  {
   "cell_type": "code",
   "execution_count": 10,
   "metadata": {},
   "outputs": [
    {
     "data": {
      "image/png": "[encoded data removed]",
      "text/plain": [
       "<Figure size 720x4320 with 15 Axes>"
      ]
     },
     "metadata": {
      "needs_background": "light"
     },
     "output_type": "display_data"
    }
   ],
   "source": [
    "fig, axes = plt.subplots(len(colnames)-2, 1, figsize=(10, 60))\n",
    "for i in range(len(colnames)-2):\n",
    "    axes[i].hist(df[colnames[i+2]], bins=10)\n",
    "    axes[i].set_title(colnames[i+2])"
   ]
  },
  {
   "cell_type": "code",
   "execution_count": 11,
   "metadata": {},
   "outputs": [
    {
     "data": {
      "text/plain": [
       "<bound method NDFrame.head of        INFANT_ALIVE_AT_REPORT  MOTHER_AGE_YEARS  FATHER_COMBINED_AGE  \\\n",
       "0                           0                29                   99   \n",
       "1                           0                22                   29   \n",
       "2                           0                38                   40   \n",
       "3                           0                39                   42   \n",
       "4                           0                18                   99   \n",
       "...                       ...               ...                  ...   \n",
       "45424                       1                25                   29   \n",
       "45425                       1                25                   39   \n",
       "45426                       1                31                   99   \n",
       "45427                       1                24                   24   \n",
       "45428                       1                29                   42   \n",
       "\n",
       "       CIG_BEFORE  CIG_1_TRI  CIG_2_TRI  CIG_3_TRI  MOTHER_HEIGHT_IN  \\\n",
       "0               0          0          0          0                99   \n",
       "1               0          0          0          0                65   \n",
       "2               0          0          0          0                63   \n",
       "3               0          0          0          0                60   \n",
       "4               6          4          2          2                61   \n",
       "...           ...        ...        ...        ...               ...   \n",
       "45424           0          0          0          0                66   \n",
       "45425           0          0          0          0                61   \n",
       "45426           0          0          0          0                55   \n",
       "45427           0          0          0          0                63   \n",
       "45428           0          0          0          0                66   \n",
       "\n",
       "       MOTHER_PRE_WEIGHT  MOTHER_DELIVERY_WEIGHT  ...  HYP_TENS_GEST  \\\n",
       "0                    999                     999  ...              0   \n",
       "1                    180                     198  ...              0   \n",
       "2                    155                     167  ...              0   \n",
       "3                    128                     152  ...              0   \n",
       "4                    110                     130  ...              0   \n",
       "...                  ...                     ...  ...            ...   \n",
       "45424                195                     206  ...              0   \n",
       "45425                129                     190  ...              0   \n",
       "45426                 96                     120  ...              0   \n",
       "45427                145                     165  ...              0   \n",
       "45428                145                     179  ...              0   \n",
       "\n",
       "       PREV_BIRTH_PRETERM  BIRTH_PLACE_1  BIRTH_PLACE_2  BIRTH_PLACE_3  \\\n",
       "0                       0              1              0              0   \n",
       "1                       0              1              0              0   \n",
       "2                       0              1              0              0   \n",
       "3                       1              1              0              0   \n",
       "4                       0              1              0              0   \n",
       "...                   ...            ...            ...            ...   \n",
       "45424                   0              1              0              0   \n",
       "45425                   0              1              0              0   \n",
       "45426                   0              1              0              0   \n",
       "45427                   0              1              0              0   \n",
       "45428                   0              1              0              0   \n",
       "\n",
       "       BIRTH_PLACE_4  BIRTH_PLACE_5  BIRTH_PLACE_6  BIRTH_PLACE_7  \\\n",
       "0                  0              0              0              0   \n",
       "1                  0              0              0              0   \n",
       "2                  0              0              0              0   \n",
       "3                  0              0              0              0   \n",
       "4                  0              0              0              0   \n",
       "...              ...            ...            ...            ...   \n",
       "45424              0              0              0              0   \n",
       "45425              0              0              0              0   \n",
       "45426              0              0              0              0   \n",
       "45427              0              0              0              0   \n",
       "45428              0              0              0              0   \n",
       "\n",
       "       BIRTH_PLACE_9  \n",
       "0                  0  \n",
       "1                  0  \n",
       "2                  0  \n",
       "3                  0  \n",
       "4                  0  \n",
       "...              ...  \n",
       "45424              0  \n",
       "45425              0  \n",
       "45426              0  \n",
       "45427              0  \n",
       "45428              0  \n",
       "\n",
       "[45429 rows x 24 columns]>"
      ]
     },
     "execution_count": 11,
     "metadata": {},
     "output_type": "execute_result"
    }
   ],
   "source": [
    "df_dummy = pd.get_dummies(df, columns = [\"BIRTH_PLACE\"])\n",
    "df_dummy.head"
   ]
  },
  {
   "cell_type": "markdown",
   "metadata": {},
   "source": [
    "- \"BIRTH_PLACE\" 변수로 부터 8개의 one-hot encode 변수를 생성한다.\n",
    "- \"BIRTH_PLACE_1\" ... \"BIRTH_PLACE_7\", \"BIRTH_PLACE_9\"의 변수가 새로 생성되고,\n",
    "- \"BIRTH_PLACE\" 변수는 제거된 것을 확인할 수 있다."
   ]
  },
  {
   "cell_type": "code",
   "execution_count": 12,
   "metadata": {},
   "outputs": [],
   "source": [
    "from sklearn.model_selection import train_test_split\n",
    "\n",
    "dtrain, dtest = train_test_split(df_dummy, test_size=0.3, random_state=0, \n",
    "                                 stratify=df_dummy[\"INFANT_ALIVE_AT_REPORT\"])\n",
    "target = \"INFANT_ALIVE_AT_REPORT\"\n",
    "# dtrain[\"INFANT_ALIVE_AT_REPORT\"].describe()"
   ]
  },
  {
   "cell_type": "code",
   "execution_count": 14,
   "metadata": {},
   "outputs": [],
   "source": [
    "from sklearn import metrics\n",
    "from sklearn.model_selection import GridSearchCV   #Perforing grid search"
   ]
  },
  {
   "cell_type": "code",
   "execution_count": 15,
   "metadata": {},
   "outputs": [],
   "source": [
    "def modelfit(alg, dtrain, predictors, useTrainCV=True, \n",
    "             cv_folds=5, early_stopping_rounds=50, dtest=None):\n",
    "    \n",
    "    if useTrainCV:\n",
    "        xgb_param = alg.get_xgb_params()\n",
    "        xgtrain = xgb.DMatrix(dtrain[predictors].values, label=dtrain[target].values)\n",
    "        cvresult = xgb.cv(xgb_param, xgtrain, num_boost_round=alg.get_params()['n_estimators'], nfold=cv_folds,\n",
    "            metrics='auc', early_stopping_rounds=early_stopping_rounds)\n",
    "        alg.set_params(n_estimators=cvresult.shape[0])\n",
    "    \n",
    "    #Fit the algorithm on the data\n",
    "    alg.fit(dtrain[predictors], dtrain['INFANT_ALIVE_AT_REPORT'],eval_metric='auc')\n",
    "        \n",
    "    #Predict training set:\n",
    "    dtrain_predictions = alg.predict(dtrain[predictors])\n",
    "    dtrain_predprob = alg.predict_proba(dtrain[predictors])[:,1]\n",
    "        \n",
    "    #Print model report:\n",
    "    print (\"\\nModel Train Report\")\n",
    "    print (\"Accuracy : %.4g\" % metrics.accuracy_score(dtrain['INFANT_ALIVE_AT_REPORT'].values, dtrain_predictions))\n",
    "    print (\"AUC Score (Train): %f\" % metrics.roc_auc_score(dtrain['INFANT_ALIVE_AT_REPORT'], dtrain_predprob))\n",
    "    \n",
    "    if dtest is not None:\n",
    "        dtest_predictions = alg.predict(dtest[predictors])\n",
    "        dtest_predprob = alg.predict_proba(dtest[predictors])[:,1]\n",
    "        print (\"\\nModel Test Report\")\n",
    "        print (\"Accuracy : %.4g\" % metrics.accuracy_score(dtest['INFANT_ALIVE_AT_REPORT'].values, dtest_predictions))\n",
    "        print (\"AUC Score (Train): %f\" % metrics.roc_auc_score(dtest['INFANT_ALIVE_AT_REPORT'], dtest_predprob))\n",
    "    \n",
    "    \n",
    "    xgb.plot_importance(alg)\n",
    "    plt.ylabel('Feature Importance Score')"
   ]
  },
  {
   "cell_type": "markdown",
   "metadata": {},
   "source": [
    "#### (0) 파라미터 튜닝을 위한 일반적인 접근방법\n",
    "일반적인 GBM 접근법과 유사한 XGBoosting의 파라미터 튜닝 절차는 다음과 같다 :\n",
    "1. 상대적으로 높은 **학습률**(learning rate)을 선택한다.\n",
    " - 기본 학습률은 0.1이지만, 문제에 따라  0.05 ~ 0.3 정도에서 선택한다.\n",
    " - 학습률에 따른 최적 **tree의 수**를 선택하는 것이 일반적이다.\n",
    " - 이때 xgboosting.cv를 사용하면 매 iteration 마다 최적 tree의 수를 얻을 수 있다.\n",
    "2. Tree에 특정된 파라미터 튜닝\n",
    " - 1에서 결정된 learning rate와 tree의 수에 따른 최적 tree 파라미터를 설정한다.\n",
    " - 예 : max_depth, min_child_weight, gamma, subsample, colsample_bytree 등\n",
    "3. 정규화 파라미터$(\\lambda, \\alpha)$ 튜닝\n",
    " - L1, L2 Regularation factor를 설정한다.\n",
    "4. 학습률을 좀 더 낮추면서, 1 ~ 3 까지의 튜닝 과정을 반복한다.\n",
    "\n",
    "#### (1) Step 1 : 학습률과 트리의 수를 고정하기\n",
    "boosting 파라미터를 결정하기 위해, 아래와 같은 초기값을 가지고 시작하자.\n",
    "\n",
    "1. max_depth = 5 : 3 ~ 10의 값이 적당한데, 5의 값으로 시작했다.\n",
    "2. min_child_weight = 1 : 불균형 class 문제일 수록 이 값을 작게 설정해야 한다.\n",
    "3. gamma = 0 : 보통은 0.1 ~ 0.2의 값에서부터 튜닝을 시작하지만, 나중에 튜닝하자.\n",
    "4. subsample, colsample_bytree = 0.8 : 보통 0.5 ~ 0.9의 값을 가지고 시작한다.\n",
    " - 하지만, test set을 별도로 구비한 경우는 1.0으로 시작하는 것이 적절한다.\n",
    "5. scale_pos_weight = 1 : 불균형 class 문제인 경우는 크거나 작게 설정하는 것이 좋다.\n",
    " - 그냥 AUR 만으로 판정할 수도 있다.\n",
    " \n",
    "이와 같은 설정은 모두 초기값일 뿐이다. 이 값들은 나중에 모두 튜닝할 것이다. 일단, **학습률을 0.1로 설정한 상태에서 tree의 수를 1000**으로 결정하자."
   ]
  },
  {
   "cell_type": "code",
   "execution_count": 16,
   "metadata": {},
   "outputs": [],
   "source": [
    "from matplotlib.pylab import rcParams\n",
    "rcParams['figure.figsize'] = 12, 4"
   ]
  },
  {
   "cell_type": "code",
   "execution_count": 18,
   "metadata": {},
   "outputs": [
    {
     "name": "stdout",
     "output_type": "stream",
     "text": [
      "\n",
      "Model Train Report\n",
      "Accuracy : 0.7471\n",
      "AUC Score (Train): 0.816350\n",
      "\n",
      "Model Test Report\n",
      "Accuracy : 0.7259\n",
      "AUC Score (Train): 0.784820\n"
     ]
    },
    {
     "data": {
      "image/png": "[encoded data removed]",
      "text/plain": [
       "<Figure size 864x288 with 1 Axes>"
      ]
     },
     "metadata": {
      "needs_background": "light"
     },
     "output_type": "display_data"
    }
   ],
   "source": [
    "predictors = [x for x in dtrain.columns if x not in [target]]\n",
    "xgb1 = xgb.XGBClassifier(\n",
    "    learning_rate =0.1,\n",
    "    n_estimators=1000,\n",
    "    max_depth=5,\n",
    "    min_child_weight=1,\n",
    "    gamma=0,\n",
    "    subsample=0.8, \n",
    "    colsample_bytree=0.8,\n",
    "    tree_method=\"exact\",\n",
    "    objective= 'binary:logistic',\n",
    "    scale_pos_weight=1,\n",
    "    seed=27)\n",
    "modelfit(xgb1, dtrain, predictors, dtest=dtest)"
   ]
  },
  {
   "cell_type": "markdown",
   "metadata": {},
   "source": [
    "predict_proba 메소드는 label 0과 1에 대한 prediction probability를 (n_samples, 2) shape의 np.array로 리턴한다.\n",
    "\n",
    "- 아래 AUC 계산을 위해서는 단지 label=1인 primary class에 대한 probability만 필요하다."
   ]
  },
  {
   "cell_type": "code",
   "execution_count": 121,
   "metadata": {},
   "outputs": [
    {
     "name": "stdout",
     "output_type": "stream",
     "text": [
      "\n",
      "Model Report\n",
      "Accuracy : 0.726\n",
      "AUC Score (Train): 0.785690\n"
     ]
    },
    {
     "name": "stderr",
     "output_type": "stream",
     "text": [
      "C:\\Users\\great\\Anaconda3\\lib\\site-packages\\sklearn\\preprocessing\\label.py:151: DeprecationWarning: The truth value of an empty array is ambiguous. Returning False, but in future this will result in an error. Use `array.size > 0` to check that an array is not empty.\n",
      "  if diff:\n"
     ]
    }
   ],
   "source": [
    "dtest_predictions = xgb1.predict(dtest[predictors])\n",
    "dtest_predprob = xgb1.predict_proba(dtest[predictors])[:,1]\n",
    "\n",
    "#Print model report:\n",
    "print (\"\\nModel Report\")\n",
    "print (\"Accuracy : %.4g\" % metrics.accuracy_score(dtest['INFANT_ALIVE_AT_REPORT'].values, dtest_predictions))\n",
    "print (\"AUC Score (Train): %f\" % metrics.roc_auc_score(dtest['INFANT_ALIVE_AT_REPORT'], dtest_predprob))"
   ]
  },
  {
   "cell_type": "code",
   "execution_count": 20,
   "metadata": {},
   "outputs": [
    {
     "data": {
      "text/plain": [
       "120"
      ]
     },
     "execution_count": 20,
     "metadata": {},
     "output_type": "execute_result"
    }
   ],
   "source": [
    "xgb1.get_params()['n_estimators']"
   ]
  },
  {
   "cell_type": "markdown",
   "metadata": {},
   "source": [
    "#### (2) Step 2: max_depth, min_child_weight 튜닝\n",
    "먼저 모델 성능에 가장 큰 영향을 줄 수 있는 파라미터를 넓은 영역에 걸쳐 튜닝하자. 시간이 많이 걸리므로, iteration의 수를 줄여보자."
   ]
  },
  {
   "cell_type": "code",
   "execution_count": 24,
   "metadata": {},
   "outputs": [
    {
     "name": "stderr",
     "output_type": "stream",
     "text": [
      "C:\\Users\\CPB-Han01\\anaconda3\\lib\\site-packages\\sklearn\\model_selection\\_search.py:823: FutureWarning: The parameter 'iid' is deprecated in 0.22 and will be removed in 0.24.\n",
      "  \"removed in 0.24.\", FutureWarning\n"
     ]
    },
    {
     "name": "stdout",
     "output_type": "stream",
     "text": [
      "76.37477993965149\n"
     ]
    },
    {
     "data": {
      "text/plain": [
       "({'mean_fit_time': array([2.9464335 , 2.61492276, 2.62193608, 3.86833754, 4.20243998,\n",
       "         4.23065667, 6.03821559, 5.50712342, 5.46033101, 7.07623348,\n",
       "         7.28184438, 6.51374726]),\n",
       "  'std_fit_time': array([0.13903093, 0.06032581, 0.15145755, 0.1821512 , 0.30417409,\n",
       "         0.15833206, 0.43041164, 0.23200703, 0.20190164, 0.42030203,\n",
       "         0.13267835, 0.4231559 ]),\n",
       "  'mean_score_time': array([0.03889527, 0.03271275, 0.03311167, 0.04108977, 0.04348359,\n",
       "         0.05046487, 0.05516453, 0.05186133, 0.05365648, 0.06652408,\n",
       "         0.06462731, 0.06084633]),\n",
       "  'std_score_time': array([0.00454905, 0.00132321, 0.00159552, 0.00146553, 0.00205316,\n",
       "         0.0042118 , 0.00417323, 0.00126116, 0.00146626, 0.00263273,\n",
       "         0.00222098, 0.0047167 ]),\n",
       "  'param_max_depth': masked_array(data=[3, 3, 3, 5, 5, 5, 7, 7, 7, 9, 9, 9],\n",
       "               mask=[False, False, False, False, False, False, False, False,\n",
       "                     False, False, False, False],\n",
       "         fill_value='?',\n",
       "              dtype=object),\n",
       "  'param_min_child_weight': masked_array(data=[1, 3, 5, 1, 3, 5, 1, 3, 5, 1, 3, 5],\n",
       "               mask=[False, False, False, False, False, False, False, False,\n",
       "                     False, False, False, False],\n",
       "         fill_value='?',\n",
       "              dtype=object),\n",
       "  'params': [{'max_depth': 3, 'min_child_weight': 1},\n",
       "   {'max_depth': 3, 'min_child_weight': 3},\n",
       "   {'max_depth': 3, 'min_child_weight': 5},\n",
       "   {'max_depth': 5, 'min_child_weight': 1},\n",
       "   {'max_depth': 5, 'min_child_weight': 3},\n",
       "   {'max_depth': 5, 'min_child_weight': 5},\n",
       "   {'max_depth': 7, 'min_child_weight': 1},\n",
       "   {'max_depth': 7, 'min_child_weight': 3},\n",
       "   {'max_depth': 7, 'min_child_weight': 5},\n",
       "   {'max_depth': 9, 'min_child_weight': 1},\n",
       "   {'max_depth': 9, 'min_child_weight': 3},\n",
       "   {'max_depth': 9, 'min_child_weight': 5}],\n",
       "  'split0_test_score': array([0.78853392, 0.78883358, 0.78817992, 0.78660605, 0.78763424,\n",
       "         0.78676221, 0.78536058, 0.78411759, 0.7867443 , 0.78136846,\n",
       "         0.77964178, 0.78112125]),\n",
       "  'split1_test_score': array([0.78751586, 0.7879237 , 0.7876752 , 0.78577461, 0.78693097,\n",
       "         0.78627216, 0.78240877, 0.78502128, 0.78435845, 0.77849803,\n",
       "         0.77873753, 0.7810132 ]),\n",
       "  'split2_test_score': array([0.79176017, 0.79142923, 0.79199793, 0.79193242, 0.79137193,\n",
       "         0.79171098, 0.78816701, 0.79024094, 0.78974265, 0.78483379,\n",
       "         0.78470003, 0.78678975]),\n",
       "  'split3_test_score': array([0.78440061, 0.7842243 , 0.78405047, 0.78530026, 0.78367618,\n",
       "         0.78403112, 0.77911014, 0.78167222, 0.78247864, 0.77455775,\n",
       "         0.77644983, 0.77763693]),\n",
       "  'split4_test_score': array([0.79691749, 0.79684252, 0.7970455 , 0.79815699, 0.798208  ,\n",
       "         0.79853311, 0.79485865, 0.7966723 , 0.79610933, 0.79287537,\n",
       "         0.7932026 , 0.79250489]),\n",
       "  'mean_test_score': array([0.78982561, 0.78985067, 0.7897898 , 0.78955406, 0.78956426,\n",
       "         0.78946192, 0.78598103, 0.78754486, 0.78788667, 0.78242668,\n",
       "         0.78254635, 0.7838132 ]),\n",
       "  'std_test_score': array([0.00425373, 0.00419002, 0.00441643, 0.004914  , 0.0049661 ,\n",
       "         0.00518269, 0.00536555, 0.00535129, 0.00477613, 0.00622002,\n",
       "         0.00597169, 0.00524668]),\n",
       "  'rank_test_score': array([ 2,  1,  3,  5,  4,  6,  9,  8,  7, 12, 11, 10])},\n",
       " {'max_depth': 3, 'min_child_weight': 3},\n",
       " 0.7898506667479988)"
      ]
     },
     "execution_count": 24,
     "metadata": {},
     "output_type": "execute_result"
    }
   ],
   "source": [
    "import time\n",
    "start = time.time()\n",
    "param_test1 = {\n",
    " 'max_depth':range(3,10,2),\n",
    " 'min_child_weight':range(1,6,2)\n",
    "}\n",
    "gsearch1 = GridSearchCV(estimator = xgb.XGBClassifier(learning_rate =0.1, \n",
    " n_estimators=140, max_depth=5,\n",
    " min_child_weight=1, gamma=0, subsample=0.8, colsample_bytree=0.8,\n",
    " objective= 'binary:logistic', nthread=4, scale_pos_weight=1, seed=27), \n",
    " param_grid = param_test1, scoring='roc_auc',n_jobs=4,iid=False, cv=5)\n",
    "gsearch1.fit(dtrain[predictors],dtrain[target])\n",
    "print(time.time() - start)\n",
    "gsearch1.cv_results_, gsearch1.best_params_, gsearch1.best_score_"
   ]
  },
  {
   "cell_type": "markdown",
   "metadata": {},
   "source": [
    "- 확실히 iteration 즉, tree의 수가 줄어드니 AUR 값이 낮아졌다.\n",
    "- 이제 위에서 수행한 CPU 속도와 GPU 속도를 비교해보자. iteraton의 수를 약간 늘려보겠다."
   ]
  },
  {
   "cell_type": "code",
   "execution_count": 25,
   "metadata": {},
   "outputs": [
    {
     "name": "stderr",
     "output_type": "stream",
     "text": [
      "C:\\Users\\CPB-Han01\\anaconda3\\lib\\site-packages\\joblib\\externals\\loky\\process_executor.py:706: UserWarning: A worker stopped while some jobs were given to the executor. This can be caused by a too short worker timeout or by a memory leak.\n",
      "  \"timeout or by a memory leak.\", UserWarning\n",
      "C:\\Users\\CPB-Han01\\anaconda3\\lib\\site-packages\\sklearn\\model_selection\\_search.py:823: FutureWarning: The parameter 'iid' is deprecated in 0.22 and will be removed in 0.24.\n",
      "  \"removed in 0.24.\", FutureWarning\n"
     ]
    },
    {
     "name": "stdout",
     "output_type": "stream",
     "text": [
      "88.22900867462158\n"
     ]
    },
    {
     "data": {
      "text/plain": [
       "({'mean_fit_time': array([ 1.90609312,  1.57711058,  1.50279903,  3.0741693 ,  2.89012589,\n",
       "          2.80064502,  6.81158109,  6.00078812,  5.51606288, 14.55545816,\n",
       "         11.10259366,  8.37210422]),\n",
       "  'std_fit_time': array([0.29813344, 0.10927328, 0.04597002, 0.05852614, 0.04457694,\n",
       "         0.04650705, 0.08394919, 0.1266072 , 0.07466739, 0.2918125 ,\n",
       "         0.1923584 , 1.18189632]),\n",
       "  'mean_score_time': array([0.03410883, 0.03141804, 0.02892308, 0.03729796, 0.04089146,\n",
       "         0.0404922 , 0.06103764, 0.05385585, 0.05565062, 0.06522574,\n",
       "         0.06961403, 0.06104007]),\n",
       "  'std_score_time': array([0.00291778, 0.00596684, 0.0071084 , 0.00370589, 0.00574632,\n",
       "         0.00648124, 0.00851942, 0.00315404, 0.01182418, 0.00597034,\n",
       "         0.00364545, 0.00977358]),\n",
       "  'param_max_depth': masked_array(data=[3, 3, 3, 5, 5, 5, 7, 7, 7, 9, 9, 9],\n",
       "               mask=[False, False, False, False, False, False, False, False,\n",
       "                     False, False, False, False],\n",
       "         fill_value='?',\n",
       "              dtype=object),\n",
       "  'param_min_child_weight': masked_array(data=[1, 3, 5, 1, 3, 5, 1, 3, 5, 1, 3, 5],\n",
       "               mask=[False, False, False, False, False, False, False, False,\n",
       "                     False, False, False, False],\n",
       "         fill_value='?',\n",
       "              dtype=object),\n",
       "  'params': [{'max_depth': 3, 'min_child_weight': 1},\n",
       "   {'max_depth': 3, 'min_child_weight': 3},\n",
       "   {'max_depth': 3, 'min_child_weight': 5},\n",
       "   {'max_depth': 5, 'min_child_weight': 1},\n",
       "   {'max_depth': 5, 'min_child_weight': 3},\n",
       "   {'max_depth': 5, 'min_child_weight': 5},\n",
       "   {'max_depth': 7, 'min_child_weight': 1},\n",
       "   {'max_depth': 7, 'min_child_weight': 3},\n",
       "   {'max_depth': 7, 'min_child_weight': 5},\n",
       "   {'max_depth': 9, 'min_child_weight': 1},\n",
       "   {'max_depth': 9, 'min_child_weight': 3},\n",
       "   {'max_depth': 9, 'min_child_weight': 5}],\n",
       "  'split0_test_score': array([0.7888799 , 0.78936037, 0.78949956, 0.78849765, 0.78841571,\n",
       "         0.78858696, 0.78462765, 0.78264955, 0.7856315 , 0.77589425,\n",
       "         0.77844204, 0.77874982]),\n",
       "  'split1_test_score': array([0.78819655, 0.78836445, 0.78743526, 0.78525305, 0.78627146,\n",
       "         0.78563056, 0.77898905, 0.77850496, 0.78052243, 0.7726868 ,\n",
       "         0.77454741, 0.77624106]),\n",
       "  'split2_test_score': array([0.7930922 , 0.79336307, 0.79386552, 0.79047099, 0.7914178 ,\n",
       "         0.79218102, 0.78765061, 0.78728725, 0.7873975 , 0.77802522,\n",
       "         0.78330615, 0.78505389]),\n",
       "  'split3_test_score': array([0.78456331, 0.78444643, 0.78420139, 0.78395452, 0.78406927,\n",
       "         0.7828177 , 0.77988197, 0.779937  , 0.77933434, 0.76978254,\n",
       "         0.7720929 , 0.77385633]),\n",
       "  'split4_test_score': array([0.79823606, 0.79819558, 0.79856156, 0.79808766, 0.79694871,\n",
       "         0.79737466, 0.7946143 , 0.79449801, 0.79536515, 0.78901446,\n",
       "         0.79097403, 0.79134798]),\n",
       "  'mean_test_score': array([0.7905936 , 0.79074598, 0.79071266, 0.78925277, 0.78942459,\n",
       "         0.78931818, 0.78515272, 0.78457535, 0.78565018, 0.77708065,\n",
       "         0.7798725 , 0.78104981]),\n",
       "  'std_test_score': array([0.00468396, 0.00468234, 0.00502305, 0.00498355, 0.00447716,\n",
       "         0.00508905, 0.00568873, 0.00579459, 0.00572045, 0.00659218,\n",
       "         0.00672248, 0.00635995]),\n",
       "  'rank_test_score': array([ 3,  1,  2,  6,  4,  5,  8,  9,  7, 12, 11, 10])},\n",
       " {'max_depth': 3, 'min_child_weight': 3},\n",
       " 0.7907459807321979)"
      ]
     },
     "execution_count": 25,
     "metadata": {},
     "output_type": "execute_result"
    }
   ],
   "source": [
    "start = time.time()\n",
    "param_test1 = {\n",
    " 'max_depth':range(3,10,2),\n",
    " 'min_child_weight':range(1,6,2)\n",
    "}\n",
    "gsearch1 = GridSearchCV(estimator = xgb.XGBClassifier(learning_rate =0.1, \n",
    " n_estimators=200, max_depth=5, min_child_weight=1, \n",
    " gamma=0, subsample=0.8, colsample_bytree=0.8, tree_method=\"gpu_hist\",\n",
    " objective= 'binary:logistic', nthread=4, scale_pos_weight=1, seed=27), \n",
    " param_grid = param_test1, scoring='roc_auc',n_jobs=4,iid=False, cv=5)\n",
    "gsearch1.fit(dtrain[predictors],dtrain[target])\n",
    "print(time.time() - start)\n",
    "gsearch1.cv_results_, gsearch1.best_params_, gsearch1.best_score_"
   ]
  },
  {
   "cell_type": "markdown",
   "metadata": {},
   "source": [
    "- 데이터량이 작은 경우, gpu를 사용하는 것이 더 속도가 느릴 수도 있다.\n",
    "- 그러나 iteration이 늘어난 것과 비교해보면, 더 빠르다고 판단할 수 있다.\n",
    "- 특히나, \"gpu_exact\"는 더 느린 결과가 나타날 수 있다."
   ]
  },
  {
   "cell_type": "markdown",
   "metadata": {},
   "source": [
    "이를 다음과 같은 range를 통해 확인해본다."
   ]
  },
  {
   "cell_type": "code",
   "execution_count": 26,
   "metadata": {},
   "outputs": [
    {
     "name": "stderr",
     "output_type": "stream",
     "text": [
      "C:\\Users\\CPB-Han01\\anaconda3\\lib\\site-packages\\sklearn\\model_selection\\_search.py:823: FutureWarning: The parameter 'iid' is deprecated in 0.22 and will be removed in 0.24.\n",
      "  \"removed in 0.24.\", FutureWarning\n"
     ]
    },
    {
     "name": "stdout",
     "output_type": "stream",
     "text": [
      "25.996331930160522\n"
     ]
    },
    {
     "data": {
      "text/plain": [
       "({'mean_fit_time': array([1.6011601 , 1.54959579, 1.57113204, 2.1165545 , 2.09667869,\n",
       "         2.06098161, 3.00554914, 2.96467705, 2.48044624]),\n",
       "  'std_fit_time': array([0.01980583, 0.02674902, 0.02277087, 0.06025001, 0.04823099,\n",
       "         0.03292973, 0.05981005, 0.05344507, 0.581512  ]),\n",
       "  'mean_score_time': array([0.03051195, 0.03310986, 0.03271251, 0.03350415, 0.03390927,\n",
       "         0.03291163, 0.04029489, 0.0418819 , 0.03567567]),\n",
       "  'std_score_time': array([0.00431331, 0.00490241, 0.00270578, 0.00857527, 0.00398945,\n",
       "         0.00538927, 0.00965875, 0.00471794, 0.0084331 ]),\n",
       "  'param_max_depth': masked_array(data=[3, 3, 3, 4, 4, 4, 5, 5, 5],\n",
       "               mask=[False, False, False, False, False, False, False, False,\n",
       "                     False],\n",
       "         fill_value='?',\n",
       "              dtype=object),\n",
       "  'param_min_child_weight': masked_array(data=[1, 2, 3, 1, 2, 3, 1, 2, 3],\n",
       "               mask=[False, False, False, False, False, False, False, False,\n",
       "                     False],\n",
       "         fill_value='?',\n",
       "              dtype=object),\n",
       "  'params': [{'max_depth': 3, 'min_child_weight': 1},\n",
       "   {'max_depth': 3, 'min_child_weight': 2},\n",
       "   {'max_depth': 3, 'min_child_weight': 3},\n",
       "   {'max_depth': 4, 'min_child_weight': 1},\n",
       "   {'max_depth': 4, 'min_child_weight': 2},\n",
       "   {'max_depth': 4, 'min_child_weight': 3},\n",
       "   {'max_depth': 5, 'min_child_weight': 1},\n",
       "   {'max_depth': 5, 'min_child_weight': 2},\n",
       "   {'max_depth': 5, 'min_child_weight': 3}],\n",
       "  'split0_test_score': array([0.7888799 , 0.78910628, 0.78936037, 0.7897204 , 0.78946339,\n",
       "         0.78884744, 0.78849765, 0.7877902 , 0.78841571]),\n",
       "  'split1_test_score': array([0.78819655, 0.78789238, 0.78836445, 0.787259  , 0.78725439,\n",
       "         0.78660048, 0.78525305, 0.78498694, 0.78627146]),\n",
       "  'split2_test_score': array([0.7930922 , 0.7930686 , 0.79336307, 0.79179327, 0.79284553,\n",
       "         0.79347287, 0.79047099, 0.79191347, 0.7914178 ]),\n",
       "  'split3_test_score': array([0.78456331, 0.78437122, 0.78444643, 0.78409975, 0.78340229,\n",
       "         0.78392993, 0.78395452, 0.78326983, 0.78406927]),\n",
       "  'split4_test_score': array([0.79823606, 0.79807653, 0.79819558, 0.79743315, 0.79820291,\n",
       "         0.79826659, 0.79808766, 0.79725021, 0.79694871]),\n",
       "  'mean_test_score': array([0.7905936 , 0.790503  , 0.79074598, 0.79006111, 0.7902337 ,\n",
       "         0.79022346, 0.78925277, 0.78904213, 0.78942459]),\n",
       "  'std_test_score': array([0.00468396, 0.00469692, 0.00468234, 0.00449117, 0.00502927,\n",
       "         0.00509664, 0.00498355, 0.00503882, 0.00447716]),\n",
       "  'rank_test_score': array([2, 3, 1, 6, 4, 5, 8, 9, 7])},\n",
       " {'max_depth': 3, 'min_child_weight': 3},\n",
       " 0.7907459807321979)"
      ]
     },
     "execution_count": 26,
     "metadata": {},
     "output_type": "execute_result"
    }
   ],
   "source": [
    "start = time.time()\n",
    "param_test1 = {\n",
    " 'max_depth':[3,4,5],\n",
    " 'min_child_weight':[1,2,3]\n",
    "}\n",
    "gsearch1 = GridSearchCV(estimator = xgb.XGBClassifier(learning_rate =0.1, n_estimators=200, max_depth=5,\n",
    " min_child_weight=1, gamma=0, subsample=0.8, colsample_bytree=0.8, tree_method=\"gpu_hist\",\n",
    " objective= 'binary:logistic', nthread=4, scale_pos_weight=1, seed=27), \n",
    " param_grid = param_test1, scoring='roc_auc',n_jobs=4,iid=False, cv=5)\n",
    "gsearch1.fit(dtrain[predictors],dtrain[target])\n",
    "print(time.time() - start)\n",
    "gsearch1.cv_results_, gsearch1.best_params_, gsearch1.best_score_"
   ]
  },
  {
   "cell_type": "markdown",
   "metadata": {},
   "source": [
    "- 최적인 조합은 {'max_depth': 3, 'min_child_weight': 3}로 판단된다.\n",
    "\n",
    "최적의 값에 가까워지면서, gain의 값의 차이는 매우 적다. max_depth의 3 근방에서의 최대값이 모호해보인다. 한번만 더 확인해보자."
   ]
  },
  {
   "cell_type": "code",
   "execution_count": 28,
   "metadata": {},
   "outputs": [
    {
     "name": "stderr",
     "output_type": "stream",
     "text": [
      "C:\\Users\\CPB-Han01\\anaconda3\\lib\\site-packages\\sklearn\\model_selection\\_search.py:823: FutureWarning: The parameter 'iid' is deprecated in 0.22 and will be removed in 0.24.\n",
      "  \"removed in 0.24.\", FutureWarning\n"
     ]
    },
    {
     "name": "stdout",
     "output_type": "stream",
     "text": [
      "21.761050701141357\n"
     ]
    },
    {
     "data": {
      "text/plain": [
       "({'mean_fit_time': array([1.4912097 , 1.23830023, 1.22307405, 1.53473821, 1.52998328,\n",
       "         1.56781025, 2.13460374, 2.081671  , 1.78276296]),\n",
       "  'std_fit_time': array([0.1790413 , 0.01832408, 0.04051915, 0.0347091 , 0.08343652,\n",
       "         0.05369693, 0.08103989, 0.01977378, 0.39880797]),\n",
       "  'mean_score_time': array([0.03849669, 0.02633052, 0.0229383 , 0.0279254 , 0.02653036,\n",
       "         0.02912135, 0.03640451, 0.03251314, 0.03042526]),\n",
       "  'std_score_time': array([0.00919592, 0.00632824, 0.00454732, 0.00398948, 0.00482865,\n",
       "         0.00424999, 0.00295994, 0.0017386 , 0.00787079]),\n",
       "  'param_max_depth': masked_array(data=[2, 2, 2, 3, 3, 3, 4, 4, 4],\n",
       "               mask=[False, False, False, False, False, False, False, False,\n",
       "                     False],\n",
       "         fill_value='?',\n",
       "              dtype=object),\n",
       "  'param_min_child_weight': masked_array(data=[1, 2, 3, 1, 2, 3, 1, 2, 3],\n",
       "               mask=[False, False, False, False, False, False, False, False,\n",
       "                     False],\n",
       "         fill_value='?',\n",
       "              dtype=object),\n",
       "  'params': [{'max_depth': 2, 'min_child_weight': 1},\n",
       "   {'max_depth': 2, 'min_child_weight': 2},\n",
       "   {'max_depth': 2, 'min_child_weight': 3},\n",
       "   {'max_depth': 3, 'min_child_weight': 1},\n",
       "   {'max_depth': 3, 'min_child_weight': 2},\n",
       "   {'max_depth': 3, 'min_child_weight': 3},\n",
       "   {'max_depth': 4, 'min_child_weight': 1},\n",
       "   {'max_depth': 4, 'min_child_weight': 2},\n",
       "   {'max_depth': 4, 'min_child_weight': 3}],\n",
       "  'split0_test_score': array([0.78865184, 0.78856381, 0.7888604 , 0.7888799 , 0.78910628,\n",
       "         0.78936037, 0.7897204 , 0.78946339, 0.78884744]),\n",
       "  'split1_test_score': array([0.78577124, 0.7859856 , 0.78594804, 0.78819655, 0.78789238,\n",
       "         0.78836445, 0.787259  , 0.78725439, 0.78660048]),\n",
       "  'split2_test_score': array([0.79181287, 0.79174077, 0.79173681, 0.7930922 , 0.7930686 ,\n",
       "         0.79336307, 0.79179327, 0.79284553, 0.79347287]),\n",
       "  'split3_test_score': array([0.78285738, 0.78288262, 0.78279721, 0.78456331, 0.78437122,\n",
       "         0.78444643, 0.78409975, 0.78340229, 0.78392993]),\n",
       "  'split4_test_score': array([0.79639786, 0.79669778, 0.79643592, 0.79823606, 0.79807653,\n",
       "         0.79819558, 0.79743315, 0.79820291, 0.79826659]),\n",
       "  'mean_test_score': array([0.78909824, 0.78917412, 0.78915568, 0.7905936 , 0.790503  ,\n",
       "         0.79074598, 0.79006111, 0.7902337 , 0.79022346]),\n",
       "  'std_test_score': array([0.00470893, 0.00476057, 0.00470043, 0.00468396, 0.00469692,\n",
       "         0.00468234, 0.00449117, 0.00502927, 0.00509664]),\n",
       "  'rank_test_score': array([9, 7, 8, 2, 3, 1, 6, 4, 5])},\n",
       " {'max_depth': 3, 'min_child_weight': 3},\n",
       " 0.7907459807321979)"
      ]
     },
     "execution_count": 28,
     "metadata": {},
     "output_type": "execute_result"
    }
   ],
   "source": [
    "start = time.time()\n",
    "param_test1 = {\n",
    " 'max_depth':[2,3,4],\n",
    " 'min_child_weight':[1,2,3]\n",
    "}\n",
    "gsearch1 = GridSearchCV(estimator = xgb.XGBClassifier(learning_rate =0.1, n_estimators=200, max_depth=5,\n",
    " min_child_weight=1, gamma=0, subsample=0.8, colsample_bytree=0.8, tree_method=\"gpu_hist\",\n",
    " objective= 'binary:logistic', nthread=4, scale_pos_weight=1, seed=27), \n",
    " param_grid = param_test1, scoring='roc_auc',n_jobs=4,iid=False, cv=5)\n",
    "gsearch1.fit(dtrain[predictors],dtrain[target])\n",
    "print(time.time() - start)\n",
    "gsearch1.cv_results_, gsearch1.best_params_, gsearch1.best_score_"
   ]
  },
  {
   "cell_type": "markdown",
   "metadata": {},
   "source": [
    "- 역시 최적인 조합은 {'max_depth': 3, 'min_child_weight': 3}로 판단된다.\n",
    "\n",
    "이제 위에서 고정한 {'max_depth': 3, 'min_child_weight': 2}을 base로하여 gamma의 값을 튜닝해보자.\n",
    "\n",
    "#### (3) Step 3: Tune gamma\n"
   ]
  },
  {
   "cell_type": "code",
   "execution_count": 30,
   "metadata": {},
   "outputs": [
    {
     "name": "stderr",
     "output_type": "stream",
     "text": [
      "C:\\Users\\CPB-Han01\\anaconda3\\lib\\site-packages\\sklearn\\model_selection\\_search.py:823: FutureWarning: The parameter 'iid' is deprecated in 0.22 and will be removed in 0.24.\n",
      "  \"removed in 0.24.\", FutureWarning\n"
     ]
    },
    {
     "name": "stdout",
     "output_type": "stream",
     "text": [
      "13.185024976730347\n"
     ]
    },
    {
     "data": {
      "text/plain": [
       "({'mean_fit_time': array([1.90922108, 1.58356123, 1.58417149, 1.53451462, 1.33469486]),\n",
       "  'std_fit_time': array([0.18845615, 0.03038948, 0.02302278, 0.02400047, 0.39487795]),\n",
       "  'mean_score_time': array([0.03909564, 0.02912273, 0.03470683, 0.02991538, 0.02952142]),\n",
       "  'std_score_time': array([0.00513993, 0.00255384, 0.00674669, 0.00554428, 0.00859324]),\n",
       "  'param_gamma': masked_array(data=[0.0, 0.1, 0.2, 0.3, 0.4],\n",
       "               mask=[False, False, False, False, False],\n",
       "         fill_value='?',\n",
       "              dtype=object),\n",
       "  'params': [{'gamma': 0.0},\n",
       "   {'gamma': 0.1},\n",
       "   {'gamma': 0.2},\n",
       "   {'gamma': 0.3},\n",
       "   {'gamma': 0.4}],\n",
       "  'split0_test_score': array([0.78936037, 0.78894244, 0.78898351, 0.7888699 , 0.78887624]),\n",
       "  'split1_test_score': array([0.78836445, 0.78800045, 0.78829146, 0.78833679, 0.78846584]),\n",
       "  'split2_test_score': array([0.79336307, 0.79366467, 0.79366467, 0.7936663 , 0.79366789]),\n",
       "  'split3_test_score': array([0.78444643, 0.78444643, 0.78444574, 0.78444574, 0.78444574]),\n",
       "  'split4_test_score': array([0.79819558, 0.79791719, 0.79827708, 0.79851989, 0.79832127]),\n",
       "  'mean_test_score': array([0.79074598, 0.79059424, 0.79073249, 0.79076773, 0.79075539]),\n",
       "  'std_test_score': array([0.00468234, 0.00469691, 0.00477618, 0.0048575 , 0.00478143]),\n",
       "  'rank_test_score': array([3, 5, 4, 1, 2])},\n",
       " {'gamma': 0.3},\n",
       " 0.7907677252835528)"
      ]
     },
     "execution_count": 30,
     "metadata": {},
     "output_type": "execute_result"
    }
   ],
   "source": [
    "start = time.time()\n",
    "param_test3 = {\n",
    " 'gamma':[i/10.0 for i in range(0,5)]\n",
    "}\n",
    "gsearch3 = GridSearchCV(estimator = xgb.XGBClassifier(learning_rate =0.1, n_estimators=200, max_depth=3,\n",
    " min_child_weight=3, gamma=0, subsample=0.8, colsample_bytree=0.8, tree_method=\"gpu_hist\",\n",
    " objective= 'binary:logistic', nthread=4, scale_pos_weight=1,seed=27), \n",
    " param_grid = param_test3, scoring='roc_auc',n_jobs=4,iid=False, cv=5)\n",
    "gsearch3.fit(dtrain[predictors],dtrain[target])\n",
    "print(time.time() - start)\n",
    "gsearch3.cv_results_ , gsearch3.best_params_, gsearch3.best_score_"
   ]
  },
  {
   "cell_type": "markdown",
   "metadata": {},
   "source": [
    "- gamma에 의한 gain의 변동이 없는 것으로 보여진다.\n",
    "\n",
    "gamma의 scale을 좀 더 낮게하여 검색해보자."
   ]
  },
  {
   "cell_type": "code",
   "execution_count": 32,
   "metadata": {},
   "outputs": [
    {
     "name": "stderr",
     "output_type": "stream",
     "text": [
      "C:\\Users\\CPB-Han01\\anaconda3\\lib\\site-packages\\sklearn\\model_selection\\_search.py:823: FutureWarning: The parameter 'iid' is deprecated in 0.22 and will be removed in 0.24.\n",
      "  \"removed in 0.24.\", FutureWarning\n"
     ]
    },
    {
     "name": "stdout",
     "output_type": "stream",
     "text": [
      "6.791208744049072\n"
     ]
    },
    {
     "data": {
      "text/plain": [
       "({'mean_fit_time': array([1.5801259 , 1.62279487, 1.37314219]),\n",
       "  'std_fit_time': array([0.01717816, 0.01287451, 0.17605579]),\n",
       "  'mean_score_time': array([0.03271208, 0.03311172, 0.0339098 ]),\n",
       "  'std_score_time': array([0.0058629 , 0.00554923, 0.00710905]),\n",
       "  'param_gamma': masked_array(data=[0.07, 0.08, 0.09],\n",
       "               mask=[False, False, False],\n",
       "         fill_value='?',\n",
       "              dtype=object),\n",
       "  'params': [{'gamma': 0.07}, {'gamma': 0.08}, {'gamma': 0.09}],\n",
       "  'split0_test_score': array([0.78906095, 0.78910356, 0.78910841]),\n",
       "  'split1_test_score': array([0.78790049, 0.78770291, 0.78770291]),\n",
       "  'split2_test_score': array([0.7930686 , 0.7930686 , 0.79306791]),\n",
       "  'split3_test_score': array([0.7846217, 0.7846217, 0.7846217]),\n",
       "  'split4_test_score': array([0.79787508, 0.79778255, 0.79778255]),\n",
       "  'mean_test_score': array([0.79050537, 0.79045586, 0.79045669]),\n",
       "  'std_test_score': array([0.00456885, 0.00455964, 0.00455927]),\n",
       "  'rank_test_score': array([1, 3, 2])},\n",
       " {'gamma': 0.07},\n",
       " 0.7905053657137829)"
      ]
     },
     "execution_count": 32,
     "metadata": {},
     "output_type": "execute_result"
    }
   ],
   "source": [
    "start = time.time()\n",
    "param_test3 = {\n",
    " 'gamma':[i/100.0 for i in range(7,10)]\n",
    "}\n",
    "gsearch3 = GridSearchCV(estimator = xgb.XGBClassifier( learning_rate =0.1, n_estimators=200, max_depth=3,\n",
    " min_child_weight=2, gamma=0, subsample=0.8, colsample_bytree=0.8, tree_method=\"gpu_hist\",\n",
    " objective= 'binary:logistic', nthread=4, scale_pos_weight=1,seed=27), \n",
    " param_grid = param_test3, scoring='roc_auc',n_jobs=4,iid=False, cv=5)\n",
    "gsearch3.fit(dtrain[predictors],dtrain[target])\n",
    "print(time.time() - start)\n",
    "gsearch3.cv_results_, gsearch3.best_params_, gsearch3.best_score_"
   ]
  },
  {
   "cell_type": "code",
   "execution_count": 33,
   "metadata": {},
   "outputs": [
    {
     "name": "stderr",
     "output_type": "stream",
     "text": [
      "C:\\Users\\CPB-Han01\\anaconda3\\lib\\site-packages\\sklearn\\model_selection\\_search.py:823: FutureWarning: The parameter 'iid' is deprecated in 0.22 and will be removed in 0.24.\n",
      "  \"removed in 0.24.\", FutureWarning\n"
     ]
    },
    {
     "name": "stdout",
     "output_type": "stream",
     "text": [
      "6.937610626220703\n"
     ]
    },
    {
     "data": {
      "text/plain": [
       "({'mean_fit_time': array([1.6850822 , 1.59966211, 1.36638303]),\n",
       "  'std_fit_time': array([0.02551988, 0.03162511, 0.21467878]),\n",
       "  'mean_score_time': array([0.03949604, 0.03470678, 0.03051457]),\n",
       "  'std_score_time': array([0.00562661, 0.0095956 , 0.00712989]),\n",
       "  'param_gamma': masked_array(data=[0.04, 0.05, 0.06],\n",
       "               mask=[False, False, False],\n",
       "         fill_value='?',\n",
       "              dtype=object),\n",
       "  'params': [{'gamma': 0.04}, {'gamma': 0.05}, {'gamma': 0.06}],\n",
       "  'split0_test_score': array([0.78911469, 0.78911469, 0.78906095]),\n",
       "  'split1_test_score': array([0.7878949 , 0.7878949 , 0.78790049]),\n",
       "  'split2_test_score': array([0.7930686, 0.7930686, 0.7930686]),\n",
       "  'split3_test_score': array([0.78436464, 0.78436464, 0.7846217 ]),\n",
       "  'split4_test_score': array([0.79807653, 0.79786929, 0.79786929]),\n",
       "  'mean_test_score': array([0.79050387, 0.79046242, 0.79050421]),\n",
       "  'std_test_score': array([0.00469786, 0.00463131, 0.00456698]),\n",
       "  'rank_test_score': array([2, 3, 1])},\n",
       " {'gamma': 0.06},\n",
       " 0.7905042078114309)"
      ]
     },
     "execution_count": 33,
     "metadata": {},
     "output_type": "execute_result"
    }
   ],
   "source": [
    "start = time.time()\n",
    "param_test3 = {\n",
    " 'gamma':[i/100.0 for i in range(4,7)]\n",
    "}\n",
    "gsearch3 = GridSearchCV(estimator = xgb.XGBClassifier( learning_rate =0.1, n_estimators=200, max_depth=3,\n",
    " min_child_weight=2, gamma=0, subsample=0.8, colsample_bytree=0.8, tree_method=\"gpu_hist\",\n",
    " objective= 'binary:logistic', nthread=4, scale_pos_weight=1,seed=27), \n",
    " param_grid = param_test3, scoring='roc_auc',n_jobs=4,iid=False, cv=5)\n",
    "gsearch3.fit(dtrain[predictors],dtrain[target])\n",
    "print(time.time() - start)\n",
    "gsearch3.cv_results_, gsearch3.best_params_, gsearch3.best_score_"
   ]
  },
  {
   "cell_type": "markdown",
   "metadata": {},
   "source": [
    "- 역시 gamma에 의한 gain의 변동이 없는 것으로 보여진다.\n",
    "\n",
    "#### (4) Step 4: Tune subsample and colsample_bytree\n",
    "다음은 subsample과 colsample_bytree에 변화를 주어 튜닝해보자."
   ]
  },
  {
   "cell_type": "code",
   "execution_count": 34,
   "metadata": {},
   "outputs": [
    {
     "name": "stderr",
     "output_type": "stream",
     "text": [
      "C:\\Users\\CPB-Han01\\anaconda3\\lib\\site-packages\\sklearn\\model_selection\\_search.py:823: FutureWarning: The parameter 'iid' is deprecated in 0.22 and will be removed in 0.24.\n",
      "  \"removed in 0.24.\", FutureWarning\n"
     ]
    },
    {
     "name": "stdout",
     "output_type": "stream",
     "text": [
      "31.985571146011353\n"
     ]
    },
    {
     "data": {
      "text/plain": [
       "({'mean_fit_time': array([1.56725488, 1.52314215, 1.53969903, 1.57261891, 1.42449512,\n",
       "         1.48951082, 1.55893459, 1.5832324 , 1.43540778, 1.46844797,\n",
       "         1.56616387, 1.56144023, 1.48762884, 1.50020766, 1.52018223,\n",
       "         1.40099306]),\n",
       "  'std_fit_time': array([0.10051622, 0.05689671, 0.02584813, 0.04051941, 0.05612192,\n",
       "         0.0495471 , 0.00457958, 0.01878837, 0.05501123, 0.03698336,\n",
       "         0.04223426, 0.06127944, 0.04466073, 0.02708137, 0.03113456,\n",
       "         0.18803844]),\n",
       "  'mean_score_time': array([0.03011951, 0.03271198, 0.02593098, 0.02692714, 0.02812443,\n",
       "         0.02712736, 0.03111672, 0.02692709, 0.02713308, 0.02812924,\n",
       "         0.02951984, 0.02822375, 0.02792454, 0.03011837, 0.03211408,\n",
       "         0.02553167]),\n",
       "  'std_score_time': array([0.00486129, 0.00400946, 0.00260135, 0.00309084, 0.00572465,\n",
       "         0.00434272, 0.00569154, 0.00383636, 0.0019309 , 0.00352993,\n",
       "         0.00809175, 0.00504198, 0.00236151, 0.00659733, 0.00277842,\n",
       "         0.00325291]),\n",
       "  'param_colsample_bytree': masked_array(data=[0.6, 0.6, 0.6, 0.6, 0.7, 0.7, 0.7, 0.7, 0.8, 0.8, 0.8,\n",
       "                     0.8, 0.9, 0.9, 0.9, 0.9],\n",
       "               mask=[False, False, False, False, False, False, False, False,\n",
       "                     False, False, False, False, False, False, False, False],\n",
       "         fill_value='?',\n",
       "              dtype=object),\n",
       "  'param_subsample': masked_array(data=[0.6, 0.7, 0.8, 0.9, 0.6, 0.7, 0.8, 0.9, 0.6, 0.7, 0.8,\n",
       "                     0.9, 0.6, 0.7, 0.8, 0.9],\n",
       "               mask=[False, False, False, False, False, False, False, False,\n",
       "                     False, False, False, False, False, False, False, False],\n",
       "         fill_value='?',\n",
       "              dtype=object),\n",
       "  'params': [{'colsample_bytree': 0.6, 'subsample': 0.6},\n",
       "   {'colsample_bytree': 0.6, 'subsample': 0.7},\n",
       "   {'colsample_bytree': 0.6, 'subsample': 0.8},\n",
       "   {'colsample_bytree': 0.6, 'subsample': 0.9},\n",
       "   {'colsample_bytree': 0.7, 'subsample': 0.6},\n",
       "   {'colsample_bytree': 0.7, 'subsample': 0.7},\n",
       "   {'colsample_bytree': 0.7, 'subsample': 0.8},\n",
       "   {'colsample_bytree': 0.7, 'subsample': 0.9},\n",
       "   {'colsample_bytree': 0.8, 'subsample': 0.6},\n",
       "   {'colsample_bytree': 0.8, 'subsample': 0.7},\n",
       "   {'colsample_bytree': 0.8, 'subsample': 0.8},\n",
       "   {'colsample_bytree': 0.8, 'subsample': 0.9},\n",
       "   {'colsample_bytree': 0.9, 'subsample': 0.6},\n",
       "   {'colsample_bytree': 0.9, 'subsample': 0.7},\n",
       "   {'colsample_bytree': 0.9, 'subsample': 0.8},\n",
       "   {'colsample_bytree': 0.9, 'subsample': 0.9}],\n",
       "  'split0_test_score': array([0.78905833, 0.78901815, 0.788818  , 0.7893578 , 0.79007816,\n",
       "         0.78908946, 0.7886263 , 0.78916808, 0.78909084, 0.78900746,\n",
       "         0.78910628, 0.78875619, 0.78904408, 0.78981541, 0.78910994,\n",
       "         0.78936824]),\n",
       "  'split1_test_score': array([0.78791722, 0.78810709, 0.78755545, 0.7875414 , 0.78795186,\n",
       "         0.78750696, 0.788541  , 0.78662774, 0.78760325, 0.78774413,\n",
       "         0.78789238, 0.78747163, 0.78704231, 0.78683216, 0.78746133,\n",
       "         0.78666015]),\n",
       "  'split2_test_score': array([0.79199383, 0.79282188, 0.79299507, 0.79290902, 0.79209398,\n",
       "         0.79318721, 0.7928622 , 0.79238776, 0.79296266, 0.79259965,\n",
       "         0.7930686 , 0.79281673, 0.79323417, 0.79282212, 0.79330488,\n",
       "         0.79234684]),\n",
       "  'split3_test_score': array([0.78499332, 0.78423999, 0.78466619, 0.78441763, 0.78541051,\n",
       "         0.783832  , 0.78434479, 0.78426028, 0.78494186, 0.7836214 ,\n",
       "         0.78437122, 0.7844306 , 0.7844925 , 0.78405769, 0.7836691 ,\n",
       "         0.78372819]),\n",
       "  'split4_test_score': array([0.79678225, 0.79719761, 0.79789507, 0.79866542, 0.79800448,\n",
       "         0.79794327, 0.79776909, 0.79715936, 0.79728109, 0.79725427,\n",
       "         0.79807653, 0.79765597, 0.79593545, 0.79825813, 0.79829148,\n",
       "         0.79772158]),\n",
       "  'mean_test_score': array([0.79014899, 0.79027694, 0.79038595, 0.79057825, 0.7907078 ,\n",
       "         0.79031178, 0.79042868, 0.78992064, 0.79037594, 0.79004538,\n",
       "         0.790503  , 0.79022622, 0.7899497 , 0.7903571 , 0.79036735,\n",
       "         0.789965  ]),\n",
       "  'std_test_score': array([0.00400387, 0.00440704, 0.0046126 , 0.00488876, 0.00427121,\n",
       "         0.00485503, 0.00455256, 0.0045152 , 0.00431835, 0.00460723,\n",
       "         0.00469692, 0.00458803, 0.00413935, 0.00491739, 0.0050262 ,\n",
       "         0.00481692]),\n",
       "  'rank_test_score': array([12, 10,  5,  2,  1,  9,  4, 16,  6, 13,  3, 11, 15,  8,  7, 14])},\n",
       " {'colsample_bytree': 0.7, 'subsample': 0.6},\n",
       " 0.7907077971296893)"
      ]
     },
     "execution_count": 34,
     "metadata": {},
     "output_type": "execute_result"
    }
   ],
   "source": [
    "start = time.time()\n",
    "param_test4 = {\n",
    " 'subsample':[i/10.0 for i in range(6,10)],\n",
    " 'colsample_bytree':[i/10.0 for i in range(6,10)]\n",
    "}\n",
    "gsearch4 = GridSearchCV(estimator = xgb.XGBClassifier( learning_rate =0.1, n_estimators=200, max_depth=3,\n",
    " min_child_weight=2, gamma=0, subsample=0.8, colsample_bytree=0.8, tree_method=\"gpu_hist\",\n",
    " objective= 'binary:logistic', nthread=4, scale_pos_weight=1,seed=27), \n",
    " param_grid = param_test4, scoring='roc_auc',n_jobs=4,iid=False, cv=5)\n",
    "gsearch4.fit(dtrain[predictors],dtrain[target])\n",
    "print(time.time() - start)\n",
    "gsearch4.cv_results_, gsearch4.best_params_, gsearch4.best_score_"
   ]
  },
  {
   "cell_type": "markdown",
   "metadata": {},
   "source": [
    "- best parameters는 {'colsample_bytree': 0.7, 'subsample': 0.6}이다.\n",
    "- colsample_bytree는 0.6 ~ 0.7, subsample은 0.9 이상이 좋은 경향이 있다.\n",
    "\n",
    "이러한 insight에 맞추어 탐색 영역을 재조정해보자."
   ]
  },
  {
   "cell_type": "code",
   "execution_count": 35,
   "metadata": {},
   "outputs": [
    {
     "name": "stderr",
     "output_type": "stream",
     "text": [
      "C:\\Users\\CPB-Han01\\anaconda3\\lib\\site-packages\\sklearn\\model_selection\\_search.py:823: FutureWarning: The parameter 'iid' is deprecated in 0.22 and will be removed in 0.24.\n",
      "  \"removed in 0.24.\", FutureWarning\n"
     ]
    },
    {
     "name": "stdout",
     "output_type": "stream",
     "text": [
      "38.87879419326782\n"
     ]
    },
    {
     "data": {
      "text/plain": [
       "({'mean_fit_time': array([1.5437233 , 1.49699016, 1.45013065, 1.48525085, 1.48598742,\n",
       "         1.46370091, 1.47568302, 1.49580693, 1.49678092, 1.46531401,\n",
       "         1.4721067 , 1.53223977, 1.48313794, 1.53226762, 1.48273792,\n",
       "         1.48476186, 1.48766155, 1.51436   , 1.53706532, 1.38894153]),\n",
       "  'std_fit_time': array([0.05656741, 0.05079068, 0.04092228, 0.05005269, 0.05306563,\n",
       "         0.06701857, 0.03361292, 0.07140406, 0.02764912, 0.04296756,\n",
       "         0.07288055, 0.03875009, 0.03590571, 0.02255077, 0.04372739,\n",
       "         0.04461929, 0.01359142, 0.04394852, 0.04186497, 0.13269744]),\n",
       "  'mean_score_time': array([0.03271456, 0.03271346, 0.02952447, 0.03371024, 0.0272346 ,\n",
       "         0.02832403, 0.03191504, 0.02912259, 0.0297204 , 0.02473297,\n",
       "         0.0272295 , 0.02872314, 0.02652869, 0.02732682, 0.02832417,\n",
       "         0.0341116 , 0.03131623, 0.03191419, 0.02652936, 0.02792549]),\n",
       "  'std_score_time': array([0.00700765, 0.00330171, 0.00440116, 0.01172283, 0.00147669,\n",
       "         0.0030003 , 0.00658486, 0.00565539, 0.00820957, 0.00364543,\n",
       "         0.00499997, 0.00353527, 0.00286329, 0.00271952, 0.00391843,\n",
       "         0.0027803 , 0.0043059 , 0.00403838, 0.00544764, 0.00549795]),\n",
       "  'param_colsample_bytree': masked_array(data=[0.9, 0.9, 0.9, 0.9, 0.91, 0.91, 0.91, 0.91, 0.92, 0.92,\n",
       "                     0.92, 0.92, 0.93, 0.93, 0.93, 0.93, 0.94, 0.94, 0.94,\n",
       "                     0.94],\n",
       "               mask=[False, False, False, False, False, False, False, False,\n",
       "                     False, False, False, False, False, False, False, False,\n",
       "                     False, False, False, False],\n",
       "         fill_value='?',\n",
       "              dtype=object),\n",
       "  'param_subsample': masked_array(data=[0.6, 0.61, 0.62, 0.63, 0.6, 0.61, 0.62, 0.63, 0.6,\n",
       "                     0.61, 0.62, 0.63, 0.6, 0.61, 0.62, 0.63, 0.6, 0.61,\n",
       "                     0.62, 0.63],\n",
       "               mask=[False, False, False, False, False, False, False, False,\n",
       "                     False, False, False, False, False, False, False, False,\n",
       "                     False, False, False, False],\n",
       "         fill_value='?',\n",
       "              dtype=object),\n",
       "  'params': [{'colsample_bytree': 0.9, 'subsample': 0.6},\n",
       "   {'colsample_bytree': 0.9, 'subsample': 0.61},\n",
       "   {'colsample_bytree': 0.9, 'subsample': 0.62},\n",
       "   {'colsample_bytree': 0.9, 'subsample': 0.63},\n",
       "   {'colsample_bytree': 0.91, 'subsample': 0.6},\n",
       "   {'colsample_bytree': 0.91, 'subsample': 0.61},\n",
       "   {'colsample_bytree': 0.91, 'subsample': 0.62},\n",
       "   {'colsample_bytree': 0.91, 'subsample': 0.63},\n",
       "   {'colsample_bytree': 0.92, 'subsample': 0.6},\n",
       "   {'colsample_bytree': 0.92, 'subsample': 0.61},\n",
       "   {'colsample_bytree': 0.92, 'subsample': 0.62},\n",
       "   {'colsample_bytree': 0.92, 'subsample': 0.63},\n",
       "   {'colsample_bytree': 0.93, 'subsample': 0.6},\n",
       "   {'colsample_bytree': 0.93, 'subsample': 0.61},\n",
       "   {'colsample_bytree': 0.93, 'subsample': 0.62},\n",
       "   {'colsample_bytree': 0.93, 'subsample': 0.63},\n",
       "   {'colsample_bytree': 0.94, 'subsample': 0.6},\n",
       "   {'colsample_bytree': 0.94, 'subsample': 0.61},\n",
       "   {'colsample_bytree': 0.94, 'subsample': 0.62},\n",
       "   {'colsample_bytree': 0.94, 'subsample': 0.63}],\n",
       "  'split0_test_score': array([0.7895105 , 0.78955721, 0.78999998, 0.7902554 , 0.7895105 ,\n",
       "         0.78955721, 0.78999998, 0.7902554 , 0.78962802, 0.78924686,\n",
       "         0.78959798, 0.789639  , 0.78962802, 0.78924686, 0.78959798,\n",
       "         0.789639  , 0.78962802, 0.78924686, 0.78959798, 0.789639  ]),\n",
       "  'split1_test_score': array([0.78706393, 0.78778342, 0.78752823, 0.78705156, 0.78706393,\n",
       "         0.78778342, 0.78752823, 0.78705156, 0.78644347, 0.7869091 ,\n",
       "         0.78686289, 0.78744055, 0.78644347, 0.7869091 , 0.78686289,\n",
       "         0.78744055, 0.78644347, 0.7869091 , 0.78686289, 0.78744055]),\n",
       "  'split2_test_score': array([0.79370416, 0.7936378 , 0.79305474, 0.79328088, 0.79370416,\n",
       "         0.7936378 , 0.79305474, 0.79328088, 0.79355902, 0.79329221,\n",
       "         0.79300932, 0.79290456, 0.79355902, 0.79329221, 0.79300932,\n",
       "         0.79290456, 0.79355902, 0.79329221, 0.79300932, 0.79290456]),\n",
       "  'split3_test_score': array([0.78521134, 0.7846363 , 0.78485046, 0.78513939, 0.78521134,\n",
       "         0.7846363 , 0.78485046, 0.78513939, 0.7853967 , 0.78424682,\n",
       "         0.78436577, 0.78544104, 0.7853967 , 0.78424682, 0.78436577,\n",
       "         0.78544104, 0.7853967 , 0.78424682, 0.78436577, 0.78544104]),\n",
       "  'split4_test_score': array([0.79636149, 0.79683485, 0.79748115, 0.79826506, 0.79636149,\n",
       "         0.79683485, 0.79748115, 0.79826506, 0.79731998, 0.79697741,\n",
       "         0.79754305, 0.79836541, 0.79731998, 0.79697741, 0.79754305,\n",
       "         0.79836541, 0.79731998, 0.79697741, 0.79754305, 0.79836541]),\n",
       "  'mean_test_score': array([0.79037029, 0.79048992, 0.79058291, 0.79079846, 0.79037029,\n",
       "         0.79048992, 0.79058291, 0.79079846, 0.79046944, 0.79013448,\n",
       "         0.7902758 , 0.79075811, 0.79046944, 0.79013448, 0.7902758 ,\n",
       "         0.79075811, 0.79046944, 0.79013448, 0.7902758 , 0.79075811]),\n",
       "  'std_test_score': array([0.00413026, 0.00430412, 0.00438697, 0.00465342, 0.00413026,\n",
       "         0.00430412, 0.00438697, 0.00465342, 0.00445252, 0.00453106,\n",
       "         0.00463294, 0.0045389 , 0.00445252, 0.00453106, 0.00463294,\n",
       "         0.0045389 , 0.00445252, 0.00453106, 0.00463294, 0.0045389 ]),\n",
       "  'rank_test_score': array([13,  8,  6,  1, 13,  8,  6,  1, 10, 18, 15,  3, 10, 18, 15,  3, 10,\n",
       "         18, 15,  3])},\n",
       " {'colsample_bytree': 0.9, 'subsample': 0.63},\n",
       " 0.7907984592732324)"
      ]
     },
     "execution_count": 35,
     "metadata": {},
     "output_type": "execute_result"
    }
   ],
   "source": [
    "start = time.time()\n",
    "param_test4 = {\n",
    " 'subsample':[i/100.0 for i in range(60,64)],\n",
    " 'colsample_bytree':[i/100.0 for i in range(90,95)]\n",
    "}\n",
    "gsearch4 = GridSearchCV(estimator = xgb.XGBClassifier( learning_rate =0.1, n_estimators=200, max_depth=3,\n",
    " min_child_weight=3, gamma=0, subsample=0.8, colsample_bytree=0.8, tree_method=\"gpu_hist\",\n",
    " objective= 'binary:logistic', nthread=4, scale_pos_weight=1,seed=27), \n",
    " param_grid = param_test4, scoring='roc_auc',n_jobs=4,iid=False, cv=5)\n",
    "gsearch4.fit(dtrain[predictors],dtrain[target])\n",
    "print(time.time() - start)\n",
    "gsearch4.cv_results_, gsearch4.best_params_, gsearch4.best_score_"
   ]
  },
  {
   "cell_type": "markdown",
   "metadata": {},
   "source": [
    "- 그냥 best parameters는 {'colsample_bytree': 0.6, 'subsample': 0.9}로 정하자.\n",
    "\n",
    "#### (5) Step 5: Tuning Regularization Parameters\n",
    "많은 사람들이 잘 사용하지 않지만, 규제항을 적절히 사용하는 것은 overfit을 방지하는 데 좋은 솔루션이다.\n",
    "\n",
    "reg_alpha=0는 L1, reg_lambda=1는 L2 규제 항에 대한 가중치이다. 이제 이 값들을 조정해보자."
   ]
  },
  {
   "cell_type": "code",
   "execution_count": 37,
   "metadata": {
    "scrolled": false
   },
   "outputs": [
    {
     "name": "stderr",
     "output_type": "stream",
     "text": [
      "C:\\Users\\CPB-Han01\\anaconda3\\lib\\site-packages\\sklearn\\model_selection\\_search.py:823: FutureWarning: The parameter 'iid' is deprecated in 0.22 and will be removed in 0.24.\n",
      "  \"removed in 0.24.\", FutureWarning\n"
     ]
    },
    {
     "name": "stdout",
     "output_type": "stream",
     "text": [
      "31.3359432220459\n"
     ]
    },
    {
     "data": {
      "text/plain": [
       "({'mean_fit_time': array([1.55696549, 1.54724045, 1.56001487, 1.53062825, 1.47977071,\n",
       "         1.50569739, 1.48683963, 1.50481687, 1.46574025, 1.46867971,\n",
       "         1.4846776 , 1.44693995, 1.4812551 , 1.49424334, 1.45812922,\n",
       "         1.41844177]),\n",
       "  'std_fit_time': array([0.02634244, 0.03097262, 0.03867177, 0.02396635, 0.07444089,\n",
       "         0.05636101, 0.02773557, 0.06081037, 0.0488278 , 0.06146416,\n",
       "         0.03511485, 0.02205645, 0.01929369, 0.05004625, 0.01635921,\n",
       "         0.1123293 ]),\n",
       "  'mean_score_time': array([0.0331111 , 0.03630285, 0.03989215, 0.03550506, 0.02493339,\n",
       "         0.03111634, 0.02553163, 0.03071818, 0.0297235 , 0.02971969,\n",
       "         0.02433543, 0.02852683, 0.03171535, 0.0277276 , 0.03191547,\n",
       "         0.0251317 ]),\n",
       "  'std_score_time': array([0.00849544, 0.00354567, 0.01009632, 0.01302726, 0.00227423,\n",
       "         0.0072021 , 0.00173829, 0.00353505, 0.00291868, 0.00452121,\n",
       "         0.00286337, 0.00293568, 0.00529209, 0.00369808, 0.00958654,\n",
       "         0.00452161]),\n",
       "  'param_reg_alpha': masked_array(data=[0.01, 0.01, 0.01, 0.01, 0.1, 0.1, 0.1, 0.1, 1, 1, 1, 1,\n",
       "                     10, 10, 10, 10],\n",
       "               mask=[False, False, False, False, False, False, False, False,\n",
       "                     False, False, False, False, False, False, False, False],\n",
       "         fill_value='?',\n",
       "              dtype=object),\n",
       "  'param_reg_lambda': masked_array(data=[0.01, 0.1, 1, 10, 0.01, 0.1, 1, 10, 0.01, 0.1, 1, 10,\n",
       "                     0.01, 0.1, 1, 10],\n",
       "               mask=[False, False, False, False, False, False, False, False,\n",
       "                     False, False, False, False, False, False, False, False],\n",
       "         fill_value='?',\n",
       "              dtype=object),\n",
       "  'params': [{'reg_alpha': 0.01, 'reg_lambda': 0.01},\n",
       "   {'reg_alpha': 0.01, 'reg_lambda': 0.1},\n",
       "   {'reg_alpha': 0.01, 'reg_lambda': 1},\n",
       "   {'reg_alpha': 0.01, 'reg_lambda': 10},\n",
       "   {'reg_alpha': 0.1, 'reg_lambda': 0.01},\n",
       "   {'reg_alpha': 0.1, 'reg_lambda': 0.1},\n",
       "   {'reg_alpha': 0.1, 'reg_lambda': 1},\n",
       "   {'reg_alpha': 0.1, 'reg_lambda': 10},\n",
       "   {'reg_alpha': 1, 'reg_lambda': 0.01},\n",
       "   {'reg_alpha': 1, 'reg_lambda': 0.1},\n",
       "   {'reg_alpha': 1, 'reg_lambda': 1},\n",
       "   {'reg_alpha': 1, 'reg_lambda': 10},\n",
       "   {'reg_alpha': 10, 'reg_lambda': 0.01},\n",
       "   {'reg_alpha': 10, 'reg_lambda': 0.1},\n",
       "   {'reg_alpha': 10, 'reg_lambda': 1},\n",
       "   {'reg_alpha': 10, 'reg_lambda': 10}],\n",
       "  'split0_test_score': array([0.78976301, 0.78976088, 0.78991318, 0.78842823, 0.78939085,\n",
       "         0.78965321, 0.79015703, 0.78828982, 0.7895108 , 0.78976731,\n",
       "         0.78946527, 0.78904621, 0.78813524, 0.78813212, 0.78800807,\n",
       "         0.78745021]),\n",
       "  'split1_test_score': array([0.78759914, 0.78714865, 0.78761785, 0.78662428, 0.78741541,\n",
       "         0.78718546, 0.78748197, 0.78663304, 0.78710065, 0.7875215 ,\n",
       "         0.7875889 , 0.78654273, 0.786536  , 0.786574  , 0.78656163,\n",
       "         0.78615582]),\n",
       "  'split2_test_score': array([0.79296691, 0.79279674, 0.79300363, 0.79384974, 0.79285305,\n",
       "         0.79255734, 0.79331636, 0.79394034, 0.79350266, 0.79351083,\n",
       "         0.79306024, 0.79398636, 0.79317588, 0.79337173, 0.79342463,\n",
       "         0.79364824]),\n",
       "  'split3_test_score': array([0.78438844, 0.78455198, 0.78513954, 0.78445554, 0.78496155,\n",
       "         0.78491805, 0.78515216, 0.78501781, 0.78476307, 0.7850673 ,\n",
       "         0.78437562, 0.78508219, 0.78416235, 0.78431629, 0.78385026,\n",
       "         0.78376678]),\n",
       "  'split4_test_score': array([0.79815417, 0.79840989, 0.79805233, 0.79796796, 0.79828193,\n",
       "         0.79870259, 0.79878354, 0.79772292, 0.79837748, 0.79869398,\n",
       "         0.79842706, 0.79805846, 0.79673776, 0.79689433, 0.79706405,\n",
       "         0.79680179]),\n",
       "  'mean_test_score': array([0.79057433, 0.79053363, 0.79074531, 0.79026515, 0.79058056,\n",
       "         0.79060333, 0.79097821, 0.79032079, 0.79065093, 0.79091218,\n",
       "         0.79058342, 0.79054319, 0.78974945, 0.7898577 , 0.78978173,\n",
       "         0.78956457]),\n",
       "  'std_test_score': array([0.0047107 , 0.00479568, 0.00448086, 0.00495105, 0.00463642,\n",
       "         0.00478169, 0.0047588 , 0.00476946, 0.004825  , 0.00478078,\n",
       "         0.00482517, 0.00482498, 0.00457656, 0.00461151, 0.00479584,\n",
       "         0.00487357]),\n",
       "  'rank_test_score': array([ 8, 10,  3, 12,  7,  5,  1, 11,  4,  2,  6,  9, 15, 13, 14, 16])},\n",
       " {'reg_alpha': 0.1, 'reg_lambda': 1},\n",
       " 0.7909782115872622)"
      ]
     },
     "execution_count": 37,
     "metadata": {},
     "output_type": "execute_result"
    }
   ],
   "source": [
    "start = time.time()\n",
    "param_test6 = {\n",
    " 'reg_alpha':[1e-2, 1e-1, 1, 10],\n",
    " 'reg_lambda':[1e-2, 1e-1, 1, 10]\n",
    "}\n",
    "gsearch6 = GridSearchCV(estimator = xgb.XGBClassifier( learning_rate =0.1, n_estimators=200, max_depth=3,\n",
    " min_child_weight=3, gamma=0, subsample=0.63, colsample_bytree=0.9, tree_method=\"gpu_hist\",\n",
    " objective= 'binary:logistic', nthread=4, scale_pos_weight=1,seed=27), \n",
    " param_grid = param_test6, scoring='roc_auc',n_jobs=4,iid=False, cv=5)\n",
    "gsearch6.fit(dtrain[predictors],dtrain[target])\n",
    "print(time.time() - start)\n",
    "gsearch6.cv_results_, gsearch6.best_params_, gsearch6.best_score_"
   ]
  },
  {
   "cell_type": "code",
   "execution_count": 111,
   "metadata": {},
   "outputs": [
    {
     "name": "stdout",
     "output_type": "stream",
     "text": [
      "55.923624753952026\n"
     ]
    },
    {
     "name": "stderr",
     "output_type": "stream",
     "text": [
      "C:\\Users\\great\\Anaconda3\\lib\\site-packages\\sklearn\\utils\\deprecation.py:122: FutureWarning: You are accessing a training score ('split0_train_score'), which will not be available by default any more in 0.21. If you need training scores, please set return_train_score=True\n",
      "  warnings.warn(*warn_args, **warn_kwargs)\n",
      "C:\\Users\\great\\Anaconda3\\lib\\site-packages\\sklearn\\utils\\deprecation.py:122: FutureWarning: You are accessing a training score ('split1_train_score'), which will not be available by default any more in 0.21. If you need training scores, please set return_train_score=True\n",
      "  warnings.warn(*warn_args, **warn_kwargs)\n",
      "C:\\Users\\great\\Anaconda3\\lib\\site-packages\\sklearn\\utils\\deprecation.py:122: FutureWarning: You are accessing a training score ('split2_train_score'), which will not be available by default any more in 0.21. If you need training scores, please set return_train_score=True\n",
      "  warnings.warn(*warn_args, **warn_kwargs)\n",
      "C:\\Users\\great\\Anaconda3\\lib\\site-packages\\sklearn\\utils\\deprecation.py:122: FutureWarning: You are accessing a training score ('split3_train_score'), which will not be available by default any more in 0.21. If you need training scores, please set return_train_score=True\n",
      "  warnings.warn(*warn_args, **warn_kwargs)\n",
      "C:\\Users\\great\\Anaconda3\\lib\\site-packages\\sklearn\\utils\\deprecation.py:122: FutureWarning: You are accessing a training score ('split4_train_score'), which will not be available by default any more in 0.21. If you need training scores, please set return_train_score=True\n",
      "  warnings.warn(*warn_args, **warn_kwargs)\n",
      "C:\\Users\\great\\Anaconda3\\lib\\site-packages\\sklearn\\utils\\deprecation.py:122: FutureWarning: You are accessing a training score ('mean_train_score'), which will not be available by default any more in 0.21. If you need training scores, please set return_train_score=True\n",
      "  warnings.warn(*warn_args, **warn_kwargs)\n",
      "C:\\Users\\great\\Anaconda3\\lib\\site-packages\\sklearn\\utils\\deprecation.py:122: FutureWarning: You are accessing a training score ('std_train_score'), which will not be available by default any more in 0.21. If you need training scores, please set return_train_score=True\n",
      "  warnings.warn(*warn_args, **warn_kwargs)\n"
     ]
    },
    {
     "data": {
      "text/plain": [
       "({'mean_fit_time': array([1.7869957 , 2.49260583, 2.47765045, 2.44382648, 2.46344023,\n",
       "         2.4658421 , 2.48055248, 2.4617393 , 2.48635674, 2.45983791,\n",
       "         2.49476247, 2.43251834, 2.45763636, 2.47394786, 2.5843267 ,\n",
       "         2.28381314]),\n",
       "  'std_fit_time': array([0.74071843, 0.05579983, 0.07117508, 0.04430031, 0.05270077,\n",
       "         0.04558259, 0.0394976 , 0.07716433, 0.04533129, 0.04423928,\n",
       "         0.05033967, 0.03248927, 0.02535824, 0.01580529, 0.19617903,\n",
       "         0.49431751]),\n",
       "  'mean_score_time': array([0.01841321, 0.01741219, 0.01771274, 0.01811299, 0.01941376,\n",
       "         0.01911335, 0.02041435, 0.02141495, 0.01831293, 0.02041435,\n",
       "         0.02121515, 0.01961379, 0.01891322, 0.01841292, 0.02581778,\n",
       "         0.0161119 ]),\n",
       "  'std_score_time': array([0.00265544, 0.00124181, 0.00081262, 0.00106837, 0.00334   ,\n",
       "         0.00168658, 0.00438922, 0.00272964, 0.00081295, 0.00231244,\n",
       "         0.00315819, 0.00086076, 0.00058347, 0.00080053, 0.01150441,\n",
       "         0.00251883]),\n",
       "  'param_reg_alpha': masked_array(data=[0.05, 0.05, 0.05, 0.05, 0.1, 0.1, 0.1, 0.1, 0.3, 0.3,\n",
       "                     0.3, 0.3, 0.6, 0.6, 0.6, 0.6],\n",
       "               mask=[False, False, False, False, False, False, False, False,\n",
       "                     False, False, False, False, False, False, False, False],\n",
       "         fill_value='?',\n",
       "              dtype=object),\n",
       "  'param_reg_lambda': masked_array(data=[0.5, 1.0, 3.0, 6.0, 0.5, 1.0, 3.0, 6.0, 0.5, 1.0, 3.0,\n",
       "                     6.0, 0.5, 1.0, 3.0, 6.0],\n",
       "               mask=[False, False, False, False, False, False, False, False,\n",
       "                     False, False, False, False, False, False, False, False],\n",
       "         fill_value='?',\n",
       "              dtype=object),\n",
       "  'params': [{'reg_alpha': 0.05, 'reg_lambda': 0.5},\n",
       "   {'reg_alpha': 0.05, 'reg_lambda': 1.0},\n",
       "   {'reg_alpha': 0.05, 'reg_lambda': 3.0},\n",
       "   {'reg_alpha': 0.05, 'reg_lambda': 6.0},\n",
       "   {'reg_alpha': 0.1, 'reg_lambda': 0.5},\n",
       "   {'reg_alpha': 0.1, 'reg_lambda': 1.0},\n",
       "   {'reg_alpha': 0.1, 'reg_lambda': 3.0},\n",
       "   {'reg_alpha': 0.1, 'reg_lambda': 6.0},\n",
       "   {'reg_alpha': 0.3, 'reg_lambda': 0.5},\n",
       "   {'reg_alpha': 0.3, 'reg_lambda': 1.0},\n",
       "   {'reg_alpha': 0.3, 'reg_lambda': 3.0},\n",
       "   {'reg_alpha': 0.3, 'reg_lambda': 6.0},\n",
       "   {'reg_alpha': 0.6, 'reg_lambda': 0.5},\n",
       "   {'reg_alpha': 0.6, 'reg_lambda': 1.0},\n",
       "   {'reg_alpha': 0.6, 'reg_lambda': 3.0},\n",
       "   {'reg_alpha': 0.6, 'reg_lambda': 6.0}],\n",
       "  'split0_test_score': array([0.78930173, 0.79012976, 0.78902041, 0.79000941, 0.78942119,\n",
       "         0.78998908, 0.78950875, 0.78987139, 0.78948624, 0.7895084 ,\n",
       "         0.78934467, 0.78956074, 0.7893183 , 0.78949594, 0.78950692,\n",
       "         0.78990419]),\n",
       "  'split1_test_score': array([0.78726756, 0.78766604, 0.78681889, 0.78712569, 0.78713757,\n",
       "         0.78744164, 0.7870103 , 0.78734955, 0.7871776 , 0.7871246 ,\n",
       "         0.78710738, 0.78684369, 0.78690148, 0.78706646, 0.78691821,\n",
       "         0.78696611]),\n",
       "  'split2_test_score': array([0.79257194, 0.79178026, 0.79187932, 0.79261068, 0.79240132,\n",
       "         0.79220453, 0.7923598 , 0.79145827, 0.79207488, 0.79163839,\n",
       "         0.79217939, 0.79155491, 0.79184068, 0.79164433, 0.79228449,\n",
       "         0.79222917]),\n",
       "  'split3_test_score': array([0.78507833, 0.78526241, 0.78525706, 0.78539512, 0.78471023,\n",
       "         0.78530368, 0.78513128, 0.78513242, 0.78490182, 0.78516136,\n",
       "         0.78549414, 0.78505022, 0.78489623, 0.78478183, 0.78532688,\n",
       "         0.78501311]),\n",
       "  'split4_test_score': array([0.7982747 , 0.79777838, 0.79818051, 0.79777141, 0.79811126,\n",
       "         0.79761915, 0.79799321, 0.79791723, 0.79812052, 0.79757901,\n",
       "         0.79794188, 0.79778541, 0.79800033, 0.7980527 , 0.7981169 ,\n",
       "         0.79805785]),\n",
       "  'mean_test_score': array([0.79049885, 0.79052337, 0.79023124, 0.79058246, 0.79035631,\n",
       "         0.79051161, 0.79040067, 0.79034577, 0.79035221, 0.79020235,\n",
       "         0.79041349, 0.790159  , 0.79019141, 0.79020825, 0.79043068,\n",
       "         0.79043409]),\n",
       "  'std_test_score': array([0.00460474, 0.00424763, 0.00455543, 0.00435846, 0.00463539,\n",
       "         0.00424743, 0.00450647, 0.00435766, 0.00455739, 0.00428586,\n",
       "         0.00438333, 0.00441723, 0.00454586, 0.00454801, 0.00451119,\n",
       "         0.00453958]),\n",
       "  'rank_test_score': array([ 4,  2, 12,  1,  9,  3,  8, 11, 10, 14,  7, 16, 15, 13,  6,  5]),\n",
       "  'split0_train_score': array([0.80369349, 0.80372739, 0.80266761, 0.80190959, 0.80386059,\n",
       "         0.80341337, 0.80266084, 0.80200607, 0.80354237, 0.80312383,\n",
       "         0.80245452, 0.80167855, 0.8032563 , 0.80291349, 0.80232542,\n",
       "         0.8016776 ]),\n",
       "  'split1_train_score': array([0.8043921 , 0.80402316, 0.80300848, 0.80217833, 0.80403876,\n",
       "         0.80392348, 0.80287982, 0.80233622, 0.80408087, 0.80347775,\n",
       "         0.80286059, 0.80223713, 0.8034211 , 0.80368523, 0.80273867,\n",
       "         0.80200927]),\n",
       "  'split2_train_score': array([0.80289525, 0.80238225, 0.80161141, 0.80087592, 0.80280984,\n",
       "         0.80245567, 0.8019169 , 0.8009019 , 0.80256268, 0.80215177,\n",
       "         0.80184483, 0.8008194 , 0.80194104, 0.80190768, 0.8012047 ,\n",
       "         0.80067705]),\n",
       "  'split3_train_score': array([0.80568931, 0.80502423, 0.80437034, 0.80352705, 0.805358  ,\n",
       "         0.80502647, 0.80435898, 0.80357354, 0.80516211, 0.80504763,\n",
       "         0.80406835, 0.80329611, 0.8048737 , 0.80444292, 0.80380911,\n",
       "         0.80325241]),\n",
       "  'split4_train_score': array([0.80197775, 0.80128227, 0.8006118 , 0.79963531, 0.80179742,\n",
       "         0.80143332, 0.80060847, 0.79943825, 0.80163338, 0.80122874,\n",
       "         0.80023169, 0.79923189, 0.80115889, 0.80089252, 0.8003786 ,\n",
       "         0.79936665]),\n",
       "  'mean_train_score': array([0.80372958, 0.80328786, 0.80245393, 0.80162524, 0.80357292,\n",
       "         0.80325046, 0.802485  , 0.8016512 , 0.80339628, 0.80300594,\n",
       "         0.80229199, 0.80145262, 0.80293021, 0.80276837, 0.8020913 ,\n",
       "         0.8013966 ]),\n",
       "  'std_train_score': array([0.00126853, 0.00131083, 0.00127507, 0.00130575, 0.00120175,\n",
       "         0.00123024, 0.00122823, 0.00139637, 0.00121745, 0.00128787,\n",
       "         0.00126095, 0.00137096, 0.00128378, 0.001259  , 0.00119534,\n",
       "         0.00130666])},\n",
       " {'reg_alpha': 0.05, 'reg_lambda': 6.0},\n",
       " 0.7905824609198235)"
      ]
     },
     "execution_count": 111,
     "metadata": {},
     "output_type": "execute_result"
    }
   ],
   "source": [
    "start = time.time()\n",
    "param_test6 = {\n",
    " 'reg_alpha':[0.05, 0.1, 0.3, 0.6],\n",
    " 'reg_lambda':[0.5, 1.0, 3.0, 6.0]\n",
    "}\n",
    "gsearch6 = GridSearchCV(estimator = xgb.XGBClassifier( learning_rate =0.1, n_estimators=200, max_depth=3,\n",
    " min_child_weight=3, gamma=0, subsample=0.9, colsample_bytree=0.6, tree_method=\"gpu_hist\",\n",
    " objective= 'binary:logistic', nthread=4, scale_pos_weight=1,seed=27), \n",
    " param_grid = param_test6, scoring='roc_auc',n_jobs=4,iid=False, cv=5)\n",
    "gsearch6.fit(dtrain[predictors],dtrain[target])\n",
    "print(time.time() - start)\n",
    "gsearch6.cv_results_, gsearch6.best_params_, gsearch6.best_score_"
   ]
  },
  {
   "cell_type": "markdown",
   "metadata": {},
   "source": [
    "- best parameters는 {'reg_alpha': 0.05, 'reg_lambda': 6.0}\n",
    "- 모두 edge에 위치해 있어서 추가적인 검색이 필요하다."
   ]
  },
  {
   "cell_type": "code",
   "execution_count": 112,
   "metadata": {
    "scrolled": true
   },
   "outputs": [
    {
     "name": "stdout",
     "output_type": "stream",
     "text": [
      "32.8480658531189\n"
     ]
    },
    {
     "name": "stderr",
     "output_type": "stream",
     "text": [
      "C:\\Users\\great\\Anaconda3\\lib\\site-packages\\sklearn\\model_selection\\_search.py:761: DeprecationWarning: The grid_scores_ attribute was deprecated in version 0.18 in favor of the more elaborate cv_results_ attribute. The grid_scores_ attribute will not be available from 0.20\n",
      "  DeprecationWarning)\n"
     ]
    },
    {
     "data": {
      "text/plain": [
       "([mean: 0.79035, std: 0.00461, params: {'reg_alpha': 0.04, 'reg_lambda': 5.0},\n",
       "  mean: 0.79029, std: 0.00455, params: {'reg_alpha': 0.04, 'reg_lambda': 6.0},\n",
       "  mean: 0.79033, std: 0.00443, params: {'reg_alpha': 0.04, 'reg_lambda': 7.0},\n",
       "  mean: 0.79035, std: 0.00461, params: {'reg_alpha': 0.05, 'reg_lambda': 5.0},\n",
       "  mean: 0.79058, std: 0.00436, params: {'reg_alpha': 0.05, 'reg_lambda': 6.0},\n",
       "  mean: 0.79027, std: 0.00453, params: {'reg_alpha': 0.05, 'reg_lambda': 7.0},\n",
       "  mean: 0.79034, std: 0.00458, params: {'reg_alpha': 0.06, 'reg_lambda': 5.0},\n",
       "  mean: 0.79048, std: 0.00444, params: {'reg_alpha': 0.06, 'reg_lambda': 6.0},\n",
       "  mean: 0.79026, std: 0.00454, params: {'reg_alpha': 0.06, 'reg_lambda': 7.0}],\n",
       " {'reg_alpha': 0.05, 'reg_lambda': 6.0},\n",
       " 0.7905824609198235)"
      ]
     },
     "execution_count": 112,
     "metadata": {},
     "output_type": "execute_result"
    }
   ],
   "source": [
    "start = time.time()\n",
    "param_test6 = {\n",
    " 'reg_alpha':[0.04, 0.05, 0.06],\n",
    " 'reg_lambda':[5.0, 6.0, 7.0]\n",
    "}\n",
    "gsearch6 = GridSearchCV(estimator = XGBClassifier( learning_rate =0.1, n_estimators=200, max_depth=3,\n",
    " min_child_weight=2, gamma=0, subsample=0.9, colsample_bytree=0.6, tree_method=\"gpu_hist\",\n",
    " objective= 'binary:logistic', nthread=4, scale_pos_weight=1,seed=27), \n",
    " param_grid = param_test6, scoring='roc_auc',n_jobs=4,iid=False, cv=5)\n",
    "gsearch6.fit(dtrain[predictors],dtrain[target])\n",
    "print(time.time() - start)\n",
    "gsearch6.grid_scores_, gsearch6.best_params_, gsearch6.best_score_"
   ]
  },
  {
   "cell_type": "code",
   "execution_count": 122,
   "metadata": {},
   "outputs": [
    {
     "data": {
      "text/plain": [
       "{'cv': 5,\n",
       " 'error_score': 'raise',\n",
       " 'estimator__base_score': 0.5,\n",
       " 'estimator__booster': 'gbtree',\n",
       " 'estimator__colsample_bylevel': 1,\n",
       " 'estimator__colsample_bytree': 0.6,\n",
       " 'estimator__gamma': 0,\n",
       " 'estimator__learning_rate': 0.1,\n",
       " 'estimator__max_delta_step': 0,\n",
       " 'estimator__max_depth': 3,\n",
       " 'estimator__min_child_weight': 2,\n",
       " 'estimator__missing': None,\n",
       " 'estimator__n_estimators': 200,\n",
       " 'estimator__n_jobs': 1,\n",
       " 'estimator__nthread': 4,\n",
       " 'estimator__objective': 'binary:logistic',\n",
       " 'estimator__random_state': 0,\n",
       " 'estimator__reg_alpha': 0,\n",
       " 'estimator__reg_lambda': 1,\n",
       " 'estimator__scale_pos_weight': 1,\n",
       " 'estimator__seed': 27,\n",
       " 'estimator__silent': True,\n",
       " 'estimator__subsample': 0.9,\n",
       " 'estimator__tree_method': 'gpu_hist',\n",
       " 'estimator': XGBClassifier(base_score=0.5, booster='gbtree', colsample_bylevel=1,\n",
       "        colsample_bytree=0.6, gamma=0, learning_rate=0.1, max_delta_step=0,\n",
       "        max_depth=3, min_child_weight=2, missing=None, n_estimators=200,\n",
       "        n_jobs=1, nthread=4, objective='binary:logistic', random_state=0,\n",
       "        reg_alpha=0, reg_lambda=1, scale_pos_weight=1, seed=27, silent=True,\n",
       "        subsample=0.9, tree_method='gpu_hist'),\n",
       " 'fit_params': None,\n",
       " 'iid': False,\n",
       " 'n_jobs': 4,\n",
       " 'param_grid': {'reg_alpha': [0.04, 0.05, 0.06],\n",
       "  'reg_lambda': [5.0, 6.0, 7.0]},\n",
       " 'pre_dispatch': '2*n_jobs',\n",
       " 'refit': True,\n",
       " 'return_train_score': 'warn',\n",
       " 'scoring': 'roc_auc',\n",
       " 'verbose': 0}"
      ]
     },
     "execution_count": 122,
     "metadata": {},
     "output_type": "execute_result"
    }
   ],
   "source": [
    "gsearch6.get_params()"
   ]
  },
  {
   "cell_type": "markdown",
   "metadata": {},
   "source": [
    "- 다행히 이전 결과와 같이 best parameters는 {'reg_alpha': 0.05, 'reg_lambda': 6.0}.\n",
    "- 따라서 추가적인 탐색은 중지한다.\n",
    "\n",
    ">참고로 return_train_score가 True이거나 warn인 경우, 매우 느리게 동작한다. sklearn 0.21에서는 이 옵션이 default로 False가 될 것이다. 가급적 False로 설정하고 구동하는 것이 좋겠다.\n",
    "\n",
    "#### (6) Step 6: Reducing Learning Rate\n",
    "이제 최종적으로 학습률을 줄이고, iteration의 수를 늘려보자."
   ]
  },
  {
   "cell_type": "code",
   "execution_count": 39,
   "metadata": {
    "scrolled": true
   },
   "outputs": [
    {
     "name": "stdout",
     "output_type": "stream",
     "text": [
      "\n",
      "Model Train Report\n",
      "Accuracy : 0.7397\n",
      "AUC Score (Train): 0.805969\n"
     ]
    },
    {
     "data": {
      "image/png": "[encoded data removed]",
      "text/plain": [
       "<Figure size 864x288 with 1 Axes>"
      ]
     },
     "metadata": {
      "needs_background": "light"
     },
     "output_type": "display_data"
    }
   ],
   "source": [
    "xgb_f = xgb.XGBClassifier(\n",
    " learning_rate =0.01,\n",
    " n_estimators=5000,\n",
    " max_depth=3,\n",
    " min_child_weight=2,\n",
    " gamma=0,\n",
    " subsample=0.9,\n",
    " colsample_bytree=0.6,\n",
    " tree_method=\"gpu_hist\",\n",
    " reg_alpha=0.05,\n",
    " reg_lambda=6.0,\n",
    " objective= 'binary:logistic',\n",
    " nthread=4,\n",
    " scale_pos_weight=1,\n",
    " seed=27)\n",
    "modelfit(xgb_f, dtrain, predictors)"
   ]
  },
  {
   "cell_type": "code",
   "execution_count": 40,
   "metadata": {},
   "outputs": [
    {
     "name": "stdout",
     "output_type": "stream",
     "text": [
      "\n",
      "Model Test Report\n",
      "Accuracy : 0.728\n",
      "AUC Score (Train): 0.785959\n"
     ]
    }
   ],
   "source": [
    "dtest_predictions = xgb_f.predict(dtest[predictors])\n",
    "dtest_predprob = xgb_f.predict_proba(dtest[predictors])[:,1]\n",
    "\n",
    "#Print model report:\n",
    "print (\"\\nModel Test Report\")\n",
    "print (\"Accuracy : %.4g\" % metrics.accuracy_score(dtest['INFANT_ALIVE_AT_REPORT'].values, dtest_predictions))\n",
    "print (\"AUC Score (Train): %f\" % metrics.roc_auc_score(dtest['INFANT_ALIVE_AT_REPORT'], dtest_predprob))"
   ]
  },
  {
   "cell_type": "code",
   "execution_count": null,
   "metadata": {},
   "outputs": [],
   "source": []
  }
 ],
 "metadata": {
  "kernelspec": {
   "display_name": "Python 3",
   "language": "python",
   "name": "python3"
  },
  "language_info": {
   "codemirror_mode": {
    "name": "ipython",
    "version": 3
   },
   "file_extension": ".py",
   "mimetype": "text/x-python",
   "name": "python",
   "nbconvert_exporter": "python",
   "pygments_lexer": "ipython3",
   "version": "3.7.6"
  }
 },
 "nbformat": 4,
 "nbformat_minor": 2
}
