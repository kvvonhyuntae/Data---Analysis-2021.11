{
 "nbformat": 4,
 "nbformat_minor": 0,
 "metadata": {
  "kernelspec": {
   "display_name": "Python 3",
   "language": "python",
   "name": "python3"
  },
  "language_info": {
   "codemirror_mode": {
    "name": "ipython",
    "version": 3
   },
   "file_extension": ".py",
   "mimetype": "text/x-python",
   "name": "python",
   "nbconvert_exporter": "python",
   "pygments_lexer": "ipython3",
   "version": "3.7.6"
  },
  "toc": {
   "base_numbering": 1,
   "nav_menu": {},
   "number_sections": true,
   "sideBar": true,
   "skip_h1_title": false,
   "title_cell": "Table of Contents",
   "title_sidebar": "Contents",
   "toc_cell": false,
   "toc_position": {},
   "toc_section_display": true,
   "toc_window_display": false
  },
  "varInspector": {
   "cols": {
    "lenName": 16,
    "lenType": 16,
    "lenVar": 40
   },
   "kernels_config": {
    "python": {
     "delete_cmd_postfix": "",
     "delete_cmd_prefix": "del ",
     "library": "var_list.py",
     "varRefreshCmd": "print(var_dic_list())"
    },
    "r": {
     "delete_cmd_postfix": ") ",
     "delete_cmd_prefix": "rm(",
     "library": "var_list.r",
     "varRefreshCmd": "cat(var_dic_list()) "
    }
   },
   "types_to_exclude": [
    "module",
    "function",
    "builtin_function_or_method",
    "instance",
    "_Feature"
   ],
   "window_display": false
  },
  "colab": {
   "name": "03.01.sklearn_ begin.ipynb",
   "provenance": [],
   "collapsed_sections": []
  }
 },
 "cells": [
  {
   "cell_type": "markdown",
   "metadata": {
    "id": "SlrkBxua_SfH"
   },
   "source": [
    "## scikit-learn 소개\n",
    "https://scikit-learn.org/stable/tutorial/machine_learning_map/index.html\n",
    "\n",
    "모델은 class로 구성되어 있다. 3가지 주요한 추상 class로 부터 만들어 진다.\n",
    "1. Estimator 추론기\n",
    " - fit(X, y) 메소드와 getparams, setparams\n",
    "2. Transformer 변환기\n",
    " - transform 메소드를 갖는다.\n",
    " - transform 이전에 fit이 선행되어야 한다.\n",
    " - 모든 Transformer는 Estimator이다.\n",
    "3. Predictor 예측기\n",
    " - predict(X) 메소드를 가지고 있다.\n",
    "\n",
    "## 모델링 과정\n",
    "1. 분석 기획\n",
    " - 목적\n",
    " - 기간/조직/비용/수집 데이터에 식별/정의\n",
    "2. 데이터 수집/저장\n",
    " - [train / validation] / test\n",
    " - train: 모델을 학습하는 데 사용. w 학습\n",
    " - validation: 튜닝 파라미터를 선택\n",
    " - test: 모델의 실제 성능을 측정."
   ]
  },
  {
   "cell_type": "code",
   "metadata": {
    "id": "M6Cedm0d_SfK"
   },
   "source": [
    "import sklearn"
   ],
   "execution_count": 1,
   "outputs": []
  },
  {
   "cell_type": "code",
   "metadata": {
    "id": "xFUW429y_SfL"
   },
   "source": [
    "from sklearn.datasets import load_breast_cancer\n",
    "from sklearn.model_selection import train_test_split\n",
    "from sklearn.tree import DecisionTreeClassifier\n",
    "\n",
    "data = load_breast_cancer()\n",
    "X_train, X_test, y_train, y_test = train_test_split(data.data, data.target, random_state=42)\n",
    "\n",
    "model = DecisionTreeClassifier(criterion='entropy')\n",
    "model"
   ],
   "execution_count": 2,
   "outputs": [
    {
     "data": {
      "text/plain": "DecisionTreeClassifier(criterion='entropy')"
     },
     "execution_count": 2,
     "metadata": {},
     "output_type": "execute_result"
    }
   ]
  },
  {
   "cell_type": "markdown",
   "metadata": {
    "id": "mow9g7SZ_SfN"
   },
   "source": [
    "$y \\in \\{0, 1\\}$\n",
    "\n",
    "$p(y=1) + p(y=0) = 1$\n",
    "\n",
    "$$Loss(p(y=1)) = - y \\log p(y=1) - (1-y)log (1 - p(y=1))$$\n",
    "$$Loss(p(y=1)) = 1 - y P(y=1)^2 - (1-y)(1 - P(y=1))^2$$"
   ]
  },
  {
   "cell_type": "code",
   "metadata": {
    "id": "xERRfGDJ_SfN"
   },
   "source": [
    "data.keys()"
   ],
   "execution_count": 3,
   "outputs": [
    {
     "data": {
      "text/plain": "dict_keys(['data', 'target', 'frame', 'target_names', 'DESCR', 'feature_names', 'filename'])"
     },
     "execution_count": 3,
     "metadata": {},
     "output_type": "execute_result"
    }
   ]
  },
  {
   "cell_type": "markdown",
   "metadata": {
    "id": "-vMcFdx8_SfO"
   },
   "source": [
    "입력데이터 X는 data.data에 존재합니다. N=569, D=30"
   ]
  },
  {
   "cell_type": "code",
   "metadata": {
    "id": "Km0gMNk3_SfO"
   },
   "source": [
    "data.data.shape"
   ],
   "execution_count": 4,
   "outputs": [
    {
     "data": {
      "text/plain": "(569, 30)"
     },
     "execution_count": 4,
     "metadata": {},
     "output_type": "execute_result"
    }
   ]
  },
  {
   "cell_type": "code",
   "metadata": {
    "id": "kdy7g2q2_SfP"
   },
   "source": [
    "data.data.mean(axis=0)"
   ],
   "execution_count": 5,
   "outputs": [
    {
     "data": {
      "text/plain": "array([1.41272917e+01, 1.92896485e+01, 9.19690334e+01, 6.54889104e+02,\n       9.63602812e-02, 1.04340984e-01, 8.87993158e-02, 4.89191459e-02,\n       1.81161863e-01, 6.27976098e-02, 4.05172056e-01, 1.21685343e+00,\n       2.86605923e+00, 4.03370791e+01, 7.04097891e-03, 2.54781388e-02,\n       3.18937163e-02, 1.17961371e-02, 2.05422988e-02, 3.79490387e-03,\n       1.62691898e+01, 2.56772232e+01, 1.07261213e+02, 8.80583128e+02,\n       1.32368594e-01, 2.54265044e-01, 2.72188483e-01, 1.14606223e-01,\n       2.90075571e-01, 8.39458172e-02])"
     },
     "execution_count": 5,
     "metadata": {},
     "output_type": "execute_result"
    }
   ]
  },
  {
   "cell_type": "code",
   "metadata": {
    "id": "GBPAmXyD_SfQ"
   },
   "source": [
    "data.data.std(axis=1)"
   ],
   "execution_count": 6,
   "outputs": [
    {
     "data": {
      "text/plain": "array([397.01313121, 415.05100809, 366.80950888, 120.84759716,\n       357.93336541, 155.08059187, 336.14518454, 187.39668929,\n       158.79650076, 150.33417158, 245.66631693, 266.40577608,\n       305.40278779, 206.05881722, 159.17458781, 202.00107032,\n       233.36343228, 270.35223545, 476.71779915, 159.68812226,\n       143.64883623,  73.60159388, 212.12981239, 522.29909762,\n       422.11186554, 302.69896894, 194.07040944, 312.00076821,\n       257.66566621, 272.85685186, 349.9270297 , 174.79758505,\n       283.83891782, 378.25196912, 263.11065306, 264.27072406,\n       179.07302604, 132.83930105, 173.34259613, 163.03007171,\n       170.06673816, 111.51908458, 348.67753164, 186.10247875,\n       160.22280389, 333.77800118,  55.83278523, 163.14723955,\n       129.32745633, 157.29814564, 117.7509573 , 152.93513656,\n       120.38650066, 294.11706773, 219.93208925, 114.32791738,\n       428.37470713, 207.96000984, 143.35040602,  62.75371379,\n        84.96551274,  62.24973067, 203.02387274,  71.44935591,\n       179.18060877, 200.29366805,  75.1709109 , 107.33267409,\n        72.28845408, 131.48011559, 383.35723293,  66.15561515,\n       337.75243008, 175.85384499, 135.53674493, 258.26596699,\n       144.76001486, 333.61325674, 358.77718734, 140.86096873,\n       116.11025276, 141.53526293, 557.54993044, 301.88137267,\n       126.61651474, 338.88577572, 181.83151511, 341.95485146,\n       129.95090299, 181.63644612, 182.69174362, 193.80446494,\n       175.19296196, 156.75179223, 218.51429104, 378.78532201,\n       117.64288921,  82.66757621, 115.7197315 , 183.72871249,\n       189.19840458,  41.74606171, 125.46312002,  82.55359988,\n        92.25936276, 172.71088443, 116.86352399, 125.96942502,\n       492.10680875, 114.66551596,  82.39388481, 125.29795103,\n       166.48658909,  88.30774612,  64.78760664, 128.13252996,\n        64.45118434, 226.78242941, 262.33442638, 280.34636537,\n       114.51893725, 331.15447397, 477.23043563, 172.65097279,\n       147.55352848, 164.13196079, 179.88498442, 335.70373822,\n       178.67134034, 348.49456305, 124.99958539, 241.93079974,\n       250.52639426, 210.06414719, 336.93928869, 145.12511888,\n       121.45000724, 107.45655912, 208.04726167, 101.99991276,\n        79.00105117, 259.31388203, 112.72003791, 144.58747119,\n        99.65760736, 117.5426466 , 128.77130835, 186.54166463,\n       175.45858544, 163.67741208, 141.46794023,  57.07323287,\n        85.32273867, 102.59663164, 152.03974556, 127.91368344,\n       284.15357591, 237.84224067, 122.45622037, 104.86446336,\n       120.67513739, 331.67988865, 447.02870128, 126.80114075,\n       515.45264785, 183.06594226,  96.35475673, 270.3581796 ,\n       339.1056177 , 184.10634923, 126.3961371 , 201.01635291,\n       232.95615288,  95.69972419,  94.51695472,  60.90870723,\n        86.85985487, 225.81686778, 141.26892137, 134.30037046,\n       689.37428822, 433.28681216, 260.54547822, 108.34149965,\n       211.58450845,  95.02479792, 307.76386146, 117.72879914,\n       114.33850632, 125.97065155, 171.27960339, 135.10927073,\n        73.66543564, 158.98206657, 181.32447434, 139.13646561,\n       175.28767059, 280.32979277, 358.51655517, 215.55133154,\n       138.29748825, 274.20856561, 456.78812926, 228.46575109,\n       146.10092093, 214.608157  ,  78.24454155, 265.01128758,\n       145.81833599, 207.58762636, 368.15974997, 121.95074173,\n       622.66056792, 244.17927784, 178.24436156, 166.40808096,\n       120.30818539,  90.76055642, 413.88039726, 486.26999212,\n       159.36640658, 155.84095679,  86.0988206 , 233.17451512,\n       157.16275507, 190.22607103,  90.65039221, 186.03948559,\n       139.97312313, 152.34208585, 261.28848744, 105.65403436,\n       107.03279384, 401.9290321 ,  77.01096677, 164.23090495,\n       595.21910263, 383.16812102, 172.95945545, 295.24502138,\n       156.81491579, 127.03016019, 107.76885437, 161.36676303,\n       320.60112289,  92.38741178, 142.16778189, 144.0768976 ,\n       100.70035767, 112.13487545, 426.43195173, 114.52349703,\n       400.2927626 , 269.38719257, 403.0513168 , 179.52986453,\n       399.2026739 , 205.52491414, 254.78056497, 223.79401731,\n       394.88926741, 269.1625816 , 281.52196401, 218.73057762,\n       300.36967883, 655.14169206,  96.39943192, 152.19290033,\n       138.20216258,  94.29490883, 163.68356929, 105.55459863,\n       494.04132628,  80.73708242, 290.3983827 , 112.82249841,\n       106.51047901, 290.46900243, 164.11760653, 156.47740635,\n       362.69773041, 120.08764202, 349.46880078, 229.66362521,\n       138.47610258, 131.05982121, 123.34600787, 136.03160465,\n       103.45405395, 106.56494841, 176.49317886, 186.41021887,\n       136.80622714, 118.59216741, 130.22952611, 154.79091617,\n        94.17348861, 123.17650399, 181.86359792,  86.73675248,\n       419.47650501, 127.35208914, 369.28829945,  88.47980525,\n       111.48412348, 111.22985286, 146.37183657,  66.55170814,\n       157.97575865, 150.40529553, 112.36438426, 188.14748108,\n       140.22375856, 109.41777665,  57.66219101, 127.68913346,\n       121.26960381, 317.06032047,  67.9629264 , 123.35355338,\n        89.27823283, 366.7492932 , 137.73183467, 406.43756733,\n       130.3163238 , 132.62436755, 170.46108773, 120.80293583,\n       243.11805811, 224.15073513, 233.88665933, 143.44980967,\n       102.48733022, 110.51531136, 125.66911925, 288.33278919,\n       135.7001658 , 381.06655129,  86.94309728, 596.02727783,\n       188.67634466,  79.58663159, 101.64837801, 341.81385681,\n       117.02107854,  84.6042758 , 126.04165691, 194.24589272,\n       109.61645585, 115.01938933, 120.63920885, 208.55219498,\n       669.38922932, 223.05316615, 104.54809249, 128.50714252,\n       137.35622678, 160.36943671,  68.17846663,  91.63401766,\n       134.25781457, 145.15411647, 134.0393812 , 230.12126417,\n       151.65391349, 386.16298307, 364.33913825, 136.17866732,\n       617.0565744 , 469.79741217, 252.08732766, 190.57302522,\n       362.92781561, 414.46012572, 155.66754572, 205.08603901,\n        86.09429952, 154.91713328, 154.06737995, 109.84372372,\n       107.91061676, 102.44324009, 116.5036837 , 133.28839573,\n       145.211164  , 176.79472675, 123.5600416 , 167.6356701 ,\n       104.93030952, 308.73343737,  89.68612428,  69.49044416,\n       272.54981436, 441.14093226, 125.72156907, 160.87706376,\n       153.81050336, 136.85182117, 109.82861449, 124.50157494,\n       287.83143935, 129.60512436, 142.96387119, 135.5592681 ,\n       124.70469345, 105.4865752 , 217.76926888, 144.84788178,\n       293.8611383 , 134.81305587, 115.49494294, 105.74806198,\n        71.24846952, 194.82346493, 206.31823531, 119.34325423,\n        79.24126847, 339.15591745, 132.26435136, 104.61091298,\n       116.41467177, 182.8908178 , 110.24117442, 160.31434632,\n        84.23365696,  85.51224433,  97.2780706 , 106.82624553,\n        99.90918176, 135.51590197, 189.37949464, 122.41584607,\n       339.70588589, 342.15393624, 180.56726053, 185.56482632,\n       141.81333905, 169.80670176, 167.61368136, 161.16278885,\n       106.36271087, 277.99026214, 161.1591161 ,  88.02460653,\n       285.74622062, 118.95007154, 305.50111639, 187.73909162,\n       186.16822961, 430.23176586, 117.01142398, 325.1275325 ,\n       120.39676895, 173.59074667, 141.05163023, 157.66293318,\n       117.89456965, 145.7453905 , 143.16044932,  80.1386594 ,\n       332.66833512, 869.41988014, 171.60603219, 113.31543089,\n       153.26791734, 160.41638938, 153.39681941,  83.78550067,\n       305.31112334, 117.37072378,  84.75465262, 127.03104111,\n       199.79617637, 127.50746898,  99.0850977 , 138.85474213,\n       181.521229  , 164.41826225, 108.79281815, 218.36993397,\n       125.11047945, 180.17935306, 150.60114442, 156.78028956,\n       199.41709875, 132.01320959, 186.96530969, 367.90514056,\n       121.62974552, 242.64620602, 136.69663931, 274.55104908,\n       306.35413391, 125.79939881, 147.92767653, 182.14850102,\n       140.31346855, 136.07963355, 337.77559156, 386.04672943,\n       193.04428489, 173.33178376, 128.08982916, 571.48765817,\n        68.93318689,  75.28620364, 120.60025368,  96.92914498,\n       217.38094134, 204.7088756 , 112.06466041, 179.15220276,\n       177.71473868, 190.49770326, 209.71940134, 108.64432207,\n       320.58189987, 359.02351698, 146.80267916, 139.77465241,\n        73.41070402, 565.43336836, 102.63093816, 158.83172382,\n        84.10937314,  62.56999203, 159.2798431 , 129.06274009,\n       154.96664859, 124.40496786, 122.19111199, 121.32296764,\n       169.38821427, 367.61322705,  96.35058571, 391.79674964,\n       168.97389872, 111.56352075,  54.14470364,  49.92549679,\n       107.20813324, 182.84134441, 186.47105567, 145.34861059,\n       158.58238878, 162.80607868,  88.65844203,  84.63972645,\n        81.48514414, 109.21485557,  96.25131517, 101.54188062,\n       137.20423415,  69.86262368, 138.08656993,  84.59182142,\n        82.13040297,  75.26607897, 172.84953316, 109.38631965,\n       162.63508483, 102.67767589, 204.02922993, 397.11505409,\n       440.31607164, 375.630578  , 248.00409154, 389.14869991,\n        57.30946179])"
     },
     "execution_count": 6,
     "metadata": {},
     "output_type": "execute_result"
    }
   ]
  },
  {
   "cell_type": "code",
   "metadata": {
    "id": "KGvWn7gN_SfR"
   },
   "source": [
    "print(data.DESCR)"
   ],
   "execution_count": 7,
   "outputs": [
    {
     "name": "stdout",
     "output_type": "stream",
     "text": [
      ".. _breast_cancer_dataset:\n",
      "\n",
      "Breast cancer wisconsin (diagnostic) dataset\n",
      "--------------------------------------------\n",
      "\n",
      "**Data Set Characteristics:**\n",
      "\n",
      "    :Number of Instances: 569\n",
      "\n",
      "    :Number of Attributes: 30 numeric, predictive attributes and the class\n",
      "\n",
      "    :Attribute Information:\n",
      "        - radius (mean of distances from center to points on the perimeter)\n",
      "        - texture (standard deviation of gray-scale values)\n",
      "        - perimeter\n",
      "        - area\n",
      "        - smoothness (local variation in radius lengths)\n",
      "        - compactness (perimeter^2 / area - 1.0)\n",
      "        - concavity (severity of concave portions of the contour)\n",
      "        - concave points (number of concave portions of the contour)\n",
      "        - symmetry\n",
      "        - fractal dimension (\"coastline approximation\" - 1)\n",
      "\n",
      "        The mean, standard error, and \"worst\" or largest (mean of the three\n",
      "        worst/largest values) of these features were computed for each image,\n",
      "        resulting in 30 features.  For instance, field 0 is Mean Radius, field\n",
      "        10 is Radius SE, field 20 is Worst Radius.\n",
      "\n",
      "        - class:\n",
      "                - WDBC-Malignant\n",
      "                - WDBC-Benign\n",
      "\n",
      "    :Summary Statistics:\n",
      "\n",
      "    ===================================== ====== ======\n",
      "                                           Min    Max\n",
      "    ===================================== ====== ======\n",
      "    radius (mean):                        6.981  28.11\n",
      "    texture (mean):                       9.71   39.28\n",
      "    perimeter (mean):                     43.79  188.5\n",
      "    area (mean):                          143.5  2501.0\n",
      "    smoothness (mean):                    0.053  0.163\n",
      "    compactness (mean):                   0.019  0.345\n",
      "    concavity (mean):                     0.0    0.427\n",
      "    concave points (mean):                0.0    0.201\n",
      "    symmetry (mean):                      0.106  0.304\n",
      "    fractal dimension (mean):             0.05   0.097\n",
      "    radius (standard error):              0.112  2.873\n",
      "    texture (standard error):             0.36   4.885\n",
      "    perimeter (standard error):           0.757  21.98\n",
      "    area (standard error):                6.802  542.2\n",
      "    smoothness (standard error):          0.002  0.031\n",
      "    compactness (standard error):         0.002  0.135\n",
      "    concavity (standard error):           0.0    0.396\n",
      "    concave points (standard error):      0.0    0.053\n",
      "    symmetry (standard error):            0.008  0.079\n",
      "    fractal dimension (standard error):   0.001  0.03\n",
      "    radius (worst):                       7.93   36.04\n",
      "    texture (worst):                      12.02  49.54\n",
      "    perimeter (worst):                    50.41  251.2\n",
      "    area (worst):                         185.2  4254.0\n",
      "    smoothness (worst):                   0.071  0.223\n",
      "    compactness (worst):                  0.027  1.058\n",
      "    concavity (worst):                    0.0    1.252\n",
      "    concave points (worst):               0.0    0.291\n",
      "    symmetry (worst):                     0.156  0.664\n",
      "    fractal dimension (worst):            0.055  0.208\n",
      "    ===================================== ====== ======\n",
      "\n",
      "    :Missing Attribute Values: None\n",
      "\n",
      "    :Class Distribution: 212 - Malignant, 357 - Benign\n",
      "\n",
      "    :Creator:  Dr. William H. Wolberg, W. Nick Street, Olvi L. Mangasarian\n",
      "\n",
      "    :Donor: Nick Street\n",
      "\n",
      "    :Date: November, 1995\n",
      "\n",
      "This is a copy of UCI ML Breast Cancer Wisconsin (Diagnostic) datasets.\n",
      "https://goo.gl/U2Uwz2\n",
      "\n",
      "Features are computed from a digitized image of a fine needle\n",
      "aspirate (FNA) of a breast mass.  They describe\n",
      "characteristics of the cell nuclei present in the image.\n",
      "\n",
      "Separating plane described above was obtained using\n",
      "Multisurface Method-Tree (MSM-T) [K. P. Bennett, \"Decision Tree\n",
      "Construction Via Linear Programming.\" Proceedings of the 4th\n",
      "Midwest Artificial Intelligence and Cognitive Science Society,\n",
      "pp. 97-101, 1992], a classification method which uses linear\n",
      "programming to construct a decision tree.  Relevant features\n",
      "were selected using an exhaustive search in the space of 1-4\n",
      "features and 1-3 separating planes.\n",
      "\n",
      "The actual linear program used to obtain the separating plane\n",
      "in the 3-dimensional space is that described in:\n",
      "[K. P. Bennett and O. L. Mangasarian: \"Robust Linear\n",
      "Programming Discrimination of Two Linearly Inseparable Sets\",\n",
      "Optimization Methods and Software 1, 1992, 23-34].\n",
      "\n",
      "This database is also available through the UW CS ftp server:\n",
      "\n",
      "ftp ftp.cs.wisc.edu\n",
      "cd math-prog/cpo-dataset/machine-learn/WDBC/\n",
      "\n",
      ".. topic:: References\n",
      "\n",
      "   - W.N. Street, W.H. Wolberg and O.L. Mangasarian. Nuclear feature extraction \n",
      "     for breast tumor diagnosis. IS&T/SPIE 1993 International Symposium on \n",
      "     Electronic Imaging: Science and Technology, volume 1905, pages 861-870,\n",
      "     San Jose, CA, 1993.\n",
      "   - O.L. Mangasarian, W.N. Street and W.H. Wolberg. Breast cancer diagnosis and \n",
      "     prognosis via linear programming. Operations Research, 43(4), pages 570-577, \n",
      "     July-August 1995.\n",
      "   - W.H. Wolberg, W.N. Street, and O.L. Mangasarian. Machine learning techniques\n",
      "     to diagnose breast cancer from fine-needle aspirates. Cancer Letters 77 (1994) \n",
      "     163-171.\n"
     ]
    }
   ]
  },
  {
   "cell_type": "code",
   "metadata": {
    "id": "RgRJfSk9_SfS"
   },
   "source": [
    "data.target[-10:]"
   ],
   "execution_count": 8,
   "outputs": [
    {
     "data": {
      "text/plain": "array([1, 1, 1, 0, 0, 0, 0, 0, 0, 1])"
     },
     "execution_count": 8,
     "metadata": {},
     "output_type": "execute_result"
    }
   ]
  },
  {
   "cell_type": "code",
   "metadata": {
    "id": "nViDaYaX_SfS"
   },
   "source": [
    "data.feature_names"
   ],
   "execution_count": 9,
   "outputs": [
    {
     "data": {
      "text/plain": "array(['mean radius', 'mean texture', 'mean perimeter', 'mean area',\n       'mean smoothness', 'mean compactness', 'mean concavity',\n       'mean concave points', 'mean symmetry', 'mean fractal dimension',\n       'radius error', 'texture error', 'perimeter error', 'area error',\n       'smoothness error', 'compactness error', 'concavity error',\n       'concave points error', 'symmetry error',\n       'fractal dimension error', 'worst radius', 'worst texture',\n       'worst perimeter', 'worst area', 'worst smoothness',\n       'worst compactness', 'worst concavity', 'worst concave points',\n       'worst symmetry', 'worst fractal dimension'], dtype='<U23')"
     },
     "execution_count": 9,
     "metadata": {},
     "output_type": "execute_result"
    }
   ]
  },
  {
   "cell_type": "code",
   "metadata": {
    "id": "XgY-Ha3M_SfS"
   },
   "source": [
    "data.target_names"
   ],
   "execution_count": 10,
   "outputs": [
    {
     "data": {
      "text/plain": "array(['malignant', 'benign'], dtype='<U9')"
     },
     "execution_count": 10,
     "metadata": {},
     "output_type": "execute_result"
    }
   ]
  },
  {
   "cell_type": "code",
   "metadata": {
    "id": "FBdkIads_SfT"
   },
   "source": [
    "data.target.shape"
   ],
   "execution_count": 11,
   "outputs": [
    {
     "data": {
      "text/plain": "(569,)"
     },
     "execution_count": 11,
     "metadata": {},
     "output_type": "execute_result"
    }
   ]
  },
  {
   "cell_type": "code",
   "metadata": {
    "id": "snz5Fj08_SfU"
   },
   "source": [
    "print(X_train.shape, X_test.shape, y_train.shape, y_test.shape)"
   ],
   "execution_count": 12,
   "outputs": [
    {
     "name": "stdout",
     "output_type": "stream",
     "text": [
      "(426, 30) (143, 30) (426,) (143,)\n"
     ]
    }
   ]
  },
  {
   "cell_type": "code",
   "metadata": {
    "id": "p6REJZ5g_SfU"
   },
   "source": [
    "143*4"
   ],
   "execution_count": 13,
   "outputs": [
    {
     "data": {
      "text/plain": "572"
     },
     "execution_count": 13,
     "metadata": {},
     "output_type": "execute_result"
    }
   ]
  },
  {
   "cell_type": "code",
   "metadata": {
    "id": "jpMhuiQG_SfU"
   },
   "source": [
    "data.data[0]"
   ],
   "execution_count": 14,
   "outputs": [
    {
     "data": {
      "text/plain": "array([1.799e+01, 1.038e+01, 1.228e+02, 1.001e+03, 1.184e-01, 2.776e-01,\n       3.001e-01, 1.471e-01, 2.419e-01, 7.871e-02, 1.095e+00, 9.053e-01,\n       8.589e+00, 1.534e+02, 6.399e-03, 4.904e-02, 5.373e-02, 1.587e-02,\n       3.003e-02, 6.193e-03, 2.538e+01, 1.733e+01, 1.846e+02, 2.019e+03,\n       1.622e-01, 6.656e-01, 7.119e-01, 2.654e-01, 4.601e-01, 1.189e-01])"
     },
     "execution_count": 14,
     "metadata": {},
     "output_type": "execute_result"
    }
   ]
  },
  {
   "cell_type": "code",
   "metadata": {
    "id": "BeLXDmZd_SfU"
   },
   "source": [
    "data.target[0]"
   ],
   "execution_count": 15,
   "outputs": [
    {
     "data": {
      "text/plain": "0"
     },
     "execution_count": 15,
     "metadata": {},
     "output_type": "execute_result"
    }
   ]
  },
  {
   "cell_type": "markdown",
   "metadata": {
    "id": "uOeEyCtS_SfV"
   },
   "source": [
    "[Quiz] target에서 1과 0의 빈도를 계산해보자."
   ]
  },
  {
   "cell_type": "code",
   "metadata": {
    "id": "znrjE5Lm_SfV"
   },
   "source": [
    "import numpy as np\n",
    "uniq, freq = np.unique(data.target, return_counts=True)\n",
    "uniq, freq"
   ],
   "execution_count": 16,
   "outputs": [
    {
     "data": {
      "text/plain": "(array([0, 1]), array([212, 357], dtype=int64))"
     },
     "execution_count": 16,
     "metadata": {},
     "output_type": "execute_result"
    }
   ]
  },
  {
   "cell_type": "code",
   "metadata": {
    "id": "X-aQqGpIVmUz"
   },
   "source": [
    "import pandas as pd\n",
    "pd.Series(data.target).value_counts()"
   ],
   "execution_count": 17,
   "outputs": [
    {
     "data": {
      "text/plain": "1    357\n0    212\ndtype: int64"
     },
     "execution_count": 17,
     "metadata": {},
     "output_type": "execute_result"
    }
   ]
  },
  {
   "cell_type": "markdown",
   "metadata": {
    "id": "6KMQUvT2_SfV"
   },
   "source": [
    "모델을 학습데이터로 학습하고, 테스트 데이터로 예측을 수행하여 예측값 y_pred을 생성합니다."
   ]
  },
  {
   "cell_type": "code",
   "metadata": {
    "id": "mri73zGk_SfV"
   },
   "source": [
    "model.fit(X_train, y_train)\n",
    "y_pred = model.predict(X_test)\n",
    "y_pred"
   ],
   "execution_count": 18,
   "outputs": [
    {
     "data": {
      "text/plain": "array([1, 0, 0, 1, 1, 0, 0, 0, 0, 1, 1, 0, 1, 1, 1, 0, 1, 1, 1, 0, 1, 1,\n       0, 1, 1, 1, 1, 1, 1, 0, 1, 1, 1, 1, 1, 1, 0, 1, 0, 1, 1, 0, 1, 1,\n       1, 1, 1, 1, 1, 1, 0, 0, 1, 1, 1, 1, 1, 0, 0, 1, 1, 0, 0, 1, 1, 1,\n       0, 0, 1, 1, 0, 0, 1, 0, 1, 1, 1, 1, 1, 1, 0, 1, 1, 0, 0, 0, 0, 0,\n       1, 1, 1, 1, 1, 1, 1, 1, 0, 0, 1, 0, 0, 1, 0, 0, 1, 1, 1, 0, 1, 1,\n       0, 1, 1, 0, 1, 0, 1, 1, 1, 0, 1, 1, 1, 0, 1, 0, 0, 1, 1, 0, 0, 0,\n       1, 1, 1, 0, 0, 1, 1, 0, 1, 0, 1])"
     },
     "execution_count": 18,
     "metadata": {},
     "output_type": "execute_result"
    }
   ]
  },
  {
   "cell_type": "markdown",
   "metadata": {
    "id": "n2tWgjcX_SfW"
   },
   "source": [
    "이를 테스트데이터의 참값과 비교해 봅니다."
   ]
  },
  {
   "cell_type": "code",
   "metadata": {
    "id": "FK8sZWUk_SfW"
   },
   "source": [
    "y_test"
   ],
   "execution_count": 19,
   "outputs": [
    {
     "data": {
      "text/plain": "array([1, 0, 0, 1, 1, 0, 0, 0, 1, 1, 1, 0, 1, 0, 1, 0, 1, 1, 1, 0, 0, 1,\n       0, 1, 1, 1, 1, 1, 1, 0, 1, 1, 1, 1, 1, 1, 0, 1, 0, 1, 1, 0, 1, 1,\n       1, 1, 1, 1, 1, 1, 0, 0, 1, 1, 1, 1, 1, 0, 0, 1, 1, 0, 0, 1, 1, 1,\n       0, 0, 1, 1, 0, 0, 1, 0, 1, 1, 1, 0, 1, 1, 0, 1, 0, 0, 0, 0, 0, 0,\n       1, 1, 1, 1, 1, 1, 1, 1, 0, 0, 1, 0, 0, 1, 0, 0, 1, 1, 1, 0, 1, 1,\n       0, 1, 1, 0, 1, 0, 1, 1, 1, 0, 1, 1, 1, 0, 1, 0, 0, 1, 1, 0, 0, 0,\n       1, 1, 1, 0, 1, 1, 1, 0, 1, 0, 1])"
     },
     "execution_count": 19,
     "metadata": {},
     "output_type": "execute_result"
    }
   ]
  },
  {
   "cell_type": "markdown",
   "metadata": {
    "id": "d0jtSjrM_SfW"
   },
   "source": [
    "테스트 데이터에서의 정확도는 아래와 같이 수행될 수 있습니다."
   ]
  },
  {
   "cell_type": "code",
   "metadata": {
    "id": "O_OUOh0m_SfW"
   },
   "source": [
    "(y_pred == y_test).mean()"
   ],
   "execution_count": 20,
   "outputs": [
    {
     "data": {
      "text/plain": "0.958041958041958"
     },
     "execution_count": 20,
     "metadata": {},
     "output_type": "execute_result"
    }
   ]
  },
  {
   "cell_type": "markdown",
   "metadata": {
    "id": "Rgtx4bwF_SfW"
   },
   "source": [
    "위 과정을 score 메소드를 이용하여 한번에 수행할 수 있습니다."
   ]
  },
  {
   "cell_type": "code",
   "metadata": {
    "id": "oIybKSSB_SfW"
   },
   "source": [
    "model.score(X_test, y_test)"
   ],
   "execution_count": 21,
   "outputs": [
    {
     "data": {
      "text/plain": "0.958041958041958"
     },
     "execution_count": 21,
     "metadata": {},
     "output_type": "execute_result"
    }
   ]
  },
  {
   "cell_type": "markdown",
   "metadata": {
    "id": "s9khpxfv_SfX"
   },
   "source": [
    "모델의 학습내용은 tree에 저정되어 있습니다. graphviz는 아래와 같이 간단히 설치한다.\n",
    "```bash\n",
    "pip install graphviz\n",
    "```"
   ]
  },
  {
   "cell_type": "code",
   "metadata": {
    "id": "g0oepWfb_SfX"
   },
   "source": [
    "tree = model.tree_"
   ],
   "execution_count": 22,
   "outputs": []
  },
  {
   "cell_type": "code",
   "metadata": {
    "id": "uzgOUq35_SfX"
   },
   "source": [
    "import graphviz\n",
    "from sklearn.tree import export_graphviz, plot_tree"
   ],
   "execution_count": 23,
   "outputs": []
  },
  {
   "cell_type": "markdown",
   "metadata": {
    "id": "2u5fz80a_SfX"
   },
   "source": [
    "아래와 같이 plot_tree 함수로 split point와 tree를 그려볼 수 있습니다."
   ]
  },
  {
   "cell_type": "code",
   "metadata": {
    "id": "NQKaomC0_SfX"
   },
   "source": [
    "plot_tree(model)"
   ],
   "execution_count": 24,
   "outputs": [
    {
     "data": {
      "text/plain": "[Text(209.25000000000003, 203.85, 'X[7] <= 0.051\\nentropy = 0.951\\nsamples = 426\\nvalue = [158, 268]'),\n Text(120.9, 176.67000000000002, 'X[20] <= 16.83\\nentropy = 0.327\\nsamples = 267\\nvalue = [16, 251]'),\n Text(74.4, 149.49, 'X[13] <= 48.7\\nentropy = 0.142\\nsamples = 249\\nvalue = [5, 244]'),\n Text(37.2, 122.31, 'X[21] <= 30.145\\nentropy = 0.095\\nsamples = 246\\nvalue = [3, 243]'),\n Text(18.6, 95.13, 'entropy = 0.0\\nsamples = 213\\nvalue = [0, 213]'),\n Text(55.800000000000004, 95.13, 'X[20] <= 14.43\\nentropy = 0.439\\nsamples = 33\\nvalue = [3, 30]'),\n Text(37.2, 67.94999999999999, 'entropy = 0.0\\nsamples = 23\\nvalue = [0, 23]'),\n Text(74.4, 67.94999999999999, 'X[0] <= 13.45\\nentropy = 0.881\\nsamples = 10\\nvalue = [3, 7]'),\n Text(55.800000000000004, 40.77000000000001, 'X[27] <= 0.085\\nentropy = 0.811\\nsamples = 4\\nvalue = [3, 1]'),\n Text(37.2, 13.590000000000003, 'entropy = 0.0\\nsamples = 1\\nvalue = [0, 1]'),\n Text(74.4, 13.590000000000003, 'entropy = 0.0\\nsamples = 3\\nvalue = [3, 0]'),\n Text(93.0, 40.77000000000001, 'entropy = 0.0\\nsamples = 6\\nvalue = [0, 6]'),\n Text(111.60000000000001, 122.31, 'X[28] <= 0.208\\nentropy = 0.918\\nsamples = 3\\nvalue = [2, 1]'),\n Text(93.0, 95.13, 'entropy = 0.0\\nsamples = 2\\nvalue = [2, 0]'),\n Text(130.20000000000002, 95.13, 'entropy = 0.0\\nsamples = 1\\nvalue = [0, 1]'),\n Text(167.4, 149.49, 'X[21] <= 19.91\\nentropy = 0.964\\nsamples = 18\\nvalue = [11, 7]'),\n Text(148.8, 122.31, 'entropy = 0.0\\nsamples = 5\\nvalue = [0, 5]'),\n Text(186.0, 122.31, 'X[17] <= 0.01\\nentropy = 0.619\\nsamples = 13\\nvalue = [11, 2]'),\n Text(167.4, 95.13, 'entropy = 0.0\\nsamples = 11\\nvalue = [11, 0]'),\n Text(204.60000000000002, 95.13, 'entropy = 0.0\\nsamples = 2\\nvalue = [0, 2]'),\n Text(297.6, 176.67000000000002, 'X[22] <= 114.45\\nentropy = 0.491\\nsamples = 159\\nvalue = [142, 17]'),\n Text(279.0, 149.49, 'X[21] <= 25.655\\nentropy = 0.979\\nsamples = 41\\nvalue = [24, 17]'),\n Text(260.40000000000003, 122.31, 'X[27] <= 0.166\\nentropy = 0.485\\nsamples = 19\\nvalue = [2, 17]'),\n Text(241.8, 95.13, 'entropy = 0.0\\nsamples = 17\\nvalue = [0, 17]'),\n Text(279.0, 95.13, 'entropy = 0.0\\nsamples = 2\\nvalue = [2, 0]'),\n Text(297.6, 122.31, 'entropy = 0.0\\nsamples = 22\\nvalue = [22, 0]'),\n Text(316.20000000000005, 149.49, 'entropy = 0.0\\nsamples = 118\\nvalue = [118, 0]')]"
     },
     "execution_count": 24,
     "metadata": {},
     "output_type": "execute_result"
    },
    {
     "data": {
      "text/plain": "<Figure size 432x288 with 1 Axes>",
      "image/png": "[encoded data removed]"
     },
     "metadata": {
      "needs_background": "light"
     },
     "output_type": "display_data"
    }
   ]
  },
  {
   "cell_type": "markdown",
   "metadata": {
    "id": "giKXEike_SfX"
   },
   "source": [
    "아래 작업을 수행하기 위한 준비사항:\n",
    "1. pip install graphviz\n",
    "2. [graphviz 사이트](https://graphviz.org/download/)에서 설치파일을 다운로드하고 설치한다.\n",
    "3. 환경변수에 graphviz 설치폴더의 bin 폴더를 path를 등록.(설치옵션)\n",
    "4. 컴퓨터를 재부팅시킨다."
   ]
  },
  {
   "cell_type": "code",
   "metadata": {
    "id": "mNm7UmHD_SfY"
   },
   "source": [
    "dot_data = export_graphviz(model, out_file=None, \n",
    "                     feature_names=data.feature_names,  \n",
    "                     class_names=data.target_names,  \n",
    "                     filled=True, rounded=True,  \n",
    "                     special_characters=True)  \n",
    "graph = graphviz.Source(dot_data)  \n",
    "graph"
   ],
   "execution_count": 25,
   "outputs": [
    {
     "data": {
      "text/plain": "<graphviz.files.Source at 0x280501a4cd0>",
      "image/svg+xml": "<?xml version=\"1.0\" encoding=\"UTF-8\" standalone=\"no\"?>\r\n<!DOCTYPE svg PUBLIC \"-//W3C//DTD SVG 1.1//EN\"\r\n \"http://www.w3.org/Graphics/SVG/1.1/DTD/svg11.dtd\">\r\n<!-- Generated by graphviz version 2.38.0 (20140413.2041)\r\n -->\r\n<!-- Title: Tree Pages: 1 -->\r\n<svg width=\"1164pt\" height=\"909pt\"\r\n viewBox=\"0.00 0.00 1164.00 909.00\" xmlns=\"http://www.w3.org/2000/svg\" xmlns:xlink=\"http://www.w3.org/1999/xlink\">\r\n<g id=\"graph0\" class=\"graph\" transform=\"scale(1 1) rotate(0) translate(4 905)\">\r\n<title>Tree</title>\r\n<polygon fill=\"white\" stroke=\"none\" points=\"-4,4 -4,-905 1160,-905 1160,4 -4,4\"/>\r\n<!-- 0 -->\r\n<g id=\"node1\" class=\"node\"><title>0</title>\r\n<path fill=\"#aed7f4\" stroke=\"black\" d=\"M854,-901C854,-901 675,-901 675,-901 669,-901 663,-895 663,-889 663,-889 663,-830 663,-830 663,-824 669,-818 675,-818 675,-818 854,-818 854,-818 860,-818 866,-824 866,-830 866,-830 866,-889 866,-889 866,-895 860,-901 854,-901\"/>\r\n<text text-anchor=\"start\" x=\"671\" y=\"-885.8\" font-family=\"Helvetica,sans-Serif\" font-size=\"14.00\">mean concave points ≤ 0.051</text>\r\n<text text-anchor=\"start\" x=\"714.5\" y=\"-870.8\" font-family=\"Helvetica,sans-Serif\" font-size=\"14.00\">entropy = 0.951</text>\r\n<text text-anchor=\"start\" x=\"717\" y=\"-855.8\" font-family=\"Helvetica,sans-Serif\" font-size=\"14.00\">samples = 426</text>\r\n<text text-anchor=\"start\" x=\"707.5\" y=\"-840.8\" font-family=\"Helvetica,sans-Serif\" font-size=\"14.00\">value = [158, 268]</text>\r\n<text text-anchor=\"start\" x=\"718.5\" y=\"-825.8\" font-family=\"Helvetica,sans-Serif\" font-size=\"14.00\">class = benign</text>\r\n</g>\r\n<!-- 1 -->\r\n<g id=\"node2\" class=\"node\"><title>1</title>\r\n<path fill=\"#46a3e7\" stroke=\"black\" d=\"M676.5,-782C676.5,-782 556.5,-782 556.5,-782 550.5,-782 544.5,-776 544.5,-770 544.5,-770 544.5,-711 544.5,-711 544.5,-705 550.5,-699 556.5,-699 556.5,-699 676.5,-699 676.5,-699 682.5,-699 688.5,-705 688.5,-711 688.5,-711 688.5,-770 688.5,-770 688.5,-776 682.5,-782 676.5,-782\"/>\r\n<text text-anchor=\"start\" x=\"552.5\" y=\"-766.8\" font-family=\"Helvetica,sans-Serif\" font-size=\"14.00\">worst radius ≤ 16.83</text>\r\n<text text-anchor=\"start\" x=\"566.5\" y=\"-751.8\" font-family=\"Helvetica,sans-Serif\" font-size=\"14.00\">entropy = 0.327</text>\r\n<text text-anchor=\"start\" x=\"569\" y=\"-736.8\" font-family=\"Helvetica,sans-Serif\" font-size=\"14.00\">samples = 267</text>\r\n<text text-anchor=\"start\" x=\"563.5\" y=\"-721.8\" font-family=\"Helvetica,sans-Serif\" font-size=\"14.00\">value = [16, 251]</text>\r\n<text text-anchor=\"start\" x=\"570.5\" y=\"-706.8\" font-family=\"Helvetica,sans-Serif\" font-size=\"14.00\">class = benign</text>\r\n</g>\r\n<!-- 0&#45;&gt;1 -->\r\n<g id=\"edge1\" class=\"edge\"><title>0&#45;&gt;1</title>\r\n<path fill=\"none\" stroke=\"black\" d=\"M713.152,-817.907C701.099,-808.379 688.158,-798.148 675.788,-788.37\"/>\r\n<polygon fill=\"black\" stroke=\"black\" points=\"677.772,-785.477 667.757,-782.021 673.431,-790.968 677.772,-785.477\"/>\r\n<text text-anchor=\"middle\" x=\"670.662\" y=\"-803.151\" font-family=\"Helvetica,sans-Serif\" font-size=\"14.00\">True</text>\r\n</g>\r\n<!-- 20 -->\r\n<g id=\"node21\" class=\"node\"><title>20</title>\r\n<path fill=\"#e89051\" stroke=\"black\" d=\"M988,-782C988,-782 837,-782 837,-782 831,-782 825,-776 825,-770 825,-770 825,-711 825,-711 825,-705 831,-699 837,-699 837,-699 988,-699 988,-699 994,-699 1000,-705 1000,-711 1000,-711 1000,-770 1000,-770 1000,-776 994,-782 988,-782\"/>\r\n<text text-anchor=\"start\" x=\"833\" y=\"-766.8\" font-family=\"Helvetica,sans-Serif\" font-size=\"14.00\">worst perimeter ≤ 114.45</text>\r\n<text text-anchor=\"start\" x=\"862.5\" y=\"-751.8\" font-family=\"Helvetica,sans-Serif\" font-size=\"14.00\">entropy = 0.491</text>\r\n<text text-anchor=\"start\" x=\"865\" y=\"-736.8\" font-family=\"Helvetica,sans-Serif\" font-size=\"14.00\">samples = 159</text>\r\n<text text-anchor=\"start\" x=\"859.5\" y=\"-721.8\" font-family=\"Helvetica,sans-Serif\" font-size=\"14.00\">value = [142, 17]</text>\r\n<text text-anchor=\"start\" x=\"858\" y=\"-706.8\" font-family=\"Helvetica,sans-Serif\" font-size=\"14.00\">class = malignant</text>\r\n</g>\r\n<!-- 0&#45;&gt;20 -->\r\n<g id=\"edge20\" class=\"edge\"><title>0&#45;&gt;20</title>\r\n<path fill=\"none\" stroke=\"black\" d=\"M815.848,-817.907C827.901,-808.379 840.842,-798.148 853.212,-788.37\"/>\r\n<polygon fill=\"black\" stroke=\"black\" points=\"855.569,-790.968 861.243,-782.021 851.228,-785.477 855.569,-790.968\"/>\r\n<text text-anchor=\"middle\" x=\"858.338\" y=\"-803.151\" font-family=\"Helvetica,sans-Serif\" font-size=\"14.00\">False</text>\r\n</g>\r\n<!-- 2 -->\r\n<g id=\"node3\" class=\"node\"><title>2</title>\r\n<path fill=\"#3d9fe6\" stroke=\"black\" d=\"M425.5,-663C425.5,-663 327.5,-663 327.5,-663 321.5,-663 315.5,-657 315.5,-651 315.5,-651 315.5,-592 315.5,-592 315.5,-586 321.5,-580 327.5,-580 327.5,-580 425.5,-580 425.5,-580 431.5,-580 437.5,-586 437.5,-592 437.5,-592 437.5,-651 437.5,-651 437.5,-657 431.5,-663 425.5,-663\"/>\r\n<text text-anchor=\"start\" x=\"323.5\" y=\"-647.8\" font-family=\"Helvetica,sans-Serif\" font-size=\"14.00\">area error ≤ 48.7</text>\r\n<text text-anchor=\"start\" x=\"326.5\" y=\"-632.8\" font-family=\"Helvetica,sans-Serif\" font-size=\"14.00\">entropy = 0.142</text>\r\n<text text-anchor=\"start\" x=\"329\" y=\"-617.8\" font-family=\"Helvetica,sans-Serif\" font-size=\"14.00\">samples = 249</text>\r\n<text text-anchor=\"start\" x=\"328\" y=\"-602.8\" font-family=\"Helvetica,sans-Serif\" font-size=\"14.00\">value = [5, 244]</text>\r\n<text text-anchor=\"start\" x=\"330.5\" y=\"-587.8\" font-family=\"Helvetica,sans-Serif\" font-size=\"14.00\">class = benign</text>\r\n</g>\r\n<!-- 1&#45;&gt;2 -->\r\n<g id=\"edge2\" class=\"edge\"><title>1&#45;&gt;2</title>\r\n<path fill=\"none\" stroke=\"black\" d=\"M544.492,-704.396C513.585,-689.329 477.593,-671.783 446.87,-656.805\"/>\r\n<polygon fill=\"black\" stroke=\"black\" points=\"448.038,-653.481 437.516,-652.245 444.971,-659.773 448.038,-653.481\"/>\r\n</g>\r\n<!-- 15 -->\r\n<g id=\"node16\" class=\"node\"><title>15</title>\r\n<path fill=\"#f6d1b7\" stroke=\"black\" d=\"M679,-663C679,-663 554,-663 554,-663 548,-663 542,-657 542,-651 542,-651 542,-592 542,-592 542,-586 548,-580 554,-580 554,-580 679,-580 679,-580 685,-580 691,-586 691,-592 691,-592 691,-651 691,-651 691,-657 685,-663 679,-663\"/>\r\n<text text-anchor=\"start\" x=\"550\" y=\"-647.8\" font-family=\"Helvetica,sans-Serif\" font-size=\"14.00\">worst texture ≤ 19.91</text>\r\n<text text-anchor=\"start\" x=\"566.5\" y=\"-632.8\" font-family=\"Helvetica,sans-Serif\" font-size=\"14.00\">entropy = 0.964</text>\r\n<text text-anchor=\"start\" x=\"573\" y=\"-617.8\" font-family=\"Helvetica,sans-Serif\" font-size=\"14.00\">samples = 18</text>\r\n<text text-anchor=\"start\" x=\"572\" y=\"-602.8\" font-family=\"Helvetica,sans-Serif\" font-size=\"14.00\">value = [11, 7]</text>\r\n<text text-anchor=\"start\" x=\"562\" y=\"-587.8\" font-family=\"Helvetica,sans-Serif\" font-size=\"14.00\">class = malignant</text>\r\n</g>\r\n<!-- 1&#45;&gt;15 -->\r\n<g id=\"edge15\" class=\"edge\"><title>1&#45;&gt;15</title>\r\n<path fill=\"none\" stroke=\"black\" d=\"M616.5,-698.907C616.5,-690.649 616.5,-681.864 616.5,-673.302\"/>\r\n<polygon fill=\"black\" stroke=\"black\" points=\"620,-673.021 616.5,-663.021 613,-673.021 620,-673.021\"/>\r\n</g>\r\n<!-- 3 -->\r\n<g id=\"node4\" class=\"node\"><title>3</title>\r\n<path fill=\"#3b9ee5\" stroke=\"black\" d=\"M263,-544C263,-544 130,-544 130,-544 124,-544 118,-538 118,-532 118,-532 118,-473 118,-473 118,-467 124,-461 130,-461 130,-461 263,-461 263,-461 269,-461 275,-467 275,-473 275,-473 275,-532 275,-532 275,-538 269,-544 263,-544\"/>\r\n<text text-anchor=\"start\" x=\"126\" y=\"-528.8\" font-family=\"Helvetica,sans-Serif\" font-size=\"14.00\">worst texture ≤ 30.145</text>\r\n<text text-anchor=\"start\" x=\"146.5\" y=\"-513.8\" font-family=\"Helvetica,sans-Serif\" font-size=\"14.00\">entropy = 0.095</text>\r\n<text text-anchor=\"start\" x=\"149\" y=\"-498.8\" font-family=\"Helvetica,sans-Serif\" font-size=\"14.00\">samples = 246</text>\r\n<text text-anchor=\"start\" x=\"148\" y=\"-483.8\" font-family=\"Helvetica,sans-Serif\" font-size=\"14.00\">value = [3, 243]</text>\r\n<text text-anchor=\"start\" x=\"150.5\" y=\"-468.8\" font-family=\"Helvetica,sans-Serif\" font-size=\"14.00\">class = benign</text>\r\n</g>\r\n<!-- 2&#45;&gt;3 -->\r\n<g id=\"edge3\" class=\"edge\"><title>2&#45;&gt;3</title>\r\n<path fill=\"none\" stroke=\"black\" d=\"M315.309,-580.726C300.002,-570.776 283.452,-560.019 267.706,-549.784\"/>\r\n<polygon fill=\"black\" stroke=\"black\" points=\"269.346,-546.675 259.054,-544.16 265.531,-552.544 269.346,-546.675\"/>\r\n</g>\r\n<!-- 12 -->\r\n<g id=\"node13\" class=\"node\"><title>12</title>\r\n<path fill=\"#f2c09c\" stroke=\"black\" d=\"M448,-544C448,-544 305,-544 305,-544 299,-544 293,-538 293,-532 293,-532 293,-473 293,-473 293,-467 299,-461 305,-461 305,-461 448,-461 448,-461 454,-461 460,-467 460,-473 460,-473 460,-532 460,-532 460,-538 454,-544 448,-544\"/>\r\n<text text-anchor=\"start\" x=\"301\" y=\"-528.8\" font-family=\"Helvetica,sans-Serif\" font-size=\"14.00\">worst symmetry ≤ 0.208</text>\r\n<text text-anchor=\"start\" x=\"326.5\" y=\"-513.8\" font-family=\"Helvetica,sans-Serif\" font-size=\"14.00\">entropy = 0.918</text>\r\n<text text-anchor=\"start\" x=\"337\" y=\"-498.8\" font-family=\"Helvetica,sans-Serif\" font-size=\"14.00\">samples = 3</text>\r\n<text text-anchor=\"start\" x=\"336\" y=\"-483.8\" font-family=\"Helvetica,sans-Serif\" font-size=\"14.00\">value = [2, 1]</text>\r\n<text text-anchor=\"start\" x=\"322\" y=\"-468.8\" font-family=\"Helvetica,sans-Serif\" font-size=\"14.00\">class = malignant</text>\r\n</g>\r\n<!-- 2&#45;&gt;12 -->\r\n<g id=\"edge12\" class=\"edge\"><title>2&#45;&gt;12</title>\r\n<path fill=\"none\" stroke=\"black\" d=\"M376.5,-579.907C376.5,-571.649 376.5,-562.864 376.5,-554.302\"/>\r\n<polygon fill=\"black\" stroke=\"black\" points=\"380,-554.021 376.5,-544.021 373,-554.021 380,-554.021\"/>\r\n</g>\r\n<!-- 4 -->\r\n<g id=\"node5\" class=\"node\"><title>4</title>\r\n<path fill=\"#399de5\" stroke=\"black\" d=\"M101,-417.5C101,-417.5 12,-417.5 12,-417.5 6,-417.5 0,-411.5 0,-405.5 0,-405.5 0,-361.5 0,-361.5 0,-355.5 6,-349.5 12,-349.5 12,-349.5 101,-349.5 101,-349.5 107,-349.5 113,-355.5 113,-361.5 113,-361.5 113,-405.5 113,-405.5 113,-411.5 107,-417.5 101,-417.5\"/>\r\n<text text-anchor=\"start\" x=\"14.5\" y=\"-402.3\" font-family=\"Helvetica,sans-Serif\" font-size=\"14.00\">entropy = 0.0</text>\r\n<text text-anchor=\"start\" x=\"9\" y=\"-387.3\" font-family=\"Helvetica,sans-Serif\" font-size=\"14.00\">samples = 213</text>\r\n<text text-anchor=\"start\" x=\"8\" y=\"-372.3\" font-family=\"Helvetica,sans-Serif\" font-size=\"14.00\">value = [0, 213]</text>\r\n<text text-anchor=\"start\" x=\"10.5\" y=\"-357.3\" font-family=\"Helvetica,sans-Serif\" font-size=\"14.00\">class = benign</text>\r\n</g>\r\n<!-- 3&#45;&gt;4 -->\r\n<g id=\"edge4\" class=\"edge\"><title>3&#45;&gt;4</title>\r\n<path fill=\"none\" stroke=\"black\" d=\"M147.928,-460.907C133.668,-448.99 118.095,-435.976 103.908,-424.12\"/>\r\n<polygon fill=\"black\" stroke=\"black\" points=\"106.105,-421.394 96.1869,-417.667 101.616,-426.765 106.105,-421.394\"/>\r\n</g>\r\n<!-- 5 -->\r\n<g id=\"node6\" class=\"node\"><title>5</title>\r\n<path fill=\"#4da7e8\" stroke=\"black\" d=\"M263.5,-425C263.5,-425 143.5,-425 143.5,-425 137.5,-425 131.5,-419 131.5,-413 131.5,-413 131.5,-354 131.5,-354 131.5,-348 137.5,-342 143.5,-342 143.5,-342 263.5,-342 263.5,-342 269.5,-342 275.5,-348 275.5,-354 275.5,-354 275.5,-413 275.5,-413 275.5,-419 269.5,-425 263.5,-425\"/>\r\n<text text-anchor=\"start\" x=\"139.5\" y=\"-409.8\" font-family=\"Helvetica,sans-Serif\" font-size=\"14.00\">worst radius ≤ 14.43</text>\r\n<text text-anchor=\"start\" x=\"153.5\" y=\"-394.8\" font-family=\"Helvetica,sans-Serif\" font-size=\"14.00\">entropy = 0.439</text>\r\n<text text-anchor=\"start\" x=\"160\" y=\"-379.8\" font-family=\"Helvetica,sans-Serif\" font-size=\"14.00\">samples = 33</text>\r\n<text text-anchor=\"start\" x=\"159\" y=\"-364.8\" font-family=\"Helvetica,sans-Serif\" font-size=\"14.00\">value = [3, 30]</text>\r\n<text text-anchor=\"start\" x=\"157.5\" y=\"-349.8\" font-family=\"Helvetica,sans-Serif\" font-size=\"14.00\">class = benign</text>\r\n</g>\r\n<!-- 3&#45;&gt;5 -->\r\n<g id=\"edge5\" class=\"edge\"><title>3&#45;&gt;5</title>\r\n<path fill=\"none\" stroke=\"black\" d=\"M198.929,-460.907C199.428,-452.558 199.96,-443.671 200.477,-435.02\"/>\r\n<polygon fill=\"black\" stroke=\"black\" points=\"203.972,-435.212 201.076,-425.021 196.985,-434.794 203.972,-435.212\"/>\r\n</g>\r\n<!-- 6 -->\r\n<g id=\"node7\" class=\"node\"><title>6</title>\r\n<path fill=\"#399de5\" stroke=\"black\" d=\"M172.5,-298.5C172.5,-298.5 88.5,-298.5 88.5,-298.5 82.5,-298.5 76.5,-292.5 76.5,-286.5 76.5,-286.5 76.5,-242.5 76.5,-242.5 76.5,-236.5 82.5,-230.5 88.5,-230.5 88.5,-230.5 172.5,-230.5 172.5,-230.5 178.5,-230.5 184.5,-236.5 184.5,-242.5 184.5,-242.5 184.5,-286.5 184.5,-286.5 184.5,-292.5 178.5,-298.5 172.5,-298.5\"/>\r\n<text text-anchor=\"start\" x=\"88.5\" y=\"-283.3\" font-family=\"Helvetica,sans-Serif\" font-size=\"14.00\">entropy = 0.0</text>\r\n<text text-anchor=\"start\" x=\"87\" y=\"-268.3\" font-family=\"Helvetica,sans-Serif\" font-size=\"14.00\">samples = 23</text>\r\n<text text-anchor=\"start\" x=\"86\" y=\"-253.3\" font-family=\"Helvetica,sans-Serif\" font-size=\"14.00\">value = [0, 23]</text>\r\n<text text-anchor=\"start\" x=\"84.5\" y=\"-238.3\" font-family=\"Helvetica,sans-Serif\" font-size=\"14.00\">class = benign</text>\r\n</g>\r\n<!-- 5&#45;&gt;6 -->\r\n<g id=\"edge6\" class=\"edge\"><title>5&#45;&gt;6</title>\r\n<path fill=\"none\" stroke=\"black\" d=\"M178.173,-341.907C171.219,-330.763 163.667,-318.658 156.667,-307.439\"/>\r\n<polygon fill=\"black\" stroke=\"black\" points=\"159.457,-305.298 151.194,-298.667 153.518,-309.004 159.457,-305.298\"/>\r\n</g>\r\n<!-- 7 -->\r\n<g id=\"node8\" class=\"node\"><title>7</title>\r\n<path fill=\"#8ec7f0\" stroke=\"black\" d=\"M336.5,-306C336.5,-306 214.5,-306 214.5,-306 208.5,-306 202.5,-300 202.5,-294 202.5,-294 202.5,-235 202.5,-235 202.5,-229 208.5,-223 214.5,-223 214.5,-223 336.5,-223 336.5,-223 342.5,-223 348.5,-229 348.5,-235 348.5,-235 348.5,-294 348.5,-294 348.5,-300 342.5,-306 336.5,-306\"/>\r\n<text text-anchor=\"start\" x=\"210.5\" y=\"-290.8\" font-family=\"Helvetica,sans-Serif\" font-size=\"14.00\">mean radius ≤ 13.45</text>\r\n<text text-anchor=\"start\" x=\"225.5\" y=\"-275.8\" font-family=\"Helvetica,sans-Serif\" font-size=\"14.00\">entropy = 0.881</text>\r\n<text text-anchor=\"start\" x=\"232\" y=\"-260.8\" font-family=\"Helvetica,sans-Serif\" font-size=\"14.00\">samples = 10</text>\r\n<text text-anchor=\"start\" x=\"235\" y=\"-245.8\" font-family=\"Helvetica,sans-Serif\" font-size=\"14.00\">value = [3, 7]</text>\r\n<text text-anchor=\"start\" x=\"229.5\" y=\"-230.8\" font-family=\"Helvetica,sans-Serif\" font-size=\"14.00\">class = benign</text>\r\n</g>\r\n<!-- 5&#45;&gt;7 -->\r\n<g id=\"edge7\" class=\"edge\"><title>5&#45;&gt;7</title>\r\n<path fill=\"none\" stroke=\"black\" d=\"M228.48,-341.907C233.897,-333.105 239.683,-323.703 245.277,-314.612\"/>\r\n<polygon fill=\"black\" stroke=\"black\" points=\"248.304,-316.372 250.564,-306.021 242.342,-312.703 248.304,-316.372\"/>\r\n</g>\r\n<!-- 8 -->\r\n<g id=\"node9\" class=\"node\"><title>8</title>\r\n<path fill=\"#eeab7b\" stroke=\"black\" d=\"M278,-187C278,-187 101,-187 101,-187 95,-187 89,-181 89,-175 89,-175 89,-116 89,-116 89,-110 95,-104 101,-104 101,-104 278,-104 278,-104 284,-104 290,-110 290,-116 290,-116 290,-175 290,-175 290,-181 284,-187 278,-187\"/>\r\n<text text-anchor=\"start\" x=\"97\" y=\"-171.8\" font-family=\"Helvetica,sans-Serif\" font-size=\"14.00\">worst concave points ≤ 0.085</text>\r\n<text text-anchor=\"start\" x=\"139.5\" y=\"-156.8\" font-family=\"Helvetica,sans-Serif\" font-size=\"14.00\">entropy = 0.811</text>\r\n<text text-anchor=\"start\" x=\"150\" y=\"-141.8\" font-family=\"Helvetica,sans-Serif\" font-size=\"14.00\">samples = 4</text>\r\n<text text-anchor=\"start\" x=\"149\" y=\"-126.8\" font-family=\"Helvetica,sans-Serif\" font-size=\"14.00\">value = [3, 1]</text>\r\n<text text-anchor=\"start\" x=\"135\" y=\"-111.8\" font-family=\"Helvetica,sans-Serif\" font-size=\"14.00\">class = malignant</text>\r\n</g>\r\n<!-- 7&#45;&gt;8 -->\r\n<g id=\"edge8\" class=\"edge\"><title>7&#45;&gt;8</title>\r\n<path fill=\"none\" stroke=\"black\" d=\"M245.663,-222.907C239.126,-214.014 232.139,-204.509 225.393,-195.331\"/>\r\n<polygon fill=\"black\" stroke=\"black\" points=\"228.027,-193.005 219.285,-187.021 222.387,-197.151 228.027,-193.005\"/>\r\n</g>\r\n<!-- 11 -->\r\n<g id=\"node12\" class=\"node\"><title>11</title>\r\n<path fill=\"#399de5\" stroke=\"black\" d=\"M404.5,-179.5C404.5,-179.5 320.5,-179.5 320.5,-179.5 314.5,-179.5 308.5,-173.5 308.5,-167.5 308.5,-167.5 308.5,-123.5 308.5,-123.5 308.5,-117.5 314.5,-111.5 320.5,-111.5 320.5,-111.5 404.5,-111.5 404.5,-111.5 410.5,-111.5 416.5,-117.5 416.5,-123.5 416.5,-123.5 416.5,-167.5 416.5,-167.5 416.5,-173.5 410.5,-179.5 404.5,-179.5\"/>\r\n<text text-anchor=\"start\" x=\"320.5\" y=\"-164.3\" font-family=\"Helvetica,sans-Serif\" font-size=\"14.00\">entropy = 0.0</text>\r\n<text text-anchor=\"start\" x=\"323\" y=\"-149.3\" font-family=\"Helvetica,sans-Serif\" font-size=\"14.00\">samples = 6</text>\r\n<text text-anchor=\"start\" x=\"322\" y=\"-134.3\" font-family=\"Helvetica,sans-Serif\" font-size=\"14.00\">value = [0, 6]</text>\r\n<text text-anchor=\"start\" x=\"316.5\" y=\"-119.3\" font-family=\"Helvetica,sans-Serif\" font-size=\"14.00\">class = benign</text>\r\n</g>\r\n<!-- 7&#45;&gt;11 -->\r\n<g id=\"edge11\" class=\"edge\"><title>7&#45;&gt;11</title>\r\n<path fill=\"none\" stroke=\"black\" d=\"M305.684,-222.907C314.136,-211.542 323.329,-199.178 331.809,-187.774\"/>\r\n<polygon fill=\"black\" stroke=\"black\" points=\"334.679,-189.78 337.837,-179.667 329.062,-185.603 334.679,-189.78\"/>\r\n</g>\r\n<!-- 9 -->\r\n<g id=\"node10\" class=\"node\"><title>9</title>\r\n<path fill=\"#399de5\" stroke=\"black\" d=\"M164.5,-68C164.5,-68 80.5,-68 80.5,-68 74.5,-68 68.5,-62 68.5,-56 68.5,-56 68.5,-12 68.5,-12 68.5,-6 74.5,-0 80.5,-0 80.5,-0 164.5,-0 164.5,-0 170.5,-0 176.5,-6 176.5,-12 176.5,-12 176.5,-56 176.5,-56 176.5,-62 170.5,-68 164.5,-68\"/>\r\n<text text-anchor=\"start\" x=\"80.5\" y=\"-52.8\" font-family=\"Helvetica,sans-Serif\" font-size=\"14.00\">entropy = 0.0</text>\r\n<text text-anchor=\"start\" x=\"83\" y=\"-37.8\" font-family=\"Helvetica,sans-Serif\" font-size=\"14.00\">samples = 1</text>\r\n<text text-anchor=\"start\" x=\"82\" y=\"-22.8\" font-family=\"Helvetica,sans-Serif\" font-size=\"14.00\">value = [0, 1]</text>\r\n<text text-anchor=\"start\" x=\"76.5\" y=\"-7.8\" font-family=\"Helvetica,sans-Serif\" font-size=\"14.00\">class = benign</text>\r\n</g>\r\n<!-- 8&#45;&gt;9 -->\r\n<g id=\"edge9\" class=\"edge\"><title>8&#45;&gt;9</title>\r\n<path fill=\"none\" stroke=\"black\" d=\"M164.552,-103.726C159.194,-94.9703 153.524,-85.7032 148.141,-76.9051\"/>\r\n<polygon fill=\"black\" stroke=\"black\" points=\"151.08,-75.0028 142.875,-68.2996 145.109,-78.6563 151.08,-75.0028\"/>\r\n</g>\r\n<!-- 10 -->\r\n<g id=\"node11\" class=\"node\"><title>10</title>\r\n<path fill=\"#e58139\" stroke=\"black\" d=\"M308,-68C308,-68 207,-68 207,-68 201,-68 195,-62 195,-56 195,-56 195,-12 195,-12 195,-6 201,-0 207,-0 207,-0 308,-0 308,-0 314,-0 320,-6 320,-12 320,-12 320,-56 320,-56 320,-62 314,-68 308,-68\"/>\r\n<text text-anchor=\"start\" x=\"215.5\" y=\"-52.8\" font-family=\"Helvetica,sans-Serif\" font-size=\"14.00\">entropy = 0.0</text>\r\n<text text-anchor=\"start\" x=\"218\" y=\"-37.8\" font-family=\"Helvetica,sans-Serif\" font-size=\"14.00\">samples = 3</text>\r\n<text text-anchor=\"start\" x=\"217\" y=\"-22.8\" font-family=\"Helvetica,sans-Serif\" font-size=\"14.00\">value = [3, 0]</text>\r\n<text text-anchor=\"start\" x=\"203\" y=\"-7.8\" font-family=\"Helvetica,sans-Serif\" font-size=\"14.00\">class = malignant</text>\r\n</g>\r\n<!-- 8&#45;&gt;10 -->\r\n<g id=\"edge10\" class=\"edge\"><title>8&#45;&gt;10</title>\r\n<path fill=\"none\" stroke=\"black\" d=\"M214.821,-103.726C220.258,-94.9703 226.013,-85.7032 231.477,-76.9051\"/>\r\n<polygon fill=\"black\" stroke=\"black\" points=\"234.519,-78.6413 236.821,-68.2996 228.572,-74.9484 234.519,-78.6413\"/>\r\n</g>\r\n<!-- 13 -->\r\n<g id=\"node14\" class=\"node\"><title>13</title>\r\n<path fill=\"#e58139\" stroke=\"black\" d=\"M420,-417.5C420,-417.5 319,-417.5 319,-417.5 313,-417.5 307,-411.5 307,-405.5 307,-405.5 307,-361.5 307,-361.5 307,-355.5 313,-349.5 319,-349.5 319,-349.5 420,-349.5 420,-349.5 426,-349.5 432,-355.5 432,-361.5 432,-361.5 432,-405.5 432,-405.5 432,-411.5 426,-417.5 420,-417.5\"/>\r\n<text text-anchor=\"start\" x=\"327.5\" y=\"-402.3\" font-family=\"Helvetica,sans-Serif\" font-size=\"14.00\">entropy = 0.0</text>\r\n<text text-anchor=\"start\" x=\"330\" y=\"-387.3\" font-family=\"Helvetica,sans-Serif\" font-size=\"14.00\">samples = 2</text>\r\n<text text-anchor=\"start\" x=\"329\" y=\"-372.3\" font-family=\"Helvetica,sans-Serif\" font-size=\"14.00\">value = [2, 0]</text>\r\n<text text-anchor=\"start\" x=\"315\" y=\"-357.3\" font-family=\"Helvetica,sans-Serif\" font-size=\"14.00\">class = malignant</text>\r\n</g>\r\n<!-- 12&#45;&gt;13 -->\r\n<g id=\"edge13\" class=\"edge\"><title>12&#45;&gt;13</title>\r\n<path fill=\"none\" stroke=\"black\" d=\"M374.071,-460.907C373.431,-450.204 372.738,-438.615 372.089,-427.776\"/>\r\n<polygon fill=\"black\" stroke=\"black\" points=\"375.575,-427.44 371.484,-417.667 368.588,-427.858 375.575,-427.44\"/>\r\n</g>\r\n<!-- 14 -->\r\n<g id=\"node15\" class=\"node\"><title>14</title>\r\n<path fill=\"#399de5\" stroke=\"black\" d=\"M546.5,-417.5C546.5,-417.5 462.5,-417.5 462.5,-417.5 456.5,-417.5 450.5,-411.5 450.5,-405.5 450.5,-405.5 450.5,-361.5 450.5,-361.5 450.5,-355.5 456.5,-349.5 462.5,-349.5 462.5,-349.5 546.5,-349.5 546.5,-349.5 552.5,-349.5 558.5,-355.5 558.5,-361.5 558.5,-361.5 558.5,-405.5 558.5,-405.5 558.5,-411.5 552.5,-417.5 546.5,-417.5\"/>\r\n<text text-anchor=\"start\" x=\"462.5\" y=\"-402.3\" font-family=\"Helvetica,sans-Serif\" font-size=\"14.00\">entropy = 0.0</text>\r\n<text text-anchor=\"start\" x=\"465\" y=\"-387.3\" font-family=\"Helvetica,sans-Serif\" font-size=\"14.00\">samples = 1</text>\r\n<text text-anchor=\"start\" x=\"464\" y=\"-372.3\" font-family=\"Helvetica,sans-Serif\" font-size=\"14.00\">value = [0, 1]</text>\r\n<text text-anchor=\"start\" x=\"458.5\" y=\"-357.3\" font-family=\"Helvetica,sans-Serif\" font-size=\"14.00\">class = benign</text>\r\n</g>\r\n<!-- 12&#45;&gt;14 -->\r\n<g id=\"edge14\" class=\"edge\"><title>12&#45;&gt;14</title>\r\n<path fill=\"none\" stroke=\"black\" d=\"M420.909,-460.907C433.826,-449.101 447.921,-436.217 460.795,-424.45\"/>\r\n<polygon fill=\"black\" stroke=\"black\" points=\"463.195,-426.997 468.215,-417.667 458.472,-421.83 463.195,-426.997\"/>\r\n</g>\r\n<!-- 16 -->\r\n<g id=\"node17\" class=\"node\"><title>16</title>\r\n<path fill=\"#399de5\" stroke=\"black\" d=\"M574.5,-536.5C574.5,-536.5 490.5,-536.5 490.5,-536.5 484.5,-536.5 478.5,-530.5 478.5,-524.5 478.5,-524.5 478.5,-480.5 478.5,-480.5 478.5,-474.5 484.5,-468.5 490.5,-468.5 490.5,-468.5 574.5,-468.5 574.5,-468.5 580.5,-468.5 586.5,-474.5 586.5,-480.5 586.5,-480.5 586.5,-524.5 586.5,-524.5 586.5,-530.5 580.5,-536.5 574.5,-536.5\"/>\r\n<text text-anchor=\"start\" x=\"490.5\" y=\"-521.3\" font-family=\"Helvetica,sans-Serif\" font-size=\"14.00\">entropy = 0.0</text>\r\n<text text-anchor=\"start\" x=\"493\" y=\"-506.3\" font-family=\"Helvetica,sans-Serif\" font-size=\"14.00\">samples = 5</text>\r\n<text text-anchor=\"start\" x=\"492\" y=\"-491.3\" font-family=\"Helvetica,sans-Serif\" font-size=\"14.00\">value = [0, 5]</text>\r\n<text text-anchor=\"start\" x=\"486.5\" y=\"-476.3\" font-family=\"Helvetica,sans-Serif\" font-size=\"14.00\">class = benign</text>\r\n</g>\r\n<!-- 15&#45;&gt;16 -->\r\n<g id=\"edge16\" class=\"edge\"><title>15&#45;&gt;16</title>\r\n<path fill=\"none\" stroke=\"black\" d=\"M587.357,-579.907C579.276,-568.652 570.493,-556.418 562.371,-545.106\"/>\r\n<polygon fill=\"black\" stroke=\"black\" points=\"564.987,-542.749 556.312,-536.667 559.301,-546.831 564.987,-542.749\"/>\r\n</g>\r\n<!-- 17 -->\r\n<g id=\"node18\" class=\"node\"><title>17</title>\r\n<path fill=\"#ea985d\" stroke=\"black\" d=\"M782,-544C782,-544 617,-544 617,-544 611,-544 605,-538 605,-532 605,-532 605,-473 605,-473 605,-467 611,-461 617,-461 617,-461 782,-461 782,-461 788,-461 794,-467 794,-473 794,-473 794,-532 794,-532 794,-538 788,-544 782,-544\"/>\r\n<text text-anchor=\"start\" x=\"613\" y=\"-528.8\" font-family=\"Helvetica,sans-Serif\" font-size=\"14.00\">concave points error ≤ 0.01</text>\r\n<text text-anchor=\"start\" x=\"649.5\" y=\"-513.8\" font-family=\"Helvetica,sans-Serif\" font-size=\"14.00\">entropy = 0.619</text>\r\n<text text-anchor=\"start\" x=\"656\" y=\"-498.8\" font-family=\"Helvetica,sans-Serif\" font-size=\"14.00\">samples = 13</text>\r\n<text text-anchor=\"start\" x=\"655\" y=\"-483.8\" font-family=\"Helvetica,sans-Serif\" font-size=\"14.00\">value = [11, 2]</text>\r\n<text text-anchor=\"start\" x=\"645\" y=\"-468.8\" font-family=\"Helvetica,sans-Serif\" font-size=\"14.00\">class = malignant</text>\r\n</g>\r\n<!-- 15&#45;&gt;17 -->\r\n<g id=\"edge17\" class=\"edge\"><title>15&#45;&gt;17</title>\r\n<path fill=\"none\" stroke=\"black\" d=\"M645.296,-579.907C651.606,-571.014 658.348,-561.509 664.859,-552.331\"/>\r\n<polygon fill=\"black\" stroke=\"black\" points=\"667.823,-554.202 670.754,-544.021 662.114,-550.152 667.823,-554.202\"/>\r\n</g>\r\n<!-- 18 -->\r\n<g id=\"node19\" class=\"node\"><title>18</title>\r\n<path fill=\"#e58139\" stroke=\"black\" d=\"M695,-417.5C695,-417.5 594,-417.5 594,-417.5 588,-417.5 582,-411.5 582,-405.5 582,-405.5 582,-361.5 582,-361.5 582,-355.5 588,-349.5 594,-349.5 594,-349.5 695,-349.5 695,-349.5 701,-349.5 707,-355.5 707,-361.5 707,-361.5 707,-405.5 707,-405.5 707,-411.5 701,-417.5 695,-417.5\"/>\r\n<text text-anchor=\"start\" x=\"602.5\" y=\"-402.3\" font-family=\"Helvetica,sans-Serif\" font-size=\"14.00\">entropy = 0.0</text>\r\n<text text-anchor=\"start\" x=\"601\" y=\"-387.3\" font-family=\"Helvetica,sans-Serif\" font-size=\"14.00\">samples = 11</text>\r\n<text text-anchor=\"start\" x=\"600\" y=\"-372.3\" font-family=\"Helvetica,sans-Serif\" font-size=\"14.00\">value = [11, 0]</text>\r\n<text text-anchor=\"start\" x=\"590\" y=\"-357.3\" font-family=\"Helvetica,sans-Serif\" font-size=\"14.00\">class = malignant</text>\r\n</g>\r\n<!-- 17&#45;&gt;18 -->\r\n<g id=\"edge18\" class=\"edge\"><title>17&#45;&gt;18</title>\r\n<path fill=\"none\" stroke=\"black\" d=\"M680.418,-460.907C675.231,-449.873 669.601,-437.898 664.372,-426.773\"/>\r\n<polygon fill=\"black\" stroke=\"black\" points=\"667.513,-425.228 660.091,-417.667 661.178,-428.206 667.513,-425.228\"/>\r\n</g>\r\n<!-- 19 -->\r\n<g id=\"node20\" class=\"node\"><title>19</title>\r\n<path fill=\"#399de5\" stroke=\"black\" d=\"M821.5,-417.5C821.5,-417.5 737.5,-417.5 737.5,-417.5 731.5,-417.5 725.5,-411.5 725.5,-405.5 725.5,-405.5 725.5,-361.5 725.5,-361.5 725.5,-355.5 731.5,-349.5 737.5,-349.5 737.5,-349.5 821.5,-349.5 821.5,-349.5 827.5,-349.5 833.5,-355.5 833.5,-361.5 833.5,-361.5 833.5,-405.5 833.5,-405.5 833.5,-411.5 827.5,-417.5 821.5,-417.5\"/>\r\n<text text-anchor=\"start\" x=\"737.5\" y=\"-402.3\" font-family=\"Helvetica,sans-Serif\" font-size=\"14.00\">entropy = 0.0</text>\r\n<text text-anchor=\"start\" x=\"740\" y=\"-387.3\" font-family=\"Helvetica,sans-Serif\" font-size=\"14.00\">samples = 2</text>\r\n<text text-anchor=\"start\" x=\"739\" y=\"-372.3\" font-family=\"Helvetica,sans-Serif\" font-size=\"14.00\">value = [0, 2]</text>\r\n<text text-anchor=\"start\" x=\"733.5\" y=\"-357.3\" font-family=\"Helvetica,sans-Serif\" font-size=\"14.00\">class = benign</text>\r\n</g>\r\n<!-- 17&#45;&gt;19 -->\r\n<g id=\"edge19\" class=\"edge\"><title>17&#45;&gt;19</title>\r\n<path fill=\"none\" stroke=\"black\" d=\"M727.256,-460.907C734.951,-449.652 743.317,-437.418 751.051,-426.106\"/>\r\n<polygon fill=\"black\" stroke=\"black\" points=\"754.067,-427.897 756.822,-417.667 748.288,-423.946 754.067,-427.897\"/>\r\n</g>\r\n<!-- 21 -->\r\n<g id=\"node22\" class=\"node\"><title>21</title>\r\n<path fill=\"#f7dac5\" stroke=\"black\" d=\"M979,-663C979,-663 846,-663 846,-663 840,-663 834,-657 834,-651 834,-651 834,-592 834,-592 834,-586 840,-580 846,-580 846,-580 979,-580 979,-580 985,-580 991,-586 991,-592 991,-592 991,-651 991,-651 991,-657 985,-663 979,-663\"/>\r\n<text text-anchor=\"start\" x=\"842\" y=\"-647.8\" font-family=\"Helvetica,sans-Serif\" font-size=\"14.00\">worst texture ≤ 25.655</text>\r\n<text text-anchor=\"start\" x=\"862.5\" y=\"-632.8\" font-family=\"Helvetica,sans-Serif\" font-size=\"14.00\">entropy = 0.979</text>\r\n<text text-anchor=\"start\" x=\"869\" y=\"-617.8\" font-family=\"Helvetica,sans-Serif\" font-size=\"14.00\">samples = 41</text>\r\n<text text-anchor=\"start\" x=\"864\" y=\"-602.8\" font-family=\"Helvetica,sans-Serif\" font-size=\"14.00\">value = [24, 17]</text>\r\n<text text-anchor=\"start\" x=\"858\" y=\"-587.8\" font-family=\"Helvetica,sans-Serif\" font-size=\"14.00\">class = malignant</text>\r\n</g>\r\n<!-- 20&#45;&gt;21 -->\r\n<g id=\"edge21\" class=\"edge\"><title>20&#45;&gt;21</title>\r\n<path fill=\"none\" stroke=\"black\" d=\"M912.5,-698.907C912.5,-690.649 912.5,-681.864 912.5,-673.302\"/>\r\n<polygon fill=\"black\" stroke=\"black\" points=\"916,-673.021 912.5,-663.021 909,-673.021 916,-673.021\"/>\r\n</g>\r\n<!-- 26 -->\r\n<g id=\"node27\" class=\"node\"><title>26</title>\r\n<path fill=\"#e58139\" stroke=\"black\" d=\"M1122,-655.5C1122,-655.5 1021,-655.5 1021,-655.5 1015,-655.5 1009,-649.5 1009,-643.5 1009,-643.5 1009,-599.5 1009,-599.5 1009,-593.5 1015,-587.5 1021,-587.5 1021,-587.5 1122,-587.5 1122,-587.5 1128,-587.5 1134,-593.5 1134,-599.5 1134,-599.5 1134,-643.5 1134,-643.5 1134,-649.5 1128,-655.5 1122,-655.5\"/>\r\n<text text-anchor=\"start\" x=\"1029.5\" y=\"-640.3\" font-family=\"Helvetica,sans-Serif\" font-size=\"14.00\">entropy = 0.0</text>\r\n<text text-anchor=\"start\" x=\"1024\" y=\"-625.3\" font-family=\"Helvetica,sans-Serif\" font-size=\"14.00\">samples = 118</text>\r\n<text text-anchor=\"start\" x=\"1023\" y=\"-610.3\" font-family=\"Helvetica,sans-Serif\" font-size=\"14.00\">value = [118, 0]</text>\r\n<text text-anchor=\"start\" x=\"1017\" y=\"-595.3\" font-family=\"Helvetica,sans-Serif\" font-size=\"14.00\">class = malignant</text>\r\n</g>\r\n<!-- 20&#45;&gt;26 -->\r\n<g id=\"edge26\" class=\"edge\"><title>20&#45;&gt;26</title>\r\n<path fill=\"none\" stroke=\"black\" d=\"M967.664,-698.907C984.009,-686.88 1001.87,-673.735 1018.1,-661.791\"/>\r\n<polygon fill=\"black\" stroke=\"black\" points=\"1020.45,-664.413 1026.43,-655.667 1016.3,-658.775 1020.45,-664.413\"/>\r\n</g>\r\n<!-- 22 -->\r\n<g id=\"node23\" class=\"node\"><title>22</title>\r\n<path fill=\"#50a9e8\" stroke=\"black\" d=\"M1001,-544C1001,-544 824,-544 824,-544 818,-544 812,-538 812,-532 812,-532 812,-473 812,-473 812,-467 818,-461 824,-461 824,-461 1001,-461 1001,-461 1007,-461 1013,-467 1013,-473 1013,-473 1013,-532 1013,-532 1013,-538 1007,-544 1001,-544\"/>\r\n<text text-anchor=\"start\" x=\"820\" y=\"-528.8\" font-family=\"Helvetica,sans-Serif\" font-size=\"14.00\">worst concave points ≤ 0.166</text>\r\n<text text-anchor=\"start\" x=\"862.5\" y=\"-513.8\" font-family=\"Helvetica,sans-Serif\" font-size=\"14.00\">entropy = 0.485</text>\r\n<text text-anchor=\"start\" x=\"869\" y=\"-498.8\" font-family=\"Helvetica,sans-Serif\" font-size=\"14.00\">samples = 19</text>\r\n<text text-anchor=\"start\" x=\"868\" y=\"-483.8\" font-family=\"Helvetica,sans-Serif\" font-size=\"14.00\">value = [2, 17]</text>\r\n<text text-anchor=\"start\" x=\"866.5\" y=\"-468.8\" font-family=\"Helvetica,sans-Serif\" font-size=\"14.00\">class = benign</text>\r\n</g>\r\n<!-- 21&#45;&gt;22 -->\r\n<g id=\"edge22\" class=\"edge\"><title>21&#45;&gt;22</title>\r\n<path fill=\"none\" stroke=\"black\" d=\"M912.5,-579.907C912.5,-571.649 912.5,-562.864 912.5,-554.302\"/>\r\n<polygon fill=\"black\" stroke=\"black\" points=\"916,-554.021 912.5,-544.021 909,-554.021 916,-554.021\"/>\r\n</g>\r\n<!-- 25 -->\r\n<g id=\"node26\" class=\"node\"><title>25</title>\r\n<path fill=\"#e58139\" stroke=\"black\" d=\"M1144,-536.5C1144,-536.5 1043,-536.5 1043,-536.5 1037,-536.5 1031,-530.5 1031,-524.5 1031,-524.5 1031,-480.5 1031,-480.5 1031,-474.5 1037,-468.5 1043,-468.5 1043,-468.5 1144,-468.5 1144,-468.5 1150,-468.5 1156,-474.5 1156,-480.5 1156,-480.5 1156,-524.5 1156,-524.5 1156,-530.5 1150,-536.5 1144,-536.5\"/>\r\n<text text-anchor=\"start\" x=\"1051.5\" y=\"-521.3\" font-family=\"Helvetica,sans-Serif\" font-size=\"14.00\">entropy = 0.0</text>\r\n<text text-anchor=\"start\" x=\"1050\" y=\"-506.3\" font-family=\"Helvetica,sans-Serif\" font-size=\"14.00\">samples = 22</text>\r\n<text text-anchor=\"start\" x=\"1049\" y=\"-491.3\" font-family=\"Helvetica,sans-Serif\" font-size=\"14.00\">value = [22, 0]</text>\r\n<text text-anchor=\"start\" x=\"1039\" y=\"-476.3\" font-family=\"Helvetica,sans-Serif\" font-size=\"14.00\">class = malignant</text>\r\n</g>\r\n<!-- 21&#45;&gt;25 -->\r\n<g id=\"edge25\" class=\"edge\"><title>21&#45;&gt;25</title>\r\n<path fill=\"none\" stroke=\"black\" d=\"M975.297,-579.907C994.245,-567.659 1014.99,-554.252 1033.73,-542.135\"/>\r\n<polygon fill=\"black\" stroke=\"black\" points=\"1035.69,-545.035 1042.19,-536.667 1031.89,-539.156 1035.69,-545.035\"/>\r\n</g>\r\n<!-- 23 -->\r\n<g id=\"node24\" class=\"node\"><title>23</title>\r\n<path fill=\"#399de5\" stroke=\"black\" d=\"M949.5,-417.5C949.5,-417.5 865.5,-417.5 865.5,-417.5 859.5,-417.5 853.5,-411.5 853.5,-405.5 853.5,-405.5 853.5,-361.5 853.5,-361.5 853.5,-355.5 859.5,-349.5 865.5,-349.5 865.5,-349.5 949.5,-349.5 949.5,-349.5 955.5,-349.5 961.5,-355.5 961.5,-361.5 961.5,-361.5 961.5,-405.5 961.5,-405.5 961.5,-411.5 955.5,-417.5 949.5,-417.5\"/>\r\n<text text-anchor=\"start\" x=\"865.5\" y=\"-402.3\" font-family=\"Helvetica,sans-Serif\" font-size=\"14.00\">entropy = 0.0</text>\r\n<text text-anchor=\"start\" x=\"864\" y=\"-387.3\" font-family=\"Helvetica,sans-Serif\" font-size=\"14.00\">samples = 17</text>\r\n<text text-anchor=\"start\" x=\"863\" y=\"-372.3\" font-family=\"Helvetica,sans-Serif\" font-size=\"14.00\">value = [0, 17]</text>\r\n<text text-anchor=\"start\" x=\"861.5\" y=\"-357.3\" font-family=\"Helvetica,sans-Serif\" font-size=\"14.00\">class = benign</text>\r\n</g>\r\n<!-- 22&#45;&gt;23 -->\r\n<g id=\"edge23\" class=\"edge\"><title>22&#45;&gt;23</title>\r\n<path fill=\"none\" stroke=\"black\" d=\"M910.765,-460.907C910.308,-450.204 909.813,-438.615 909.349,-427.776\"/>\r\n<polygon fill=\"black\" stroke=\"black\" points=\"912.841,-427.508 908.917,-417.667 905.848,-427.807 912.841,-427.508\"/>\r\n</g>\r\n<!-- 24 -->\r\n<g id=\"node25\" class=\"node\"><title>24</title>\r\n<path fill=\"#e58139\" stroke=\"black\" d=\"M1093,-417.5C1093,-417.5 992,-417.5 992,-417.5 986,-417.5 980,-411.5 980,-405.5 980,-405.5 980,-361.5 980,-361.5 980,-355.5 986,-349.5 992,-349.5 992,-349.5 1093,-349.5 1093,-349.5 1099,-349.5 1105,-355.5 1105,-361.5 1105,-361.5 1105,-405.5 1105,-405.5 1105,-411.5 1099,-417.5 1093,-417.5\"/>\r\n<text text-anchor=\"start\" x=\"1000.5\" y=\"-402.3\" font-family=\"Helvetica,sans-Serif\" font-size=\"14.00\">entropy = 0.0</text>\r\n<text text-anchor=\"start\" x=\"1003\" y=\"-387.3\" font-family=\"Helvetica,sans-Serif\" font-size=\"14.00\">samples = 2</text>\r\n<text text-anchor=\"start\" x=\"1002\" y=\"-372.3\" font-family=\"Helvetica,sans-Serif\" font-size=\"14.00\">value = [2, 0]</text>\r\n<text text-anchor=\"start\" x=\"988\" y=\"-357.3\" font-family=\"Helvetica,sans-Serif\" font-size=\"14.00\">class = malignant</text>\r\n</g>\r\n<!-- 22&#45;&gt;24 -->\r\n<g id=\"edge24\" class=\"edge\"><title>22&#45;&gt;24</title>\r\n<path fill=\"none\" stroke=\"black\" d=\"M957.603,-460.907C970.722,-449.101 985.037,-436.217 998.112,-424.45\"/>\r\n<polygon fill=\"black\" stroke=\"black\" points=\"1000.56,-426.958 1005.65,-417.667 995.873,-421.755 1000.56,-426.958\"/>\r\n</g>\r\n</g>\r\n</svg>\r\n"
     },
     "execution_count": 25,
     "metadata": {},
     "output_type": "execute_result"
    }
   ]
  },
  {
   "cell_type": "code",
   "metadata": {
    "id": "BmMDHCCZ_SfY",
    "colab": {
     "base_uri": "https://localhost:8080/",
     "height": 35
    },
    "executionInfo": {
     "status": "ok",
     "timestamp": 1630886394995,
     "user_tz": -540,
     "elapsed": 0,
     "user": {
      "displayName": "권오성",
      "photoUrl": "https://lh3.googleusercontent.com/a/default-user=s64",
      "userId": "06266214997163650151"
     }
    },
    "outputId": "a0570435-a690-453e-df59-781345e1ca11"
   },
   "source": [
    "export_graphviz(model, out_file='tree.dot',\n",
    "                feature_names=data.feature_names,  \n",
    "                class_names=data.target_names,  \n",
    "                filled=True, rounded=True,  \n",
    "                special_characters=True)\n",
    "\n",
    "with open(\"tree.dot\") as f:\n",
    "    dot_graph = f.read()\n",
    "dot = graphviz.Source(dot_graph); dot.format='png'\n",
    "dot.render(filename='tree')"
   ],
   "execution_count": 26,
   "outputs": [
    {
     "data": {
      "text/plain": "'tree.png'"
     },
     "execution_count": 26,
     "metadata": {},
     "output_type": "execute_result"
    }
   ]
  },
  {
   "cell_type": "code",
   "metadata": {
    "id": "gTm9kn_k_SfY",
    "colab": {
     "base_uri": "https://localhost:8080/"
    },
    "executionInfo": {
     "status": "ok",
     "timestamp": 1630886394892,
     "user_tz": -540,
     "elapsed": 0,
     "user": {
      "displayName": "권오성",
      "photoUrl": "https://lh3.googleusercontent.com/a/default-user=s64",
      "userId": "06266214997163650151"
     }
    },
    "outputId": "50aeeec9-287c-40d1-a504-e834fe326775"
   },
   "source": [
    "from sklearn.tree import export_text\n",
    "treetext = export_text(model, decimals=4,\n",
    "                       feature_names=list(data.feature_names))\n",
    "print(treetext)"
   ],
   "execution_count": 27,
   "outputs": [
    {
     "name": "stdout",
     "output_type": "stream",
     "text": [
      "|--- mean concave points <= 0.0513\n",
      "|   |--- worst radius <= 16.8300\n",
      "|   |   |--- area error <= 48.7000\n",
      "|   |   |   |--- worst texture <= 30.1450\n",
      "|   |   |   |   |--- class: 1\n",
      "|   |   |   |--- worst texture >  30.1450\n",
      "|   |   |   |   |--- worst radius <= 14.4300\n",
      "|   |   |   |   |   |--- class: 1\n",
      "|   |   |   |   |--- worst radius >  14.4300\n",
      "|   |   |   |   |   |--- mean radius <= 13.4500\n",
      "|   |   |   |   |   |   |--- worst concave points <= 0.0855\n",
      "|   |   |   |   |   |   |   |--- class: 1\n",
      "|   |   |   |   |   |   |--- worst concave points >  0.0855\n",
      "|   |   |   |   |   |   |   |--- class: 0\n",
      "|   |   |   |   |   |--- mean radius >  13.4500\n",
      "|   |   |   |   |   |   |--- class: 1\n",
      "|   |   |--- area error >  48.7000\n",
      "|   |   |   |--- worst symmetry <= 0.2078\n",
      "|   |   |   |   |--- class: 0\n",
      "|   |   |   |--- worst symmetry >  0.2078\n",
      "|   |   |   |   |--- class: 1\n",
      "|   |--- worst radius >  16.8300\n",
      "|   |   |--- worst texture <= 19.9100\n",
      "|   |   |   |--- class: 1\n",
      "|   |   |--- worst texture >  19.9100\n",
      "|   |   |   |--- concave points error <= 0.0101\n",
      "|   |   |   |   |--- class: 0\n",
      "|   |   |   |--- concave points error >  0.0101\n",
      "|   |   |   |   |--- class: 1\n",
      "|--- mean concave points >  0.0513\n",
      "|   |--- worst perimeter <= 114.4500\n",
      "|   |   |--- worst texture <= 25.6550\n",
      "|   |   |   |--- worst concave points <= 0.1656\n",
      "|   |   |   |   |--- class: 1\n",
      "|   |   |   |--- worst concave points >  0.1656\n",
      "|   |   |   |   |--- class: 0\n",
      "|   |   |--- worst texture >  25.6550\n",
      "|   |   |   |--- class: 0\n",
      "|   |--- worst perimeter >  114.4500\n",
      "|   |   |--- class: 0\n",
      "\n"
     ]
    }
   ]
  },
  {
   "cell_type": "markdown",
   "metadata": {
    "id": "UId74JTG_SfY"
   },
   "source": [
    "[Quiz] 위 모델에 대해 DecisionTreeClassifier의 옵션을 조정하여 test 데이터에 대한 정확도를 향상시켜보자."
   ]
  },
  {
   "cell_type": "code",
   "metadata": {
    "id": "h1vvWV0Y_SfY",
    "colab": {
     "base_uri": "https://localhost:8080/"
    },
    "executionInfo": {
     "status": "ok",
     "timestamp": 1630886394894,
     "user_tz": -540,
     "elapsed": 0,
     "user": {
      "displayName": "권오성",
      "photoUrl": "https://lh3.googleusercontent.com/a/default-user=s64",
      "userId": "06266214997163650151"
     }
    },
    "outputId": "f115a502-a71c-4f66-b999-7f714f8563f1"
   },
   "source": [
    "m = DecisionTreeClassifier(criterion='entropy', max_depth=4, min_samples_leaf=5)\n",
    "m.fit(X_train, y_train)\n",
    "score = m.score(X_test, y_test)\n",
    "score"
   ],
   "execution_count": 28,
   "outputs": [
    {
     "data": {
      "text/plain": "0.965034965034965"
     },
     "execution_count": 28,
     "metadata": {},
     "output_type": "execute_result"
    }
   ]
  },
  {
   "cell_type": "code",
   "metadata": {
    "id": "U6XxE_r7_SfZ",
    "colab": {
     "base_uri": "https://localhost:8080/"
    },
    "executionInfo": {
     "status": "ok",
     "timestamp": 1630886394895,
     "user_tz": -540,
     "elapsed": 0,
     "user": {
      "displayName": "권오성",
      "photoUrl": "https://lh3.googleusercontent.com/a/default-user=s64",
      "userId": "06266214997163650151"
     }
    },
    "outputId": "188bf7bc-ccf8-4301-ebb8-562954ce94c2"
   },
   "source": [
    "best= {}\n",
    "best['score'] = 0\n",
    "mds = [3,4,5]\n",
    "msls = range(2, 11)\n",
    "mlns = range(7, 12)\n",
    "for md in mds:\n",
    "    for msl in msls:\n",
    "        for mln in mlns:\n",
    "            m = DecisionTreeClassifier(criterion='entropy', max_depth=md, \n",
    "                                       min_samples_leaf=msl, max_leaf_nodes=mln)\n",
    "            m.fit(X_train, y_train)\n",
    "            score = m.score(X_test, y_test)\n",
    "            if score > best['score']:\n",
    "                print(f\"current best score is {score} at md={md}, msl={msl}, mln={mln}\")\n",
    "                best['score'], best['md'], best['msl'], best['mln'], best['model'] = score, md, msl, mln, m\n",
    "print(best)"
   ],
   "execution_count": 29,
   "outputs": [
    {
     "name": "stdout",
     "output_type": "stream",
     "text": [
      "current best score is 0.958041958041958 at md=3, msl=2, mln=7\n",
      "current best score is 0.965034965034965 at md=3, msl=2, mln=8\n",
      "current best score is 0.972027972027972 at md=4, msl=6, mln=9\n",
      "{'score': 0.972027972027972, 'md': 4, 'msl': 6, 'mln': 9, 'model': DecisionTreeClassifier(criterion='entropy', max_depth=4, max_leaf_nodes=9,\n",
      "                       min_samples_leaf=6)}\n"
     ]
    }
   ]
  },
  {
   "cell_type": "markdown",
   "metadata": {
    "id": "DNxDJyN9_SfZ"
   },
   "source": [
    "### Scaler 사용해보기\n",
    "fit_transform 메소드는 학습과 변환을 한번에 수행한다. 아래 코드는 같은 결과를 생성한다.\n",
    "```python\n",
    "X_tr_scaled = scaler.fit_transform(X_train)\n",
    "X_tr_scaled = scaler.fit(X_train).transform(X_train)\n",
    "```\n",
    "\n",
    "StandardScaler는 평균을 0, 표준편차를 1로 정규분포화하는 스케일러이다."
   ]
  },
  {
   "cell_type": "code",
   "metadata": {
    "id": "nOFnduAg_SfZ",
    "colab": {
     "base_uri": "https://localhost:8080/"
    },
    "executionInfo": {
     "status": "ok",
     "timestamp": 1630887513454,
     "user_tz": -540,
     "elapsed": 340,
     "user": {
      "displayName": "권오성",
      "photoUrl": "https://lh3.googleusercontent.com/a/default-user=s64",
      "userId": "06266214997163650151"
     }
    },
    "outputId": "6e2353fa-d573-4197-a7b2-dd264bb01841"
   },
   "source": [
    "from sklearn.preprocessing import StandardScaler\n",
    "\n",
    "print(X_train[:1])\n",
    "\n",
    "scaler = StandardScaler()\n",
    "X_tr_scaled = scaler.fit_transform(X_train)\n",
    "print(X_tr_scaled[:1])\n",
    "X_tst_scaled = scaler.transform(X_test)"
   ],
   "execution_count": 30,
   "outputs": [
    {
     "name": "stdout",
     "output_type": "stream",
     "text": [
      "[[1.289e+01 1.312e+01 8.189e+01 5.159e+02 6.955e-02 3.729e-02 2.260e-02\n",
      "  1.171e-02 1.337e-01 5.581e-02 1.532e-01 4.690e-01 1.115e+00 1.268e+01\n",
      "  4.731e-03 1.345e-02 1.652e-02 5.905e-03 1.619e-02 2.081e-03 1.362e+01\n",
      "  1.554e+01 8.740e+01 5.770e+02 9.616e-02 1.147e-01 1.186e-01 5.366e-02\n",
      "  2.309e-01 6.915e-02]]\n",
      "[[-0.34913849 -1.43851335 -0.41172595 -0.39047943 -1.86366229 -1.26860704\n",
      "  -0.82617052 -0.95286585 -1.72936805 -0.9415409  -0.86971355 -1.35865347\n",
      "  -0.83481506 -0.57230673 -0.74586846 -0.65398319 -0.52583524 -0.94677147\n",
      "  -0.53781728 -0.63449458 -0.54268486 -1.65565452 -0.58986401 -0.52555985\n",
      "  -1.51066925 -0.89149994 -0.75021715 -0.91671059 -0.92508585 -0.80841115]]\n"
     ]
    }
   ]
  },
  {
   "cell_type": "code",
   "metadata": {
    "colab": {
     "base_uri": "https://localhost:8080/"
    },
    "id": "dWR0AFDDdEga",
    "executionInfo": {
     "status": "ok",
     "timestamp": 1630887350197,
     "user_tz": -540,
     "elapsed": 317,
     "user": {
      "displayName": "권오성",
      "photoUrl": "https://lh3.googleusercontent.com/a/default-user=s64",
      "userId": "06266214997163650151"
     }
    },
    "outputId": "557c1ab6-0a42-4b3c-c7b5-bfd6e6ad5d2f"
   },
   "source": [
    "means, stds = X_train.mean(axis=0), X_train.std(axis=0)\n",
    "((X_train - means)/stds)[:1]"
   ],
   "execution_count": 31,
   "outputs": [
    {
     "data": {
      "text/plain": "array([[-0.34913849, -1.43851335, -0.41172595, -0.39047943, -1.86366229,\n        -1.26860704, -0.82617052, -0.95286585, -1.72936805, -0.9415409 ,\n        -0.86971355, -1.35865347, -0.83481506, -0.57230673, -0.74586846,\n        -0.65398319, -0.52583524, -0.94677147, -0.53781728, -0.63449458,\n        -0.54268486, -1.65565452, -0.58986401, -0.52555985, -1.51066925,\n        -0.89149994, -0.75021715, -0.91671059, -0.92508585, -0.80841115]])"
     },
     "execution_count": 31,
     "metadata": {},
     "output_type": "execute_result"
    }
   ]
  },
  {
   "cell_type": "code",
   "metadata": {
    "id": "lvxzILds_SfZ",
    "colab": {
     "base_uri": "https://localhost:8080/"
    },
    "executionInfo": {
     "status": "ok",
     "timestamp": 1630887517188,
     "user_tz": -540,
     "elapsed": 294,
     "user": {
      "displayName": "권오성",
      "photoUrl": "https://lh3.googleusercontent.com/a/default-user=s64",
      "userId": "06266214997163650151"
     }
    },
    "outputId": "9d1c4b88-4987-4265-a7e3-38da24a4f0cf"
   },
   "source": [
    "X_tr_scaled.mean(0)"
   ],
   "execution_count": 32,
   "outputs": [
    {
     "data": {
      "text/plain": "array([-1.14384245e-15, -3.57955710e-15, -3.22772586e-15, -1.17016464e-16,\n       -2.68851191e-15,  7.47445924e-16,  7.68555798e-16,  4.09166702e-16,\n       -3.85711286e-17, -7.70380108e-16,  5.29310555e-16,  4.66502163e-17,\n       -2.30384308e-16, -6.49193792e-16, -2.26605380e-15, -2.03019656e-15,\n        1.85037171e-17,  1.48524907e-15, -1.44615671e-15,  1.92855643e-16,\n        1.53815406e-15,  1.26659246e-15, -1.70338443e-15, -1.86314188e-15,\n        5.40777647e-16,  5.78566928e-16, -3.92487295e-16, -1.41514343e-16,\n        6.83073837e-16, -2.73933197e-15])"
     },
     "execution_count": 32,
     "metadata": {},
     "output_type": "execute_result"
    }
   ]
  },
  {
   "cell_type": "code",
   "metadata": {
    "id": "2keuL2K4_SfZ",
    "colab": {
     "base_uri": "https://localhost:8080/"
    },
    "executionInfo": {
     "status": "ok",
     "timestamp": 1630887585615,
     "user_tz": -540,
     "elapsed": 315,
     "user": {
      "displayName": "권오성",
      "photoUrl": "https://lh3.googleusercontent.com/a/default-user=s64",
      "userId": "06266214997163650151"
     }
    },
    "outputId": "341f6157-4e57-4445-af38-324e28f90df0"
   },
   "source": [
    "X_tr_scaled.std(0)"
   ],
   "execution_count": 33,
   "outputs": [
    {
     "data": {
      "text/plain": "array([1., 1., 1., 1., 1., 1., 1., 1., 1., 1., 1., 1., 1., 1., 1., 1., 1.,\n       1., 1., 1., 1., 1., 1., 1., 1., 1., 1., 1., 1., 1.])"
     },
     "execution_count": 33,
     "metadata": {},
     "output_type": "execute_result"
    }
   ]
  },
  {
   "cell_type": "code",
   "metadata": {
    "id": "RL2mYP1r_SfZ",
    "colab": {
     "base_uri": "https://localhost:8080/"
    },
    "executionInfo": {
     "status": "ok",
     "timestamp": 1630887604509,
     "user_tz": -540,
     "elapsed": 473,
     "user": {
      "displayName": "권오성",
      "photoUrl": "https://lh3.googleusercontent.com/a/default-user=s64",
      "userId": "06266214997163650151"
     }
    },
    "outputId": "5f6683cb-f4d5-4ec5-a779-d1d81213a660"
   },
   "source": [
    "m2 = DecisionTreeClassifier(criterion='entropy', max_depth=5)\n",
    "m2.fit(X_tr_scaled, y_train)\n",
    "m2.score(X_tst_scaled, y_test)"
   ],
   "execution_count": 34,
   "outputs": [
    {
     "data": {
      "text/plain": "0.958041958041958"
     },
     "execution_count": 34,
     "metadata": {},
     "output_type": "execute_result"
    }
   ]
  },
  {
   "cell_type": "code",
   "metadata": {
    "id": "d73jFnMD_SfZ",
    "colab": {
     "base_uri": "https://localhost:8080/",
     "height": 35
    },
    "executionInfo": {
     "status": "ok",
     "timestamp": 1630636855572,
     "user_tz": -540,
     "elapsed": 9,
     "user": {
      "displayName": "권오성",
      "photoUrl": "https://lh3.googleusercontent.com/a/default-user=s64",
      "userId": "06266214997163650151"
     }
    },
    "outputId": "929faff5-9a96-4883-97d1-f02087537777"
   },
   "source": [
    "export_graphviz(m2, out_file='tree2.dot',\n",
    "                feature_names=data.feature_names,  \n",
    "                class_names=data.target_names,  \n",
    "                filled=True, rounded=True,  \n",
    "                special_characters=True)\n",
    "\n",
    "with open(\"tree2.dot\") as f:\n",
    "    dot_graph = f.read()\n",
    "dot = graphviz.Source(dot_graph); dot.format='png'\n",
    "dot.render(filename='tree2')"
   ],
   "execution_count": 35,
   "outputs": [
    {
     "data": {
      "text/plain": "'tree2.png'"
     },
     "execution_count": 35,
     "metadata": {},
     "output_type": "execute_result"
    }
   ]
  },
  {
   "cell_type": "code",
   "metadata": {
    "id": "J0JQdk4X_Sfa",
    "colab": {
     "base_uri": "https://localhost:8080/"
    },
    "executionInfo": {
     "status": "ok",
     "timestamp": 1630636855573,
     "user_tz": -540,
     "elapsed": 9,
     "user": {
      "displayName": "권오성",
      "photoUrl": "https://lh3.googleusercontent.com/a/default-user=s64",
      "userId": "06266214997163650151"
     }
    },
    "outputId": "6d8fa72c-c2c6-4d8e-d273-77cf45eaad80"
   },
   "source": [
    "model.score(X_train, y_train)"
   ],
   "execution_count": 36,
   "outputs": [
    {
     "data": {
      "text/plain": "1.0"
     },
     "execution_count": 36,
     "metadata": {},
     "output_type": "execute_result"
    }
   ]
  },
  {
   "cell_type": "code",
   "metadata": {
    "id": "7oz3jZjS_Sfa",
    "colab": {
     "base_uri": "https://localhost:8080/"
    },
    "executionInfo": {
     "status": "ok",
     "timestamp": 1630636855831,
     "user_tz": -540,
     "elapsed": 266,
     "user": {
      "displayName": "권오성",
      "photoUrl": "https://lh3.googleusercontent.com/a/default-user=s64",
      "userId": "06266214997163650151"
     }
    },
    "outputId": "1a1b4bc6-addb-4d8b-ab9f-c1f209a7f048"
   },
   "source": [
    "m2.score(X_train, y_train)"
   ],
   "execution_count": 37,
   "outputs": [
    {
     "data": {
      "text/plain": "0.7535211267605634"
     },
     "execution_count": 37,
     "metadata": {},
     "output_type": "execute_result"
    }
   ]
  },
  {
   "cell_type": "markdown",
   "source": [
    "[quiz] GridSearchCV를 이용하여 위 max_depth, min_samples_leaf, max_leaf_nodes 구간에 대해 튜닝하여 best model을 선정하자."
   ],
   "metadata": {
    "collapsed": false
   }
  },
  {
   "cell_type": "code",
   "source": [
    "from sklearn.model_selection import GridSearchCV\n",
    "from sklearn.model_selection import StratifiedKFold\n",
    "params = {'max_depth':mds, 'max_leaf_nodes':mlns, 'min_samples_leaf': msls}\n",
    "fold = StratifiedKFold()\n",
    "grid = GridSearchCV(DecisionTreeClassifier(), params, n_jobs=1, cv = fold)\n",
    "grid.fit(X_train, y_train)\n",
    "print(grid.best_estimator_)\n",
    "print(grid.best_params_)\n",
    "print(grid.best_score_)\n",
    "\n",
    "range(2, 11)"
   ],
   "metadata": {
    "collapsed": false,
    "pycharm": {
     "name": "#%%\n"
    }
   },
   "execution_count": 41,
   "outputs": [
    {
     "name": "stdout",
     "output_type": "stream",
     "text": [
      "DecisionTreeClassifier(max_depth=5, max_leaf_nodes=7, min_samples_leaf=5)\n",
      "{'max_depth': 5, 'max_leaf_nodes': 7, 'min_samples_leaf': 5}\n",
      "0.9412311901504788\n"
     ]
    },
    {
     "data": {
      "text/plain": "range(2, 11)"
     },
     "execution_count": 41,
     "metadata": {},
     "output_type": "execute_result"
    }
   ]
  },
  {
   "cell_type": "code",
   "metadata": {
    "id": "btjp136e_Sfa",
    "pycharm": {
     "name": "#%%\n"
    }
   },
   "source": [
    "len(mds), len(mlns), len(msls)"
   ],
   "execution_count": 42,
   "outputs": [
    {
     "data": {
      "text/plain": "(3, 5, 9)"
     },
     "execution_count": 42,
     "metadata": {},
     "output_type": "execute_result"
    }
   ]
  },
  {
   "cell_type": "code",
   "metadata": {
    "id": "7y9lQ9tb_Sfa"
   },
   "source": [
    "grid.score(X_test, y_test)"
   ],
   "execution_count": 44,
   "outputs": [
    {
     "data": {
      "text/plain": "0.9370629370629371"
     },
     "execution_count": 44,
     "metadata": {},
     "output_type": "execute_result"
    }
   ]
  },
  {
   "cell_type": "code",
   "execution_count": null,
   "outputs": [],
   "source": [],
   "metadata": {
    "collapsed": false,
    "pycharm": {
     "name": "#%%\n"
    }
   }
  },
  {
   "cell_type": "code",
   "execution_count": 48,
   "outputs": [
    {
     "data": {
      "text/plain": "DecisionTreeClassifier()"
     },
     "execution_count": 48,
     "metadata": {},
     "output_type": "execute_result"
    }
   ],
   "source": [
    "DecisionTreeClassifier()"
   ],
   "metadata": {
    "collapsed": false,
    "pycharm": {
     "name": "#%%\n"
    }
   }
  },
  {
   "cell_type": "code",
   "execution_count": null,
   "outputs": [],
   "source": [],
   "metadata": {
    "collapsed": false,
    "pycharm": {
     "name": "#%%\n"
    }
   }
  }
 ]
}