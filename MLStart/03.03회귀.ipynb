{
 "nbformat": 4,
 "nbformat_minor": 0,
 "metadata": {
  "kernelspec": {
   "display_name": "Python 3",
   "language": "python",
   "name": "python3"
  },
  "language_info": {
   "codemirror_mode": {
    "name": "ipython",
    "version": 3
   },
   "file_extension": ".py",
   "mimetype": "text/x-python",
   "name": "python",
   "nbconvert_exporter": "python",
   "pygments_lexer": "ipython3",
   "version": "3.7.6"
  },
  "toc": {
   "base_numbering": 1,
   "nav_menu": {},
   "number_sections": false,
   "sideBar": true,
   "skip_h1_title": false,
   "title_cell": "Table of Contents",
   "title_sidebar": "Contents",
   "toc_cell": false,
   "toc_position": {},
   "toc_section_display": true,
   "toc_window_display": false
  },
  "varInspector": {
   "cols": {
    "lenName": 16,
    "lenType": 16,
    "lenVar": 40
   },
   "kernels_config": {
    "python": {
     "delete_cmd_postfix": "",
     "delete_cmd_prefix": "del ",
     "library": "var_list.py",
     "varRefreshCmd": "print(var_dic_list())"
    },
    "r": {
     "delete_cmd_postfix": ") ",
     "delete_cmd_prefix": "rm(",
     "library": "var_list.r",
     "varRefreshCmd": "cat(var_dic_list()) "
    }
   },
   "types_to_exclude": [
    "module",
    "function",
    "builtin_function_or_method",
    "instance",
    "_Feature"
   ],
   "window_display": false
  },
  "colab": {
   "name": "03.03회귀.ipynb",
   "provenance": [],
   "collapsed_sections": [
    "ETzoH9uQrcC8"
   ],
   "toc_visible": true
  }
 },
 "cells": [
  {
   "cell_type": "code",
   "metadata": {
    "id": "drLL9kvJrcCw",
    "executionInfo": {
     "status": "ok",
     "timestamp": 1640910552414,
     "user_tz": -540,
     "elapsed": 664,
     "user": {
      "displayName": "권오성",
      "photoUrl": "https://lh3.googleusercontent.com/a/default-user=s64",
      "userId": "06266214997163650151"
     }
    },
    "colab": {
     "base_uri": "https://localhost:8080/"
    },
    "outputId": "274ce820-7c4e-4bb1-e10f-9f80216ca86a"
   },
   "source": [
    "from sklearn.datasets import load_boston\n",
    "from sklearn.model_selection import train_test_split\n",
    "\n",
    "data = load_boston()\n",
    "X_train, X_test, y_train, y_test = train_test_split(data.data, data.target, random_state=42)"
   ],
   "execution_count": 55,
   "outputs": []
  },
  {
   "cell_type": "code",
   "metadata": {
    "colab": {
     "base_uri": "https://localhost:8080/"
    },
    "id": "iaWIKgxprcCz",
    "executionInfo": {
     "status": "ok",
     "timestamp": 1640910552415,
     "user_tz": -540,
     "elapsed": 9,
     "user": {
      "displayName": "권오성",
      "photoUrl": "https://lh3.googleusercontent.com/a/default-user=s64",
      "userId": "06266214997163650151"
     }
    },
    "outputId": "7d6f086e-0c08-4abd-ab29-34e22460f7ac"
   },
   "source": [
    "type(data)"
   ],
   "execution_count": 56,
   "outputs": [
    {
     "data": {
      "text/plain": "sklearn.utils.Bunch"
     },
     "execution_count": 56,
     "metadata": {},
     "output_type": "execute_result"
    }
   ]
  },
  {
   "cell_type": "markdown",
   "metadata": {
    "id": "cWQQMy9crcC0"
   },
   "source": [
    "dict에서 k, v에 접근하는 방법\n",
    "- d['k'] = v\n",
    "- v = d['k']\n",
    "\n",
    "bunch는 key를 마치 attribute처럼 사용할 수 있도록해준다.\n",
    "- b.k = v\n",
    "- v = b.k"
   ]
  },
  {
   "cell_type": "code",
   "metadata": {
    "colab": {
     "base_uri": "https://localhost:8080/"
    },
    "id": "JVboIpwprcC1",
    "executionInfo": {
     "status": "ok",
     "timestamp": 1640910552415,
     "user_tz": -540,
     "elapsed": 7,
     "user": {
      "displayName": "권오성",
      "photoUrl": "https://lh3.googleusercontent.com/a/default-user=s64",
      "userId": "06266214997163650151"
     }
    },
    "outputId": "a784ab8b-2b0d-4697-88b1-dfd21ae36585"
   },
   "source": [
    "data.keys()"
   ],
   "execution_count": 57,
   "outputs": [
    {
     "data": {
      "text/plain": "dict_keys(['data', 'target', 'feature_names', 'DESCR', 'filename'])"
     },
     "execution_count": 57,
     "metadata": {},
     "output_type": "execute_result"
    }
   ]
  },
  {
   "cell_type": "code",
   "metadata": {
    "colab": {
     "base_uri": "https://localhost:8080/"
    },
    "id": "NttzvhCxrcC1",
    "executionInfo": {
     "status": "ok",
     "timestamp": 1640910552415,
     "user_tz": -540,
     "elapsed": 5,
     "user": {
      "displayName": "권오성",
      "photoUrl": "https://lh3.googleusercontent.com/a/default-user=s64",
      "userId": "06266214997163650151"
     }
    },
    "outputId": "ea989bef-e517-4255-853c-9a3927103ff0"
   },
   "source": [
    "print(data.DESCR)"
   ],
   "execution_count": 58,
   "outputs": [
    {
     "name": "stdout",
     "output_type": "stream",
     "text": [
      ".. _boston_dataset:\n",
      "\n",
      "Boston house prices dataset\n",
      "---------------------------\n",
      "\n",
      "**Data Set Characteristics:**  \n",
      "\n",
      "    :Number of Instances: 506 \n",
      "\n",
      "    :Number of Attributes: 13 numeric/categorical predictive. Median Value (attribute 14) is usually the target.\n",
      "\n",
      "    :Attribute Information (in order):\n",
      "        - CRIM     per capita crime rate by town\n",
      "        - ZN       proportion of residential land zoned for lots over 25,000 sq.ft.\n",
      "        - INDUS    proportion of non-retail business acres per town\n",
      "        - CHAS     Charles River dummy variable (= 1 if tract bounds river; 0 otherwise)\n",
      "        - NOX      nitric oxides concentration (parts per 10 million)\n",
      "        - RM       average number of rooms per dwelling\n",
      "        - AGE      proportion of owner-occupied units built prior to 1940\n",
      "        - DIS      weighted distances to five Boston employment centres\n",
      "        - RAD      index of accessibility to radial highways\n",
      "        - TAX      full-value property-tax rate per $10,000\n",
      "        - PTRATIO  pupil-teacher ratio by town\n",
      "        - B        1000(Bk - 0.63)^2 where Bk is the proportion of blacks by town\n",
      "        - LSTAT    % lower status of the population\n",
      "        - MEDV     Median value of owner-occupied homes in $1000's\n",
      "\n",
      "    :Missing Attribute Values: None\n",
      "\n",
      "    :Creator: Harrison, D. and Rubinfeld, D.L.\n",
      "\n",
      "This is a copy of UCI ML housing dataset.\n",
      "https://archive.ics.uci.edu/ml/machine-learning-databases/housing/\n",
      "\n",
      "\n",
      "This dataset was taken from the StatLib library which is maintained at Carnegie Mellon University.\n",
      "\n",
      "The Boston house-price data of Harrison, D. and Rubinfeld, D.L. 'Hedonic\n",
      "prices and the demand for clean air', J. Environ. Economics & Management,\n",
      "vol.5, 81-102, 1978.   Used in Belsley, Kuh & Welsch, 'Regression diagnostics\n",
      "...', Wiley, 1980.   N.B. Various transformations are used in the table on\n",
      "pages 244-261 of the latter.\n",
      "\n",
      "The Boston house-price data has been used in many machine learning papers that address regression\n",
      "problems.   \n",
      "     \n",
      ".. topic:: References\n",
      "\n",
      "   - Belsley, Kuh & Welsch, 'Regression diagnostics: Identifying Influential Data and Sources of Collinearity', Wiley, 1980. 244-261.\n",
      "   - Quinlan,R. (1993). Combining Instance-Based and Model-Based Learning. In Proceedings on the Tenth International Conference of Machine Learning, 236-243, University of Massachusetts, Amherst. Morgan Kaufmann.\n",
      "\n"
     ]
    }
   ]
  },
  {
   "cell_type": "code",
   "metadata": {
    "colab": {
     "base_uri": "https://localhost:8080/"
    },
    "id": "6imA4GEOrcC2",
    "executionInfo": {
     "status": "ok",
     "timestamp": 1640910552416,
     "user_tz": -540,
     "elapsed": 5,
     "user": {
      "displayName": "권오성",
      "photoUrl": "https://lh3.googleusercontent.com/a/default-user=s64",
      "userId": "06266214997163650151"
     }
    },
    "outputId": "eef86bf6-5fbd-4adc-acbe-ed3ba12a2826"
   },
   "source": [
    "from sklearn.linear_model import LinearRegression\n",
    "\n",
    "model = LinearRegression()\n",
    "model.fit(X_train, y_train)"
   ],
   "execution_count": 59,
   "outputs": [
    {
     "data": {
      "text/plain": "LinearRegression()"
     },
     "execution_count": 59,
     "metadata": {},
     "output_type": "execute_result"
    }
   ]
  },
  {
   "cell_type": "code",
   "metadata": {
    "colab": {
     "base_uri": "https://localhost:8080/"
    },
    "id": "EcRPRmOnrcC2",
    "executionInfo": {
     "status": "ok",
     "timestamp": 1640910552868,
     "user_tz": -540,
     "elapsed": 455,
     "user": {
      "displayName": "권오성",
      "photoUrl": "https://lh3.googleusercontent.com/a/default-user=s64",
      "userId": "06266214997163650151"
     }
    },
    "outputId": "e0eded4b-2f81-4d97-af52-da8573a6ac89"
   },
   "source": [
    "score = model.score(X_test, y_test)\n",
    "print(f\"결정계수 : {score}\")"
   ],
   "execution_count": 60,
   "outputs": [
    {
     "name": "stdout",
     "output_type": "stream",
     "text": [
      "결정계수 : 0.6844267283527123\n"
     ]
    }
   ]
  },
  {
   "cell_type": "markdown",
   "metadata": {
    "id": "IwKTCNTprcC3"
   },
   "source": [
    "$$R^2 = 1- \\cfrac {SSE}{SST} = \\cfrac {SSR}{SST}$$\n",
    "- $SST = \\sum_i (y_i - \\bar y)^2$ : Sum of Square Total (Variance)\n",
    "- $SSE = \\sum_i (y_i - \\hat y_i)^2$ : Sum of Squared Error\n",
    "- $SSR = \\sum_i (\\hat y_i - \\bar y)^2$ : Sum of Squared Regression"
   ]
  },
  {
   "cell_type": "code",
   "metadata": {
    "id": "2Td8O_3PrcC3",
    "executionInfo": {
     "status": "ok",
     "timestamp": 1640910552869,
     "user_tz": -540,
     "elapsed": 18,
     "user": {
      "displayName": "권오성",
      "photoUrl": "https://lh3.googleusercontent.com/a/default-user=s64",
      "userId": "06266214997163650151"
     }
    }
   },
   "source": [
    "yhat = model.predict(X_test)"
   ],
   "execution_count": 61,
   "outputs": []
  },
  {
   "cell_type": "code",
   "metadata": {
    "colab": {
     "base_uri": "https://localhost:8080/"
    },
    "id": "Y07mKTetrcC4",
    "executionInfo": {
     "status": "ok",
     "timestamp": 1640910552869,
     "user_tz": -540,
     "elapsed": 17,
     "user": {
      "displayName": "권오성",
      "photoUrl": "https://lh3.googleusercontent.com/a/default-user=s64",
      "userId": "06266214997163650151"
     }
    },
    "outputId": "31e0338b-a60b-43a1-de65-0f8a4615d128"
   },
   "source": [
    "import numpy as np\n",
    "SST = np.square(y_test - y_test.mean()).sum()\n",
    "SSE = np.square(y_test - yhat).sum()\n",
    "\n",
    "R2 = 1 - SSE/SST\n",
    "R2"
   ],
   "execution_count": 62,
   "outputs": [
    {
     "data": {
      "text/plain": "0.6844267283527123"
     },
     "execution_count": 62,
     "metadata": {},
     "output_type": "execute_result"
    }
   ]
  },
  {
   "cell_type": "code",
   "metadata": {
    "id": "X5R7KhtcrcC4",
    "colab": {
     "base_uri": "https://localhost:8080/"
    },
    "executionInfo": {
     "status": "ok",
     "timestamp": 1640910552869,
     "user_tz": -540,
     "elapsed": 15,
     "user": {
      "displayName": "권오성",
      "photoUrl": "https://lh3.googleusercontent.com/a/default-user=s64",
      "userId": "06266214997163650151"
     }
    },
    "outputId": "70add633-226d-4027-b489-665839dfad5a"
   },
   "source": [
    "X_train.shape"
   ],
   "execution_count": 63,
   "outputs": [
    {
     "data": {
      "text/plain": "(379, 13)"
     },
     "execution_count": 63,
     "metadata": {},
     "output_type": "execute_result"
    }
   ]
  },
  {
   "cell_type": "markdown",
   "metadata": {
    "id": "H6Fc_-j_rcC4"
   },
   "source": [
    "X의 shape이 (n, p)라면:\n",
    "\n",
    "$$\\begin{align}\n",
    "SST &= SSE + SSR\\\\\n",
    "\\sum_i (y_i - \\bar y)^2 &= \\sum_i (y_i - \\hat y_i + \\hat y_i - \\bar y)^2 \\\\\n",
    "\\sum_i (y_i - \\bar y)^2 &= \\sum_i (y_i - \\hat y_i)^2 + \\sum_i (\\hat y_i - \\bar y)^2\\\\\n",
    "\\text{DoF} : (n - 1) &= (n - p - 1) + (p )\n",
    "\\end{align}$$\n",
    "\n",
    "- $\\hat y = X \\cdot W + b$\n",
    "- MSE(Mean Squared Error) : $\\cfrac {SSE}{n-p-1}$\n",
    "- $y = \\hat y + \\epsilon$, 잔차 $\\epsilon$의 분산값 $\\sigma_e^2 = MSE$"
   ]
  },
  {
   "cell_type": "markdown",
   "metadata": {
    "id": "rmVlQUs7rcC5"
   },
   "source": [
    "$$\\begin{align}\n",
    "Loss(w) &= \\sum_i \\epsilon^2 = \\sum_i (y - \\hat y)^2 \\\\\n",
    "&= (y - X \\cdot w)^T \\cdot (y - X \\cdot w)\\\\\n",
    "\\cfrac {\\partial Loss}{\\partial w} &= 2 (X^T \\cdot X) \\cdot w - 2X^T \\cdot y \\\\\n",
    "w(t+1) &= w(t) - \\text{lr} * \\cfrac {\\partial Loss}{\\partial w} \\Bigg|_{w =w(t)}\n",
    "\\end{align}$$"
   ]
  },
  {
   "cell_type": "markdown",
   "metadata": {
    "id": "5DX14zStrcC5"
   },
   "source": [
    "[Quiz] 보스턴 집값 데이터의 train data에 대한 $R^2$을 구하여라."
   ]
  },
  {
   "cell_type": "code",
   "metadata": {
    "colab": {
     "base_uri": "https://localhost:8080/"
    },
    "id": "zLc5WihprcC5",
    "executionInfo": {
     "status": "ok",
     "timestamp": 1640910552870,
     "user_tz": -540,
     "elapsed": 15,
     "user": {
      "displayName": "권오성",
      "photoUrl": "https://lh3.googleusercontent.com/a/default-user=s64",
      "userId": "06266214997163650151"
     }
    },
    "outputId": "12ea296e-db30-4d59-f615-fe385f0a29e4"
   },
   "source": [
    "R2train = model.score(X_train, y_train)\n",
    "R2train"
   ],
   "execution_count": 64,
   "outputs": [
    {
     "data": {
      "text/plain": "0.7480872598623441"
     },
     "execution_count": 64,
     "metadata": {},
     "output_type": "execute_result"
    }
   ]
  },
  {
   "cell_type": "markdown",
   "metadata": {
    "id": "PAQNiVParcC5"
   },
   "source": [
    "[Quiz] 임의의 noise 데이터를 추가할 때, 학습 데이터에서의 $R^2$은 어떻게 될까?"
   ]
  },
  {
   "cell_type": "code",
   "metadata": {
    "colab": {
     "base_uri": "https://localhost:8080/"
    },
    "id": "ZddJoPGjrcC6",
    "executionInfo": {
     "status": "ok",
     "timestamp": 1640910552870,
     "user_tz": -540,
     "elapsed": 13,
     "user": {
      "displayName": "권오성",
      "photoUrl": "https://lh3.googleusercontent.com/a/default-user=s64",
      "userId": "06266214997163650151"
     }
    },
    "outputId": "03526966-5c90-4d10-bb51-99715fc60d01"
   },
   "source": [
    "noise = np.random.randint(5, 30, (data.data.shape[0], 5))\n",
    "newX = np.hstack([noise, data.data])\n",
    "\n",
    "X_train, X_test, y_train, y_test = train_test_split(newX, data.target, random_state=42)\n",
    "m = LinearRegression()\n",
    "m.fit(X_train, y_train)\n",
    "\n",
    "R2newTr = m.score(X_train, y_train)\n",
    "R2newTe = m.score(X_test, y_test)\n",
    "print(\"기본 데이터에서 학습 결정계수: %.3f, 테스트 결정계수: %.3f\" %(R2train, score))\n",
    "print(\"노이즈 데이터에서 학습 결정계수: %.3f, 테스트 결정계수: %.3f\" %(R2newTr, R2newTe))"
   ],
   "execution_count": 65,
   "outputs": [
    {
     "name": "stdout",
     "output_type": "stream",
     "text": [
      "기본 데이터에서 학습 결정계수: 0.748, 테스트 결정계수: 0.684\n",
      "노이즈 데이터에서 학습 결정계수: 0.750, 테스트 결정계수: 0.688\n"
     ]
    }
   ]
  },
  {
   "cell_type": "code",
   "metadata": {
    "colab": {
     "base_uri": "https://localhost:8080/"
    },
    "id": "ybapOfZnrcC6",
    "executionInfo": {
     "status": "ok",
     "timestamp": 1640910552870,
     "user_tz": -540,
     "elapsed": 12,
     "user": {
      "displayName": "권오성",
      "photoUrl": "https://lh3.googleusercontent.com/a/default-user=s64",
      "userId": "06266214997163650151"
     }
    },
    "outputId": "a2aab42d-314f-48a3-fed0-68d4f77bbcdd"
   },
   "source": [
    "data.data.shape, noise.shape, newX.shape"
   ],
   "execution_count": 66,
   "outputs": [
    {
     "data": {
      "text/plain": "((506, 13), (506, 5), (506, 18))"
     },
     "execution_count": 66,
     "metadata": {},
     "output_type": "execute_result"
    }
   ]
  },
  {
   "cell_type": "markdown",
   "metadata": {
    "id": "sAQjKzsGrcC6"
   },
   "source": [
    "모든 머신러닝에서 일반적으로 변수의 수가 많아지면 변수로부터 불필요한 정보를 습득하려는 경향이 있다."
   ]
  },
  {
   "cell_type": "code",
   "metadata": {
    "colab": {
     "base_uri": "https://localhost:8080/"
    },
    "id": "IdpQ337vrcC6",
    "executionInfo": {
     "status": "ok",
     "timestamp": 1640910552870,
     "user_tz": -540,
     "elapsed": 11,
     "user": {
      "displayName": "권오성",
      "photoUrl": "https://lh3.googleusercontent.com/a/default-user=s64",
      "userId": "06266214997163650151"
     }
    },
    "outputId": "c2739070-af39-4757-99f9-5066e92da7a5"
   },
   "source": [
    "model.coef_"
   ],
   "execution_count": 67,
   "outputs": [
    {
     "data": {
      "text/plain": "array([-1.283226e-01,  2.955178e-02,  4.885909e-02,  2.773503e+00,\n       -1.623883e+01,  4.368755e+00, -9.248082e-03, -1.400867e+00,\n        2.577612e-01, -9.956948e-03, -9.231229e-01,  1.318542e-02,\n       -5.176395e-01])"
     },
     "execution_count": 67,
     "metadata": {},
     "output_type": "execute_result"
    }
   ]
  },
  {
   "cell_type": "code",
   "metadata": {
    "colab": {
     "base_uri": "https://localhost:8080/"
    },
    "id": "x8q76W_NrcC7",
    "executionInfo": {
     "status": "ok",
     "timestamp": 1640910552871,
     "user_tz": -540,
     "elapsed": 11,
     "user": {
      "displayName": "권오성",
      "photoUrl": "https://lh3.googleusercontent.com/a/default-user=s64",
      "userId": "06266214997163650151"
     }
    },
    "outputId": "9835db67-24ab-4d62-b4e8-addc0239666b"
   },
   "source": [
    "data.feature_names"
   ],
   "execution_count": 68,
   "outputs": [
    {
     "data": {
      "text/plain": "array(['CRIM', 'ZN', 'INDUS', 'CHAS', 'NOX', 'RM', 'AGE', 'DIS', 'RAD',\n       'TAX', 'PTRATIO', 'B', 'LSTAT'], dtype='<U7')"
     },
     "execution_count": 68,
     "metadata": {},
     "output_type": "execute_result"
    }
   ]
  },
  {
   "cell_type": "code",
   "metadata": {
    "colab": {
     "base_uri": "https://localhost:8080/"
    },
    "id": "CrxKRFmArcC7",
    "executionInfo": {
     "status": "ok",
     "timestamp": 1640910552871,
     "user_tz": -540,
     "elapsed": 9,
     "user": {
      "displayName": "권오성",
      "photoUrl": "https://lh3.googleusercontent.com/a/default-user=s64",
      "userId": "06266214997163650151"
     }
    },
    "outputId": "1f4c90d7-36b7-4289-d9ea-c7940ca9cabd"
   },
   "source": [
    "m.coef_"
   ],
   "execution_count": 69,
   "outputs": [
    {
     "data": {
      "text/plain": "array([ 2.056708e-03, -3.105704e-02,  3.140948e-02, -4.185871e-02,\n       -4.522001e-03, -1.300394e-01,  2.981527e-02,  4.108202e-02,\n        2.846291e+00, -1.649282e+01,  4.331558e+00, -8.130452e-03,\n       -1.403363e+00,  2.600789e-01, -9.718016e-03, -9.358037e-01,\n        1.322981e-02, -5.174730e-01])"
     },
     "execution_count": 69,
     "metadata": {},
     "output_type": "execute_result"
    }
   ]
  },
  {
   "cell_type": "markdown",
   "metadata": {
    "id": "f6lcfyqErcC7"
   },
   "source": [
    "[Quiz] 상관성있는 데이터에서의 결정계수와 회귀계수의 변화\n",
    "- 보스턴 데이터에서 아래와 같이 2개의 변수를 추가하고\n",
    " - CN = 5\\*CRIM - 5\\*NOX, \n",
    " - RA = 6\\*RM - 3\\*AGE + CRIM\n",
    "- newX2라는 데이터를 생성하고, \n",
    "- 이 데이터로부터 학습과 테스트 데이터를 나누어서, 각각에 대한 $R^2$을 구하여라.\n",
    "- 그리고 변화된 회귀계수를 비교해보자."
   ]
  },
  {
   "cell_type": "code",
   "metadata": {
    "id": "53sDWH4frcC7",
    "executionInfo": {
     "status": "ok",
     "timestamp": 1640910552871,
     "user_tz": -540,
     "elapsed": 8,
     "user": {
      "displayName": "권오성",
      "photoUrl": "https://lh3.googleusercontent.com/a/default-user=s64",
      "userId": "06266214997163650151"
     }
    }
   },
   "source": [
    "CRIM, NOX, RM, AGE = data.data[:,0], data.data[:,4], data.data[:,5], data.data[:,6]\n",
    "CN, RA = 5*CRIM - 5*NOX, 6*RM - 3*AGE + CRIM"
   ],
   "execution_count": 70,
   "outputs": []
  },
  {
   "cell_type": "code",
   "metadata": {
    "id": "JVo8XX2lrcC7",
    "colab": {
     "base_uri": "https://localhost:8080/"
    },
    "executionInfo": {
     "status": "ok",
     "timestamp": 1640910552871,
     "user_tz": -540,
     "elapsed": 8,
     "user": {
      "displayName": "권오성",
      "photoUrl": "https://lh3.googleusercontent.com/a/default-user=s64",
      "userId": "06266214997163650151"
     }
    },
    "outputId": "8da2da35-e78d-415d-dc7a-199fe85bdfb9"
   },
   "source": [
    "CN.shape"
   ],
   "execution_count": 71,
   "outputs": [
    {
     "data": {
      "text/plain": "(506,)"
     },
     "execution_count": 71,
     "metadata": {},
     "output_type": "execute_result"
    }
   ]
  },
  {
   "cell_type": "code",
   "metadata": {
    "id": "f_Z6dAbNrcC8",
    "executionInfo": {
     "status": "ok",
     "timestamp": 1640910552872,
     "user_tz": -540,
     "elapsed": 7,
     "user": {
      "displayName": "권오성",
      "photoUrl": "https://lh3.googleusercontent.com/a/default-user=s64",
      "userId": "06266214997163650151"
     }
    }
   },
   "source": [
    "newX2 = np.hstack([data.data, CN.reshape((-1,1)), RA.reshape((-1,1))])"
   ],
   "execution_count": 72,
   "outputs": []
  },
  {
   "cell_type": "code",
   "metadata": {
    "colab": {
     "base_uri": "https://localhost:8080/"
    },
    "id": "qYNL_Cr3rcC8",
    "executionInfo": {
     "status": "ok",
     "timestamp": 1640910553224,
     "user_tz": -540,
     "elapsed": 359,
     "user": {
      "displayName": "권오성",
      "photoUrl": "https://lh3.googleusercontent.com/a/default-user=s64",
      "userId": "06266214997163650151"
     }
    },
    "outputId": "a968f273-e776-4f67-cc48-8595e11ddf46"
   },
   "source": [
    "X_train, X_test, y_train, y_test = train_test_split(newX2, data.target, random_state=42)\n",
    "m2 = LinearRegression()\n",
    "m2.fit(X_train, y_train)\n",
    "\n",
    "R2newTr = m2.score(X_train, y_train)\n",
    "R2newTe = m2.score(X_test, y_test)\n",
    "print(\"기본 데이터에서 학습 결정계수: %.3f, 테스트 결정계수: %.3f\" %(R2train, score))\n",
    "print(\"추가 데이터에서 학습 결정계수: %.3f, 테스트 결정계수: %.3f\" %(R2newTr, R2newTe))"
   ],
   "execution_count": 73,
   "outputs": [
    {
     "name": "stdout",
     "output_type": "stream",
     "text": [
      "기본 데이터에서 학습 결정계수: 0.748, 테스트 결정계수: 0.684\n",
      "추가 데이터에서 학습 결정계수: 0.748, 테스트 결정계수: 0.684\n"
     ]
    }
   ]
  },
  {
   "cell_type": "code",
   "source": [
    "np.set_printoptions(precision=6)"
   ],
   "metadata": {
    "id": "xdlOuYtr26Jl",
    "executionInfo": {
     "status": "ok",
     "timestamp": 1640910553224,
     "user_tz": -540,
     "elapsed": 26,
     "user": {
      "displayName": "권오성",
      "photoUrl": "https://lh3.googleusercontent.com/a/default-user=s64",
      "userId": "06266214997163650151"
     }
    }
   },
   "execution_count": 74,
   "outputs": []
  },
  {
   "cell_type": "code",
   "metadata": {
    "colab": {
     "base_uri": "https://localhost:8080/"
    },
    "id": "S11IsDhtrcC8",
    "executionInfo": {
     "status": "ok",
     "timestamp": 1640910553224,
     "user_tz": -540,
     "elapsed": 26,
     "user": {
      "displayName": "권오성",
      "photoUrl": "https://lh3.googleusercontent.com/a/default-user=s64",
      "userId": "06266214997163650151"
     }
    },
    "outputId": "2700ad67-b5f6-40d5-f621-23edb9395ce9"
   },
   "source": [
    "model.coef_"
   ],
   "execution_count": 75,
   "outputs": [
    {
     "data": {
      "text/plain": "array([-1.283226e-01,  2.955178e-02,  4.885909e-02,  2.773503e+00,\n       -1.623883e+01,  4.368755e+00, -9.248082e-03, -1.400867e+00,\n        2.577612e-01, -9.956948e-03, -9.231229e-01,  1.318542e-02,\n       -5.176395e-01])"
     },
     "execution_count": 75,
     "metadata": {},
     "output_type": "execute_result"
    }
   ]
  },
  {
   "cell_type": "code",
   "metadata": {
    "colab": {
     "base_uri": "https://localhost:8080/"
    },
    "id": "JJtACxbqrcC8",
    "executionInfo": {
     "status": "ok",
     "timestamp": 1640910553225,
     "user_tz": -540,
     "elapsed": 26,
     "user": {
      "displayName": "권오성",
      "photoUrl": "https://lh3.googleusercontent.com/a/default-user=s64",
      "userId": "06266214997163650151"
     }
    },
    "outputId": "30c931ed-c45b-4fe9-e274-81fbd4e250de"
   },
   "source": [
    "m2.coef_"
   ],
   "execution_count": 76,
   "outputs": [
    {
     "data": {
      "text/plain": "array([-8.225284,  0.029552,  0.048859,  2.773503, -8.533498,  2.018974,\n        1.165642, -1.400867,  0.257761, -0.009957, -0.923123,  0.013185,\n       -0.51764 ,  1.541066,  0.39163 ])"
     },
     "execution_count": 76,
     "metadata": {},
     "output_type": "execute_result"
    }
   ]
  },
  {
   "cell_type": "markdown",
   "metadata": {
    "id": "0-TvZ0f0rcC8"
   },
   "source": [
    "우리가 수집한 데이터에서:\n",
    "1. 임의의 노이즈가 주는 영향:\n",
    " - 학습 정확도는 올라가고, 테스트 정확도는 내려간다.\n",
    " - 모델의 정확도는 낮아진다.\n",
    "2. 변수간의 상관성이 높은 경우, 변수간에 중복된 정보를 가지는 경우\n",
    " - 회귀계수의 단위가 커지게 된다.\n",
    " - 이유는 중복되지 않는 정보(작은량의 정보)를 빼내기 위해\n",
    " - 중복된 정보간의 큰 차이를 만들어서 작은 정보를 빼내려고 합니다.\n",
    " - 회귀계수의 스케일을 크게 만들어야 이런 작업을 할 수 있다.\n",
    " \n",
    "각각의 변수 $X_1 = 0.1*A + \\alpha$, $X_2 = -5*A + \\beta$, $X_0 = A$의 정보량이다. 이때, A라는 정보는 3 변수에 서로 중복되어 있고, 이때 $\\alpha$와 $\\beta$라는 정보를 빼내려면, 다음과 같은 작업을 회귀모델에서는 수행하게 된다.\n",
    "- $\\alpha = X_1 - 0.1 * X_0$\n",
    "- $\\beta = X_2 + 5*X_0$\n",
    "\n",
    "일반적으로 우리가 수집한 데이터는 위와 같이 노이즈도 가지고 있고, 중복된 정보도 가지게된다. 이를 통해 노이즈를 학습하려고 하면 할 수록, 회귀계수가 커지는 경향이 있다. 이를 다중공선성 문제라 한다."
   ]
  },
  {
   "cell_type": "markdown",
   "metadata": {
    "id": "ETzoH9uQrcC8"
   },
   "source": [
    "## 다중공선성 문제\n",
    "이러한 다중공선성 문제를 해결하기 위한 2가지 방법:\n",
    "1. Ridge Regression : L2 규제화된 Linear Regression\n",
    "2. Lasso Regression : L1 규제화된 LInear Regression\n",
    "\n",
    "위 2가지 방법은 결국 작은 노이즈까지 학습하는 것을 방지하기 위해 w이 절대값이 커지는 것을 방지(규제)하는 방법을 사용합니다.\n",
    "\n",
    "Ridge Regression:\n",
    "$$Loss(w) = \\sum_i (y - \\hat y)^2 + \\alpha ||w||^2$$\n",
    "- 상대적으로 정확도가 높다\n",
    "\n",
    "Lasso Regression:\n",
    "$$Loss(w) = \\sum_i (y - \\hat y)^2 + \\alpha |w|$$\n",
    "- 더 적은 변수로 예측이 가능하다. (덜 중요한 변수는 포기)\n",
    "- 예측시간이 빠르다. 더 좋은 장점을 갖다.\n",
    "- 사업적용이 용이하다.\n",
    "\n",
    "ElasticNet Regression:\n",
    "$$Loss(w) = \\sum_i (y - \\hat y)^2 + \\alpha (\\beta|w| + (1-\\beta)||w||^2)$$\n",
    "\n",
    "w ~ 0.1\n",
    "- Ridge 규제항: $|w|^2 \\sim 0.01$ => 대부분 변수의 weight를 작은 값.\n",
    "- Lasso 규제항: $|w| \\sim 0.1$ => 설명력이 낮은 변수들의 weight ~ 0\n",
    "\n",
    "---\n",
    "규제항을 도입한 Ridge, Lasso의 공통적인 단점:\n",
    "1. 기존 Loss인 MSE와 |W|에 대한 규제간의 weight factor인 $\\alpha$를 튜닝해야 함.\n",
    " - 튜닝이란? 우리가 가지고 있는 데이터 X, y에 적합한 $\\alpha$를 찾는 일\n",
    " - 여러개의 $\\alpha$를 가지고 있는 모델을 학습해서, 테스트 데이터에서의 $R^2$가 더 좋은 것을 선택하는 일\n",
    "2. p 개의 변수들을 모두 동일한 스케일로 맞추어야 한다. Scaling이라 한다.\n",
    " - 큰 단위로 측정한 작은값변수와 작은 단위로 측정한 큰값변수가 있을 때\n",
    " - 큰 단위로 측정한 작은값변수의 weight는 커져야 하는데, 규제항에 의해 그 중요도(weight)를 줄일 수 밖에 없고, 어떤 경우는 그 정보를 상실하게 된다.\n",
    " - 이는 Ridge, Lasso 모두 모든 회귀계수에 일률적인 규제강도 $\\alpha$를 가지기 때문\n",
    " - 변수의 스케일 간의 차이에 의해 발생하는 이러한 문제를 해결하기 위해서는 학습전 모든 변수들을 같은 스케일을 가지도록 조정해줘야 한다."
   ]
  },
  {
   "cell_type": "markdown",
   "metadata": {
    "id": "GRAmY521rcC9"
   },
   "source": [
    "## Ridge, Lasso 적용하기"
   ]
  },
  {
   "cell_type": "code",
   "metadata": {
    "id": "ZSjh5D4XrcC9",
    "executionInfo": {
     "status": "ok",
     "timestamp": 1640910553225,
     "user_tz": -540,
     "elapsed": 24,
     "user": {
      "displayName": "권오성",
      "photoUrl": "https://lh3.googleusercontent.com/a/default-user=s64",
      "userId": "06266214997163650151"
     }
    }
   },
   "source": [
    "from sklearn.datasets import load_diabetes\n",
    "from sklearn.model_selection import train_test_split\n",
    "\n",
    "data = load_diabetes()\n",
    "X_train, X_test, y_train, y_test = train_test_split(data.data, data.target, random_state=42)"
   ],
   "execution_count": 77,
   "outputs": []
  },
  {
   "cell_type": "code",
   "metadata": {
    "colab": {
     "base_uri": "https://localhost:8080/"
    },
    "id": "MBtstzYqrcC9",
    "executionInfo": {
     "status": "ok",
     "timestamp": 1640910553225,
     "user_tz": -540,
     "elapsed": 24,
     "user": {
      "displayName": "권오성",
      "photoUrl": "https://lh3.googleusercontent.com/a/default-user=s64",
      "userId": "06266214997163650151"
     }
    },
    "outputId": "39413302-6587-42b3-b372-e84ed35e3abc"
   },
   "source": [
    "data.keys()"
   ],
   "execution_count": 78,
   "outputs": [
    {
     "data": {
      "text/plain": "dict_keys(['data', 'target', 'frame', 'DESCR', 'feature_names', 'data_filename', 'target_filename'])"
     },
     "execution_count": 78,
     "metadata": {},
     "output_type": "execute_result"
    }
   ]
  },
  {
   "cell_type": "code",
   "metadata": {
    "colab": {
     "base_uri": "https://localhost:8080/"
    },
    "id": "mD68ktc_rcC9",
    "executionInfo": {
     "status": "ok",
     "timestamp": 1640910553225,
     "user_tz": -540,
     "elapsed": 22,
     "user": {
      "displayName": "권오성",
      "photoUrl": "https://lh3.googleusercontent.com/a/default-user=s64",
      "userId": "06266214997163650151"
     }
    },
    "outputId": "9bca23fc-0d8a-491e-bf2d-ed2403b63852"
   },
   "source": [
    "print(data.DESCR)"
   ],
   "execution_count": 79,
   "outputs": [
    {
     "name": "stdout",
     "output_type": "stream",
     "text": [
      ".. _diabetes_dataset:\n",
      "\n",
      "Diabetes dataset\n",
      "----------------\n",
      "\n",
      "Ten baseline variables, age, sex, body mass index, average blood\n",
      "pressure, and six blood serum measurements were obtained for each of n =\n",
      "442 diabetes patients, as well as the response of interest, a\n",
      "quantitative measure of disease progression one year after baseline.\n",
      "\n",
      "**Data Set Characteristics:**\n",
      "\n",
      "  :Number of Instances: 442\n",
      "\n",
      "  :Number of Attributes: First 10 columns are numeric predictive values\n",
      "\n",
      "  :Target: Column 11 is a quantitative measure of disease progression one year after baseline\n",
      "\n",
      "  :Attribute Information:\n",
      "      - age     age in years\n",
      "      - sex\n",
      "      - bmi     body mass index\n",
      "      - bp      average blood pressure\n",
      "      - s1      tc, T-Cells (a type of white blood cells)\n",
      "      - s2      ldl, low-density lipoproteins\n",
      "      - s3      hdl, high-density lipoproteins\n",
      "      - s4      tch, thyroid stimulating hormone\n",
      "      - s5      ltg, lamotrigine\n",
      "      - s6      glu, blood sugar level\n",
      "\n",
      "Note: Each of these 10 feature variables have been mean centered and scaled by the standard deviation times `n_samples` (i.e. the sum of squares of each column totals 1).\n",
      "\n",
      "Source URL:\n",
      "https://www4.stat.ncsu.edu/~boos/var.select/diabetes.html\n",
      "\n",
      "For more information see:\n",
      "Bradley Efron, Trevor Hastie, Iain Johnstone and Robert Tibshirani (2004) \"Least Angle Regression,\" Annals of Statistics (with discussion), 407-499.\n",
      "(https://web.stanford.edu/~hastie/Papers/LARS/LeastAngle_2002.pdf)\n"
     ]
    }
   ]
  },
  {
   "cell_type": "markdown",
   "metadata": {
    "id": "SzZPgg9mrcC-"
   },
   "source": [
    "Ridge나 Lasso의 경우 회귀계수 즉, 입력변수에 대한 weight에 대한 규제를 갖기 때문에, 입력변수들에 대한 동등한 규제를 위해 입력변수들에 대한 scaling이 필요하다.\n",
    "\n",
    "당뇨병 데이터의 경우, 아래와같이 모든 변수들이 정규화되어 있기 때문에 따라 scaling을 필요로하지 않는다."
   ]
  },
  {
   "cell_type": "code",
   "metadata": {
    "colab": {
     "base_uri": "https://localhost:8080/"
    },
    "id": "aNkZKCDFrcC-",
    "executionInfo": {
     "status": "ok",
     "timestamp": 1640910553226,
     "user_tz": -540,
     "elapsed": 22,
     "user": {
      "displayName": "권오성",
      "photoUrl": "https://lh3.googleusercontent.com/a/default-user=s64",
      "userId": "06266214997163650151"
     }
    },
    "outputId": "341ddd42-4cef-49af-9139-48252c536b6c"
   },
   "source": [
    "data.data"
   ],
   "execution_count": 80,
   "outputs": [
    {
     "data": {
      "text/plain": "array([[ 0.038076,  0.05068 ,  0.061696, ..., -0.002592,  0.019908,\n        -0.017646],\n       [-0.001882, -0.044642, -0.051474, ..., -0.039493, -0.06833 ,\n        -0.092204],\n       [ 0.085299,  0.05068 ,  0.044451, ..., -0.002592,  0.002864,\n        -0.02593 ],\n       ...,\n       [ 0.041708,  0.05068 , -0.015906, ..., -0.01108 , -0.046879,\n         0.015491],\n       [-0.045472, -0.044642,  0.039062, ...,  0.02656 ,  0.044528,\n        -0.02593 ],\n       [-0.045472, -0.044642, -0.07303 , ..., -0.039493, -0.00422 ,\n         0.003064]])"
     },
     "execution_count": 80,
     "metadata": {},
     "output_type": "execute_result"
    }
   ]
  },
  {
   "cell_type": "code",
   "metadata": {
    "colab": {
     "base_uri": "https://localhost:8080/"
    },
    "id": "5EbWqLCercC-",
    "executionInfo": {
     "status": "ok",
     "timestamp": 1640910553226,
     "user_tz": -540,
     "elapsed": 20,
     "user": {
      "displayName": "권오성",
      "photoUrl": "https://lh3.googleusercontent.com/a/default-user=s64",
      "userId": "06266214997163650151"
     }
    },
    "outputId": "85eb4476-b752-4544-dfd8-b461484da43b"
   },
   "source": [
    "data.data.mean(axis=0)"
   ],
   "execution_count": 81,
   "outputs": [
    {
     "data": {
      "text/plain": "array([-3.634285e-16,  1.308343e-16, -8.045349e-16,  1.281655e-16,\n       -8.835316e-17,  1.327024e-16, -4.574646e-16,  3.777301e-16,\n       -3.830854e-16, -3.412882e-16])"
     },
     "execution_count": 81,
     "metadata": {},
     "output_type": "execute_result"
    }
   ]
  },
  {
   "cell_type": "code",
   "metadata": {
    "colab": {
     "base_uri": "https://localhost:8080/"
    },
    "id": "mGZFp58vrcC-",
    "executionInfo": {
     "status": "ok",
     "timestamp": 1640910553226,
     "user_tz": -540,
     "elapsed": 19,
     "user": {
      "displayName": "권오성",
      "photoUrl": "https://lh3.googleusercontent.com/a/default-user=s64",
      "userId": "06266214997163650151"
     }
    },
    "outputId": "489cbbec-c209-405e-a909-21c1fcf03dc6"
   },
   "source": [
    "data.data.std(axis=0)"
   ],
   "execution_count": 82,
   "outputs": [
    {
     "data": {
      "text/plain": "array([0.047565, 0.047565, 0.047565, 0.047565, 0.047565, 0.047565,\n       0.047565, 0.047565, 0.047565, 0.047565])"
     },
     "execution_count": 82,
     "metadata": {},
     "output_type": "execute_result"
    }
   ]
  },
  {
   "cell_type": "code",
   "source": [
    "data.target"
   ],
   "metadata": {
    "colab": {
     "base_uri": "https://localhost:8080/"
    },
    "id": "bA4iWIKh8maU",
    "executionInfo": {
     "status": "ok",
     "timestamp": 1640910553226,
     "user_tz": -540,
     "elapsed": 17,
     "user": {
      "displayName": "권오성",
      "photoUrl": "https://lh3.googleusercontent.com/a/default-user=s64",
      "userId": "06266214997163650151"
     }
    },
    "outputId": "a271bde2-2eab-4a02-8f6a-d96f1c336ec9"
   },
   "execution_count": 83,
   "outputs": [
    {
     "data": {
      "text/plain": "array([151.,  75., 141., 206., 135.,  97., 138.,  63., 110., 310., 101.,\n        69., 179., 185., 118., 171., 166., 144.,  97., 168.,  68.,  49.,\n        68., 245., 184., 202., 137.,  85., 131., 283., 129.,  59., 341.,\n        87.,  65., 102., 265., 276., 252.,  90., 100.,  55.,  61.,  92.,\n       259.,  53., 190., 142.,  75., 142., 155., 225.,  59., 104., 182.,\n       128.,  52.,  37., 170., 170.,  61., 144.,  52., 128.,  71., 163.,\n       150.,  97., 160., 178.,  48., 270., 202., 111.,  85.,  42., 170.,\n       200., 252., 113., 143.,  51.,  52., 210.,  65., 141.,  55., 134.,\n        42., 111.,  98., 164.,  48.,  96.,  90., 162., 150., 279.,  92.,\n        83., 128., 102., 302., 198.,  95.,  53., 134., 144., 232.,  81.,\n       104.,  59., 246., 297., 258., 229., 275., 281., 179., 200., 200.,\n       173., 180.,  84., 121., 161.,  99., 109., 115., 268., 274., 158.,\n       107.,  83., 103., 272.,  85., 280., 336., 281., 118., 317., 235.,\n        60., 174., 259., 178., 128.,  96., 126., 288.,  88., 292.,  71.,\n       197., 186.,  25.,  84.,  96., 195.,  53., 217., 172., 131., 214.,\n        59.,  70., 220., 268., 152.,  47.,  74., 295., 101., 151., 127.,\n       237., 225.,  81., 151., 107.,  64., 138., 185., 265., 101., 137.,\n       143., 141.,  79., 292., 178.,  91., 116.,  86., 122.,  72., 129.,\n       142.,  90., 158.,  39., 196., 222., 277.,  99., 196., 202., 155.,\n        77., 191.,  70.,  73.,  49.,  65., 263., 248., 296., 214., 185.,\n        78.,  93., 252., 150.,  77., 208.,  77., 108., 160.,  53., 220.,\n       154., 259.,  90., 246., 124.,  67.,  72., 257., 262., 275., 177.,\n        71.,  47., 187., 125.,  78.,  51., 258., 215., 303., 243.,  91.,\n       150., 310., 153., 346.,  63.,  89.,  50.,  39., 103., 308., 116.,\n       145.,  74.,  45., 115., 264.,  87., 202., 127., 182., 241.,  66.,\n        94., 283.,  64., 102., 200., 265.,  94., 230., 181., 156., 233.,\n        60., 219.,  80.,  68., 332., 248.,  84., 200.,  55.,  85.,  89.,\n        31., 129.,  83., 275.,  65., 198., 236., 253., 124.,  44., 172.,\n       114., 142., 109., 180., 144., 163., 147.,  97., 220., 190., 109.,\n       191., 122., 230., 242., 248., 249., 192., 131., 237.,  78., 135.,\n       244., 199., 270., 164.,  72.,  96., 306.,  91., 214.,  95., 216.,\n       263., 178., 113., 200., 139., 139.,  88., 148.,  88., 243.,  71.,\n        77., 109., 272.,  60.,  54., 221.,  90., 311., 281., 182., 321.,\n        58., 262., 206., 233., 242., 123., 167.,  63., 197.,  71., 168.,\n       140., 217., 121., 235., 245.,  40.,  52., 104., 132.,  88.,  69.,\n       219.,  72., 201., 110.,  51., 277.,  63., 118.,  69., 273., 258.,\n        43., 198., 242., 232., 175.,  93., 168., 275., 293., 281.,  72.,\n       140., 189., 181., 209., 136., 261., 113., 131., 174., 257.,  55.,\n        84.,  42., 146., 212., 233.,  91., 111., 152., 120.,  67., 310.,\n        94., 183.,  66., 173.,  72.,  49.,  64.,  48., 178., 104., 132.,\n       220.,  57.])"
     },
     "execution_count": 83,
     "metadata": {},
     "output_type": "execute_result"
    }
   ]
  },
  {
   "cell_type": "code",
   "metadata": {
    "colab": {
     "base_uri": "https://localhost:8080/"
    },
    "id": "EUOGb3qJrcC-",
    "executionInfo": {
     "status": "ok",
     "timestamp": 1640910553227,
     "user_tz": -540,
     "elapsed": 16,
     "user": {
      "displayName": "권오성",
      "photoUrl": "https://lh3.googleusercontent.com/a/default-user=s64",
      "userId": "06266214997163650151"
     }
    },
    "outputId": "dfb31400-f852-4d14-f44c-a15e6b5c7019"
   },
   "source": [
    "from sklearn.linear_model import Ridge, Lasso, ElasticNet\n",
    "\n",
    "ridge = Ridge(alpha=1.0)\n",
    "ridge.fit(X_train, y_train)\n",
    "ridge.score(X_test, y_test)"
   ],
   "execution_count": 84,
   "outputs": [
    {
     "data": {
      "text/plain": "0.4384009113704955"
     },
     "execution_count": 84,
     "metadata": {},
     "output_type": "execute_result"
    }
   ]
  },
  {
   "cell_type": "code",
   "metadata": {
    "colab": {
     "base_uri": "https://localhost:8080/"
    },
    "id": "4XBD9pxKrcC-",
    "executionInfo": {
     "status": "ok",
     "timestamp": 1640910553227,
     "user_tz": -540,
     "elapsed": 14,
     "user": {
      "displayName": "권오성",
      "photoUrl": "https://lh3.googleusercontent.com/a/default-user=s64",
      "userId": "06266214997163650151"
     }
    },
    "outputId": "6641df58-f2f9-4147-b3c1-37b5dab27e1e"
   },
   "source": [
    "lasso = Lasso(alpha=1.0)\n",
    "lasso.fit(X_train, y_train)\n",
    "lasso.score(X_test, y_test)"
   ],
   "execution_count": 85,
   "outputs": [
    {
     "data": {
      "text/plain": "0.37914194389255096"
     },
     "execution_count": 85,
     "metadata": {},
     "output_type": "execute_result"
    }
   ]
  },
  {
   "cell_type": "code",
   "metadata": {
    "colab": {
     "base_uri": "https://localhost:8080/"
    },
    "id": "egTtpuplrcC-",
    "executionInfo": {
     "status": "ok",
     "timestamp": 1640910553227,
     "user_tz": -540,
     "elapsed": 12,
     "user": {
      "displayName": "권오성",
      "photoUrl": "https://lh3.googleusercontent.com/a/default-user=s64",
      "userId": "06266214997163650151"
     }
    },
    "outputId": "2b8bed7c-8bd7-4711-bfb3-d425921750ea"
   },
   "source": [
    "elastic = ElasticNet(alpha=1.0, l1_ratio=.5)\n",
    "elastic.fit(X_train, y_train)\n",
    "elastic.score(X_test, y_test)"
   ],
   "execution_count": 86,
   "outputs": [
    {
     "data": {
      "text/plain": "-0.0044383730131891674"
     },
     "execution_count": 86,
     "metadata": {},
     "output_type": "execute_result"
    }
   ]
  },
  {
   "cell_type": "markdown",
   "metadata": {
    "id": "ljdDcCsUrcC_"
   },
   "source": [
    "- $R^2 = 1 - \\cfrac {SSE}{SST}< 0$ : SSE가 SST보다 크다는 것을 의미\n",
    "- y의 값을 y의 평균값으로 예측하는 dummy 모델보다 않좋다는 것을 말한다."
   ]
  },
  {
   "cell_type": "code",
   "metadata": {
    "colab": {
     "base_uri": "https://localhost:8080/",
     "height": 283
    },
    "id": "g1CnyKRMrcC_",
    "executionInfo": {
     "status": "ok",
     "timestamp": 1640910553599,
     "user_tz": -540,
     "elapsed": 380,
     "user": {
      "displayName": "권오성",
      "photoUrl": "https://lh3.googleusercontent.com/a/default-user=s64",
      "userId": "06266214997163650151"
     }
    },
    "outputId": "f008c4ef-da84-4ac3-b60b-ed1612dd6219"
   },
   "source": [
    "preds = elastic.predict(X_test)\n",
    "\n",
    "import matplotlib.pyplot as plt\n",
    "%matplotlib inline\n",
    "\n",
    "plt.scatter(y_test, preds)"
   ],
   "execution_count": 87,
   "outputs": [
    {
     "data": {
      "text/plain": "<matplotlib.collections.PathCollection at 0x23dd8c23eb0>"
     },
     "execution_count": 87,
     "metadata": {},
     "output_type": "execute_result"
    },
    {
     "data": {
      "text/plain": "<Figure size 432x288 with 1 Axes>",
      "image/png": "[encoded data removed]"
     },
     "metadata": {
      "needs_background": "light"
     },
     "output_type": "display_data"
    }
   ]
  },
  {
   "cell_type": "markdown",
   "metadata": {
    "id": "ThO5fYs8rcC_"
   },
   "source": [
    "정규화 선형회귀 모델별 가중치(계수) 비교"
   ]
  },
  {
   "cell_type": "code",
   "metadata": {
    "colab": {
     "base_uri": "https://localhost:8080/",
     "height": 239
    },
    "id": "D2fpiiZ5rcC_",
    "executionInfo": {
     "status": "ok",
     "timestamp": 1640910553599,
     "user_tz": -540,
     "elapsed": 9,
     "user": {
      "displayName": "권오성",
      "photoUrl": "https://lh3.googleusercontent.com/a/default-user=s64",
      "userId": "06266214997163650151"
     }
    },
    "outputId": "372037e9-8631-4569-ef50-319858a85136"
   },
   "source": [
    "import pandas as pd\n",
    "linear = LinearRegression().fit(X_train, y_train)\n",
    "\n",
    "coefs = np.vstack((linear.coef_, ridge.coef_, lasso.coef_, elastic.coef_))\n",
    "\n",
    "coefs_df = pd.DataFrame(coefs, columns=data.feature_names,\n",
    "                       index = ['linear', 'ridge', 'lasso', 'elastic'])\n",
    "coefs_df"
   ],
   "execution_count": 88,
   "outputs": [
    {
     "data": {
      "text/plain": "               age         sex         bmi          bp          s1  \\\nlinear   47.746571 -241.991804  531.968569  381.565299 -918.490206   \nridge    50.551555  -67.722365  278.300728  197.624014   -6.245973   \nlasso     0.000000   -0.000000  398.384368   46.178843    0.000000   \nelastic   0.413088    0.000000    3.298991    2.256939    0.339380   \n\n                 s2          s3          s4          s5          s6  \nlinear   508.251474  116.940405  269.485086  695.806221   26.323431  \nridge    -26.226985 -151.394518  120.323196  215.854694  101.755543  \nlasso      0.000000   -0.000000    0.000000  238.187402    0.000000  \nelastic    0.080784   -1.874661    2.143869    2.947964    1.701981  ",
      "text/html": "<div>\n<style scoped>\n    .dataframe tbody tr th:only-of-type {\n        vertical-align: middle;\n    }\n\n    .dataframe tbody tr th {\n        vertical-align: top;\n    }\n\n    .dataframe thead th {\n        text-align: right;\n    }\n</style>\n<table border=\"1\" class=\"dataframe\">\n  <thead>\n    <tr style=\"text-align: right;\">\n      <th></th>\n      <th>age</th>\n      <th>sex</th>\n      <th>bmi</th>\n      <th>bp</th>\n      <th>s1</th>\n      <th>s2</th>\n      <th>s3</th>\n      <th>s4</th>\n      <th>s5</th>\n      <th>s6</th>\n    </tr>\n  </thead>\n  <tbody>\n    <tr>\n      <th>linear</th>\n      <td>47.746571</td>\n      <td>-241.991804</td>\n      <td>531.968569</td>\n      <td>381.565299</td>\n      <td>-918.490206</td>\n      <td>508.251474</td>\n      <td>116.940405</td>\n      <td>269.485086</td>\n      <td>695.806221</td>\n      <td>26.323431</td>\n    </tr>\n    <tr>\n      <th>ridge</th>\n      <td>50.551555</td>\n      <td>-67.722365</td>\n      <td>278.300728</td>\n      <td>197.624014</td>\n      <td>-6.245973</td>\n      <td>-26.226985</td>\n      <td>-151.394518</td>\n      <td>120.323196</td>\n      <td>215.854694</td>\n      <td>101.755543</td>\n    </tr>\n    <tr>\n      <th>lasso</th>\n      <td>0.000000</td>\n      <td>-0.000000</td>\n      <td>398.384368</td>\n      <td>46.178843</td>\n      <td>0.000000</td>\n      <td>0.000000</td>\n      <td>-0.000000</td>\n      <td>0.000000</td>\n      <td>238.187402</td>\n      <td>0.000000</td>\n    </tr>\n    <tr>\n      <th>elastic</th>\n      <td>0.413088</td>\n      <td>0.000000</td>\n      <td>3.298991</td>\n      <td>2.256939</td>\n      <td>0.339380</td>\n      <td>0.080784</td>\n      <td>-1.874661</td>\n      <td>2.143869</td>\n      <td>2.947964</td>\n      <td>1.701981</td>\n    </tr>\n  </tbody>\n</table>\n</div>"
     },
     "execution_count": 88,
     "metadata": {},
     "output_type": "execute_result"
    }
   ]
  },
  {
   "cell_type": "markdown",
   "metadata": {
    "id": "nqxfza1jrcC_"
   },
   "source": [
    "규제계수 $\\alpha$를 튜닝하지 않으면, 아래와 같이 일반 선형회귀보다 규제화된 선형회귀가 더 성능이 않좋다."
   ]
  },
  {
   "cell_type": "code",
   "metadata": {
    "colab": {
     "base_uri": "https://localhost:8080/"
    },
    "id": "dld9SNN-rcC_",
    "executionInfo": {
     "status": "ok",
     "timestamp": 1640910553600,
     "user_tz": -540,
     "elapsed": 9,
     "user": {
      "displayName": "권오성",
      "photoUrl": "https://lh3.googleusercontent.com/a/default-user=s64",
      "userId": "06266214997163650151"
     }
    },
    "outputId": "fd515923-e949-41a5-addb-bf1530aaaab1"
   },
   "source": [
    "linear.score(X_test, y_test)"
   ],
   "execution_count": 89,
   "outputs": [
    {
     "data": {
      "text/plain": "0.48490866359058016"
     },
     "execution_count": 89,
     "metadata": {},
     "output_type": "execute_result"
    }
   ]
  },
  {
   "cell_type": "markdown",
   "metadata": {
    "id": "rBuAjLONrcC_"
   },
   "source": [
    "[Quiz] 당뇨 데이터에 대한 Ridge 모델에 대해 규제계수 $\\alpha$를 튜닝해서, Linear Regressor 보다 테스트 데이터에 대해 더 좋은 $R^2$을 갖는 모델을 생성해보자."
   ]
  },
  {
   "cell_type": "code",
   "metadata": {
    "colab": {
     "base_uri": "https://localhost:8080/"
    },
    "id": "9W7Na8tDrcC_",
    "executionInfo": {
     "status": "ok",
     "timestamp": 1640910553600,
     "user_tz": -540,
     "elapsed": 7,
     "user": {
      "displayName": "권오성",
      "photoUrl": "https://lh3.googleusercontent.com/a/default-user=s64",
      "userId": "06266214997163650151"
     }
    },
    "outputId": "adf0be97-1c1c-4682-fbd7-833c01446009"
   },
   "source": [
    "alls = {}\n",
    "alls['a'], alls['R2tr'], alls['R2te'] = [], [], []\n",
    "best = {}\n",
    "s = 0\n",
    "for i in range(-4, 2):\n",
    "    a = 10**i\n",
    "    m = Ridge(alpha=a)\n",
    "    m.fit(X_train, y_train)\n",
    "    R2tr = m.score(X_test, y_test)\n",
    "    R2te = m.score(X_test, y_test)\n",
    "    alls['a'].append(a)\n",
    "    alls['R2tr'].append(R2tr)\n",
    "    alls['R2te'].append(R2te)\n",
    "    if R2te > s:\n",
    "        s = R2te\n",
    "        best['a'] = a\n",
    "        best['R2tr'] = R2tr\n",
    "        best['R2te'] = R2te\n",
    "        best['model'] = m\n",
    "        \n",
    "best"
   ],
   "execution_count": 90,
   "outputs": [
    {
     "data": {
      "text/plain": "{'a': 0.1,\n 'R2tr': 0.4918283729062707,\n 'R2te': 0.4918283729062707,\n 'model': Ridge(alpha=0.1)}"
     },
     "execution_count": 90,
     "metadata": {},
     "output_type": "execute_result"
    }
   ]
  },
  {
   "cell_type": "code",
   "metadata": {
    "colab": {
     "base_uri": "https://localhost:8080/",
     "height": 238
    },
    "id": "-Q2BUzMfrcDA",
    "executionInfo": {
     "status": "ok",
     "timestamp": 1640910553600,
     "user_tz": -540,
     "elapsed": 6,
     "user": {
      "displayName": "권오성",
      "photoUrl": "https://lh3.googleusercontent.com/a/default-user=s64",
      "userId": "06266214997163650151"
     }
    },
    "outputId": "9536d5ec-a502-41df-c004-7d8b2bad9c68"
   },
   "source": [
    "import pandas as pd\n",
    "alldf = pd.DataFrame(alls)\n",
    "alldf"
   ],
   "execution_count": 91,
   "outputs": [
    {
     "data": {
      "text/plain": "         a      R2tr      R2te\n0   0.0001  0.484972  0.484972\n1   0.0010  0.485442  0.485442\n2   0.0100  0.487060  0.487060\n3   0.1000  0.491828  0.491828\n4   1.0000  0.438401  0.438401\n5  10.0000  0.156424  0.156424",
      "text/html": "<div>\n<style scoped>\n    .dataframe tbody tr th:only-of-type {\n        vertical-align: middle;\n    }\n\n    .dataframe tbody tr th {\n        vertical-align: top;\n    }\n\n    .dataframe thead th {\n        text-align: right;\n    }\n</style>\n<table border=\"1\" class=\"dataframe\">\n  <thead>\n    <tr style=\"text-align: right;\">\n      <th></th>\n      <th>a</th>\n      <th>R2tr</th>\n      <th>R2te</th>\n    </tr>\n  </thead>\n  <tbody>\n    <tr>\n      <th>0</th>\n      <td>0.0001</td>\n      <td>0.484972</td>\n      <td>0.484972</td>\n    </tr>\n    <tr>\n      <th>1</th>\n      <td>0.0010</td>\n      <td>0.485442</td>\n      <td>0.485442</td>\n    </tr>\n    <tr>\n      <th>2</th>\n      <td>0.0100</td>\n      <td>0.487060</td>\n      <td>0.487060</td>\n    </tr>\n    <tr>\n      <th>3</th>\n      <td>0.1000</td>\n      <td>0.491828</td>\n      <td>0.491828</td>\n    </tr>\n    <tr>\n      <th>4</th>\n      <td>1.0000</td>\n      <td>0.438401</td>\n      <td>0.438401</td>\n    </tr>\n    <tr>\n      <th>5</th>\n      <td>10.0000</td>\n      <td>0.156424</td>\n      <td>0.156424</td>\n    </tr>\n  </tbody>\n</table>\n</div>"
     },
     "execution_count": 91,
     "metadata": {},
     "output_type": "execute_result"
    }
   ]
  },
  {
   "cell_type": "code",
   "metadata": {
    "colab": {
     "base_uri": "https://localhost:8080/"
    },
    "id": "S8PLvB8MrcDA",
    "executionInfo": {
     "status": "ok",
     "timestamp": 1640910553943,
     "user_tz": -540,
     "elapsed": 348,
     "user": {
      "displayName": "권오성",
      "photoUrl": "https://lh3.googleusercontent.com/a/default-user=s64",
      "userId": "06266214997163650151"
     }
    },
    "outputId": "2333c5c2-f954-4a05-c8fd-35a88388e6e9"
   },
   "source": [
    "alls = {}\n",
    "alls['a'], alls['R2tr'], alls['R2te'] = [], [], []\n",
    "best = {}\n",
    "s = 0\n",
    "for a in [.3, .2, .1, .08, .06]:\n",
    "    m = Ridge(alpha=a)\n",
    "    m.fit(X_train, y_train)\n",
    "    R2tr = m.score(X_test, y_test)\n",
    "    R2te = m.score(X_test, y_test)\n",
    "    alls['a'].append(a)\n",
    "    alls['R2tr'].append(R2tr)\n",
    "    alls['R2te'].append(R2te)\n",
    "    if R2te > s:\n",
    "        s = R2te\n",
    "        best['a'] = a\n",
    "        best['R2tr'] = R2tr\n",
    "        best['R2te'] = R2te\n",
    "        best['model'] = m\n",
    "        \n",
    "best"
   ],
   "execution_count": 92,
   "outputs": [
    {
     "data": {
      "text/plain": "{'a': 0.1,\n 'R2tr': 0.4918283729062707,\n 'R2te': 0.4918283729062707,\n 'model': Ridge(alpha=0.1)}"
     },
     "execution_count": 92,
     "metadata": {},
     "output_type": "execute_result"
    }
   ]
  },
  {
   "cell_type": "markdown",
   "metadata": {
    "id": "OXwc8WjRrcDA"
   },
   "source": [
    "[Quiz] Lasso를 튜닝하여 LinearRegressor보다 더 좋은 성능을 갖도록 하자."
   ]
  },
  {
   "cell_type": "code",
   "metadata": {
    "colab": {
     "base_uri": "https://localhost:8080/"
    },
    "id": "pXGf6n63rcDA",
    "executionInfo": {
     "status": "ok",
     "timestamp": 1640910553943,
     "user_tz": -540,
     "elapsed": 13,
     "user": {
      "displayName": "권오성",
      "photoUrl": "https://lh3.googleusercontent.com/a/default-user=s64",
      "userId": "06266214997163650151"
     }
    },
    "outputId": "eabd5999-3d28-4450-edb1-efbe741ffb3a"
   },
   "source": [
    "alls = {}\n",
    "alls['a'], alls['R2tr'], alls['R2te'] = [], [], []\n",
    "best = {}\n",
    "s = 0\n",
    "for i in range(-4, 2):\n",
    "    a = 10**i\n",
    "    m = Lasso(alpha=a)\n",
    "    m.fit(X_train, y_train)\n",
    "    R2tr = m.score(X_test, y_test)\n",
    "    R2te = m.score(X_test, y_test)\n",
    "    alls['a'].append(a)\n",
    "    alls['R2tr'].append(R2tr)\n",
    "    alls['R2te'].append(R2te)\n",
    "    if R2te > s:\n",
    "        s = R2te\n",
    "        best['a'] = a\n",
    "        best['R2tr'] = R2tr\n",
    "        best['R2te'] = R2te\n",
    "        best['model'] = m\n",
    "        \n",
    "best"
   ],
   "execution_count": 93,
   "outputs": [
    {
     "data": {
      "text/plain": "{'a': 0.1,\n 'R2tr': 0.501975882135411,\n 'R2te': 0.501975882135411,\n 'model': Lasso(alpha=0.1)}"
     },
     "execution_count": 93,
     "metadata": {},
     "output_type": "execute_result"
    }
   ]
  },
  {
   "cell_type": "code",
   "metadata": {
    "colab": {
     "base_uri": "https://localhost:8080/"
    },
    "id": "Uj-JQQOsrcDA",
    "executionInfo": {
     "status": "ok",
     "timestamp": 1640910553943,
     "user_tz": -540,
     "elapsed": 11,
     "user": {
      "displayName": "권오성",
      "photoUrl": "https://lh3.googleusercontent.com/a/default-user=s64",
      "userId": "06266214997163650151"
     }
    },
    "outputId": "fc793fd0-8b87-465e-849c-d0b98edc0418"
   },
   "source": [
    "alls = {}\n",
    "alls['a'], alls['R2tr'], alls['R2te'] = [], [], []\n",
    "best = {}\n",
    "s = 0\n",
    "for a in [.3, .2, .1, .08, .06]:\n",
    "    m = Lasso(alpha=a)\n",
    "    m.fit(X_train, y_train)\n",
    "    R2tr = m.score(X_test, y_test)\n",
    "    R2te = m.score(X_test, y_test)\n",
    "    alls['a'].append(a)\n",
    "    alls['R2tr'].append(R2tr)\n",
    "    alls['R2te'].append(R2te)\n",
    "    if R2te > s:\n",
    "        s = R2te\n",
    "        best['a'] = a\n",
    "        best['R2tr'] = R2tr\n",
    "        best['R2te'] = R2te\n",
    "        best['model'] = m\n",
    "        \n",
    "best"
   ],
   "execution_count": 94,
   "outputs": [
    {
     "data": {
      "text/plain": "{'a': 0.1,\n 'R2tr': 0.501975882135411,\n 'R2te': 0.501975882135411,\n 'model': Lasso(alpha=0.1)}"
     },
     "execution_count": 94,
     "metadata": {},
     "output_type": "execute_result"
    }
   ]
  },
  {
   "cell_type": "code",
   "metadata": {
    "colab": {
     "base_uri": "https://localhost:8080/"
    },
    "id": "GJgeCGTCrcDA",
    "executionInfo": {
     "status": "ok",
     "timestamp": 1640910553944,
     "user_tz": -540,
     "elapsed": 10,
     "user": {
      "displayName": "권오성",
      "photoUrl": "https://lh3.googleusercontent.com/a/default-user=s64",
      "userId": "06266214997163650151"
     }
    },
    "outputId": "0799f644-3024-4e73-c019-d6d4f07ae277"
   },
   "source": [
    "best['model'].coef_"
   ],
   "execution_count": 95,
   "outputs": [
    {
     "data": {
      "text/plain": "array([   0.      , -151.415504,  540.859338,  337.224729,  -85.190306,\n         -0.      , -262.90345 ,    0.      ,  418.248224,    9.924307])"
     },
     "execution_count": 95,
     "metadata": {},
     "output_type": "execute_result"
    }
   ]
  },
  {
   "cell_type": "markdown",
   "metadata": {
    "id": "-msnenZgrcDA"
   },
   "source": [
    "[Quiz] 정규화되지 않은 보스턴집값 데이터에서 정규화를 수행한 후, Ridge 회귀를 적용하자.\n",
    "\n",
    "sklearn에서 제공하는 Scaler는 3가지가 있다:\n",
    "1. MinMaxScaler: $X' = \\cfrac {X - X.min()}{X.max() - X.min()}$\n",
    "2. StandardScaler: $X' = \\cfrac {X - X.mean()}{X.std()}$\n",
    "3. RobustScaler: $X' = \\cfrac {X - X.median()}{X.IQR()}$"
   ]
  },
  {
   "cell_type": "code",
   "metadata": {
    "id": "2c2ictiUrcDB",
    "executionInfo": {
     "status": "ok",
     "timestamp": 1640910553944,
     "user_tz": -540,
     "elapsed": 8,
     "user": {
      "displayName": "권오성",
      "photoUrl": "https://lh3.googleusercontent.com/a/default-user=s64",
      "userId": "06266214997163650151"
     }
    },
    "colab": {
     "base_uri": "https://localhost:8080/"
    },
    "outputId": "fce760fd-da13-4079-9a03-04897a63d9fa"
   },
   "source": [
    "from sklearn.preprocessing import RobustScaler\n",
    "\n",
    "data = load_boston()\n",
    "X_train, X_test, y_train, y_test = train_test_split(data.data, data.target, random_state=42)\n",
    "\n",
    "scaler = RobustScaler()\n",
    "scaledXtr = scaler.fit_transform(X_train)\n",
    "scaledXte = scaler.transform(X_test)"
   ],
   "execution_count": 96,
   "outputs": []
  },
  {
   "cell_type": "code",
   "metadata": {
    "colab": {
     "base_uri": "https://localhost:8080/"
    },
    "id": "WedOd7BqrcDB",
    "executionInfo": {
     "status": "ok",
     "timestamp": 1640910553944,
     "user_tz": -540,
     "elapsed": 6,
     "user": {
      "displayName": "권오성",
      "photoUrl": "https://lh3.googleusercontent.com/a/default-user=s64",
      "userId": "06266214997163650151"
     }
    },
    "outputId": "02c519f7-d1ef-412a-b34b-f2db37fd8af0"
   },
   "source": [
    "alls = {}\n",
    "alls['a'], alls['R2tr'], alls['R2te'] = [], [], []\n",
    "best = {}\n",
    "s = 0\n",
    "for i in range(-4, 2):\n",
    "    a = 10**i\n",
    "    m = Ridge(alpha=a)\n",
    "    m.fit(scaledXtr, y_train)\n",
    "    R2tr = m.score(scaledXtr, y_train)\n",
    "    R2te = m.score(scaledXte, y_test)\n",
    "    alls['a'].append(a)\n",
    "    alls['R2tr'].append(R2tr)\n",
    "    alls['R2te'].append(R2te)\n",
    "    if R2te > s:\n",
    "        s = R2te\n",
    "        best['a'] = a\n",
    "        best['R2tr'] = R2tr\n",
    "        best['R2te'] = R2te\n",
    "        best['model'] = m\n",
    "        \n",
    "best"
   ],
   "execution_count": 97,
   "outputs": [
    {
     "data": {
      "text/plain": "{'a': 0.0001,\n 'R2tr': 0.7480872598608889,\n 'R2te': 0.6844265404363803,\n 'model': Ridge(alpha=0.0001)}"
     },
     "execution_count": 97,
     "metadata": {},
     "output_type": "execute_result"
    }
   ]
  },
  {
   "cell_type": "code",
   "metadata": {
    "id": "l7WJLQskrcDB",
    "colab": {
     "base_uri": "https://localhost:8080/",
     "height": 238
    },
    "executionInfo": {
     "status": "ok",
     "timestamp": 1640910553945,
     "user_tz": -540,
     "elapsed": 5,
     "user": {
      "displayName": "권오성",
      "photoUrl": "https://lh3.googleusercontent.com/a/default-user=s64",
      "userId": "06266214997163650151"
     }
    },
    "outputId": "679c9d2f-4639-4bb7-d6de-71a846ced33b"
   },
   "source": [
    "pd.DataFrame(alls)"
   ],
   "execution_count": 98,
   "outputs": [
    {
     "data": {
      "text/plain": "         a      R2tr      R2te\n0   0.0001  0.748087  0.684427\n1   0.0010  0.748087  0.684425\n2   0.0100  0.748087  0.684408\n3   0.1000  0.748086  0.684239\n4   1.0000  0.747969  0.682614\n5  10.0000  0.743846  0.670918",
      "text/html": "<div>\n<style scoped>\n    .dataframe tbody tr th:only-of-type {\n        vertical-align: middle;\n    }\n\n    .dataframe tbody tr th {\n        vertical-align: top;\n    }\n\n    .dataframe thead th {\n        text-align: right;\n    }\n</style>\n<table border=\"1\" class=\"dataframe\">\n  <thead>\n    <tr style=\"text-align: right;\">\n      <th></th>\n      <th>a</th>\n      <th>R2tr</th>\n      <th>R2te</th>\n    </tr>\n  </thead>\n  <tbody>\n    <tr>\n      <th>0</th>\n      <td>0.0001</td>\n      <td>0.748087</td>\n      <td>0.684427</td>\n    </tr>\n    <tr>\n      <th>1</th>\n      <td>0.0010</td>\n      <td>0.748087</td>\n      <td>0.684425</td>\n    </tr>\n    <tr>\n      <th>2</th>\n      <td>0.0100</td>\n      <td>0.748087</td>\n      <td>0.684408</td>\n    </tr>\n    <tr>\n      <th>3</th>\n      <td>0.1000</td>\n      <td>0.748086</td>\n      <td>0.684239</td>\n    </tr>\n    <tr>\n      <th>4</th>\n      <td>1.0000</td>\n      <td>0.747969</td>\n      <td>0.682614</td>\n    </tr>\n    <tr>\n      <th>5</th>\n      <td>10.0000</td>\n      <td>0.743846</td>\n      <td>0.670918</td>\n    </tr>\n  </tbody>\n</table>\n</div>"
     },
     "execution_count": 98,
     "metadata": {},
     "output_type": "execute_result"
    }
   ]
  },
  {
   "cell_type": "markdown",
   "metadata": {
    "id": "G0tfAsQ7rcDB"
   },
   "source": [
    "[Quiz] Lasso 모델에 대해 위와 같이 a를 튜닝하여 best model을 찾아보자."
   ]
  },
  {
   "cell_type": "code",
   "metadata": {
    "colab": {
     "base_uri": "https://localhost:8080/"
    },
    "id": "Dd7HzytDrcDB",
    "executionInfo": {
     "status": "ok",
     "timestamp": 1640910554311,
     "user_tz": -540,
     "elapsed": 371,
     "user": {
      "displayName": "권오성",
      "photoUrl": "https://lh3.googleusercontent.com/a/default-user=s64",
      "userId": "06266214997163650151"
     }
    },
    "outputId": "8cdb702d-b0d8-4fb3-881d-85c82a2fad18"
   },
   "source": [
    "alls = {}\n",
    "alls['a'], alls['R2tr'], alls['R2te'] = [], [], []\n",
    "best = {}\n",
    "s = 0\n",
    "for i in range(-6, 2):\n",
    "    a = 10**i\n",
    "    m = Lasso(alpha=a)\n",
    "    m.fit(scaledXtr, y_train)\n",
    "    R2tr = m.score(scaledXtr, y_train)\n",
    "    R2te = m.score(scaledXte, y_test)\n",
    "    alls['a'].append(a)\n",
    "    alls['R2tr'].append(R2tr)\n",
    "    alls['R2te'].append(R2te)\n",
    "    if R2te > s:\n",
    "        s = R2te\n",
    "        best['a'] = a\n",
    "        best['R2tr'] = R2tr\n",
    "        best['R2te'] = R2te\n",
    "        best['model'] = m\n",
    "        \n",
    "best"
   ],
   "execution_count": 99,
   "outputs": [
    {
     "data": {
      "text/plain": "{'a': 1e-06,\n 'R2tr': 0.7480872598600883,\n 'R2te': 0.684426607999653,\n 'model': Lasso(alpha=1e-06)}"
     },
     "execution_count": 99,
     "metadata": {},
     "output_type": "execute_result"
    }
   ]
  },
  {
   "cell_type": "code",
   "metadata": {
    "id": "gqeyHUCorcDC",
    "colab": {
     "base_uri": "https://localhost:8080/",
     "height": 300
    },
    "executionInfo": {
     "status": "ok",
     "timestamp": 1640910554312,
     "user_tz": -540,
     "elapsed": 15,
     "user": {
      "displayName": "권오성",
      "photoUrl": "https://lh3.googleusercontent.com/a/default-user=s64",
      "userId": "06266214997163650151"
     }
    },
    "outputId": "398e4878-c1f7-4362-dc5e-305954bac81f"
   },
   "source": [
    "pd.DataFrame(alls)"
   ],
   "execution_count": 100,
   "outputs": [
    {
     "data": {
      "text/plain": "           a      R2tr      R2te\n0   0.000001  0.748087  0.684427\n1   0.000010  0.748087  0.684426\n2   0.000100  0.748087  0.684415\n3   0.001000  0.748085  0.684305\n4   0.010000  0.747863  0.682931\n5   0.100000  0.737338  0.653581\n6   1.000000  0.665688  0.579762\n7  10.000000  0.047110  0.039901",
      "text/html": "<div>\n<style scoped>\n    .dataframe tbody tr th:only-of-type {\n        vertical-align: middle;\n    }\n\n    .dataframe tbody tr th {\n        vertical-align: top;\n    }\n\n    .dataframe thead th {\n        text-align: right;\n    }\n</style>\n<table border=\"1\" class=\"dataframe\">\n  <thead>\n    <tr style=\"text-align: right;\">\n      <th></th>\n      <th>a</th>\n      <th>R2tr</th>\n      <th>R2te</th>\n    </tr>\n  </thead>\n  <tbody>\n    <tr>\n      <th>0</th>\n      <td>0.000001</td>\n      <td>0.748087</td>\n      <td>0.684427</td>\n    </tr>\n    <tr>\n      <th>1</th>\n      <td>0.000010</td>\n      <td>0.748087</td>\n      <td>0.684426</td>\n    </tr>\n    <tr>\n      <th>2</th>\n      <td>0.000100</td>\n      <td>0.748087</td>\n      <td>0.684415</td>\n    </tr>\n    <tr>\n      <th>3</th>\n      <td>0.001000</td>\n      <td>0.748085</td>\n      <td>0.684305</td>\n    </tr>\n    <tr>\n      <th>4</th>\n      <td>0.010000</td>\n      <td>0.747863</td>\n      <td>0.682931</td>\n    </tr>\n    <tr>\n      <th>5</th>\n      <td>0.100000</td>\n      <td>0.737338</td>\n      <td>0.653581</td>\n    </tr>\n    <tr>\n      <th>6</th>\n      <td>1.000000</td>\n      <td>0.665688</td>\n      <td>0.579762</td>\n    </tr>\n    <tr>\n      <th>7</th>\n      <td>10.000000</td>\n      <td>0.047110</td>\n      <td>0.039901</td>\n    </tr>\n  </tbody>\n</table>\n</div>"
     },
     "execution_count": 100,
     "metadata": {},
     "output_type": "execute_result"
    }
   ]
  },
  {
   "cell_type": "code",
   "metadata": {
    "id": "nD_gSfQWrcDC",
    "colab": {
     "base_uri": "https://localhost:8080/"
    },
    "executionInfo": {
     "status": "ok",
     "timestamp": 1640910554312,
     "user_tz": -540,
     "elapsed": 14,
     "user": {
      "displayName": "권오성",
      "photoUrl": "https://lh3.googleusercontent.com/a/default-user=s64",
      "userId": "06266214997163650151"
     }
    },
    "outputId": "385b68ec-2a03-4d18-8786-2ac693251353"
   },
   "source": [
    "linearModel = LinearRegression()\n",
    "linearModel.fit(scaledXtr, y_train)\n",
    "R2tr = linearModel.score(scaledXtr, y_train)\n",
    "R2te = linearModel.score(scaledXte, y_test)\n",
    "R2tr, R2te"
   ],
   "execution_count": 114,
   "outputs": [
    {
     "data": {
      "text/plain": "(0.748087259862344, 0.6844267283527132)"
     },
     "execution_count": 114,
     "metadata": {},
     "output_type": "execute_result"
    }
   ]
  },
  {
   "cell_type": "markdown",
   "metadata": {
    "id": "OV4hiTy0rcDC"
   },
   "source": [
    "## 일반적인 regressor 사용방법\n",
    "SVR, DecisionTreeRegress, RandomForestRegressor, GradientBoostingRegressor ... 이런 모든 회귀용(target이 연속형) 모델의 일반적인 사용법은 이전에 배운 LinearRegressor, Ridge, Lasso 등과 동일하다.\n",
    "\n",
    "물론 모델의 알고리즘에 따라 설정해야 할 하이퍼파라미터가 달라지는 것은 예외로 한다.\n",
    "\n",
    "사용법:\n",
    "1. 모델 instance 생성: m = Ridge()\n",
    "2. 모델 학습: m.fit(X_train, y_train)\n",
    "3. 모델 평가: m.score(X_test, y_test)\n",
    "4. 모델 예측: m.predict(X_test)\n",
    "5. 회귀 계수: m.coef_"
   ]
  },
  {
   "cell_type": "code",
   "metadata": {
    "id": "Hm9Vyfe1rcDC",
    "colab": {
     "base_uri": "https://localhost:8080/"
    },
    "executionInfo": {
     "status": "ok",
     "timestamp": 1640910554312,
     "user_tz": -540,
     "elapsed": 12,
     "user": {
      "displayName": "권오성",
      "photoUrl": "https://lh3.googleusercontent.com/a/default-user=s64",
      "userId": "06266214997163650151"
     }
    },
    "outputId": "906eabc5-3c26-4f38-c3f4-2c6d2aca6d74"
   },
   "source": [
    "best['model']"
   ],
   "execution_count": 115,
   "outputs": [
    {
     "ename": "KeyError",
     "evalue": "'model'",
     "output_type": "error",
     "traceback": [
      "\u001B[1;31m---------------------------------------------------------------------------\u001B[0m",
      "\u001B[1;31mKeyError\u001B[0m                                  Traceback (most recent call last)",
      "\u001B[1;32m<ipython-input-115-0eb74d0500c0>\u001B[0m in \u001B[0;36m<module>\u001B[1;34m\u001B[0m\n\u001B[1;32m----> 1\u001B[1;33m \u001B[0mbest\u001B[0m\u001B[1;33m[\u001B[0m\u001B[1;34m'model'\u001B[0m\u001B[1;33m]\u001B[0m\u001B[1;33m\u001B[0m\u001B[1;33m\u001B[0m\u001B[0m\n\u001B[0m",
      "\u001B[1;31mKeyError\u001B[0m: 'model'"
     ]
    }
   ]
  },
  {
   "cell_type": "markdown",
   "metadata": {
    "id": "tZHKjlbDrcDC"
   },
   "source": [
    "[Quiz] 보스턴 집값 데이터에 대해:\n",
    "1. train / test를 나누고\n",
    "2. scaling 없이할 때, knn regressor를 이용하여 최상의 k, R2을 구하시오\n",
    "3. RobustScaler를 사용할 때, 2번과 같은 작업을 수행하고 결과를 비교하시오.\n",
    "\n",
    "회귀모델에 대한 평가지표:\n",
    "1. $R^2 = 1 - \\cfrac {SSE}{SST}$\n",
    "2. MSE: loss이자 평가지표\n",
    "3. $MAE = \\cfrac 1 n \\sum |y_i - \\hat y_i|$\n",
    "4. $RMSE = \\sqrt{MSE}$"
   ]
  },
  {
   "cell_type": "code",
   "metadata": {
    "id": "BUehZghFrcDC",
    "colab": {
     "base_uri": "https://localhost:8080/"
    },
    "executionInfo": {
     "status": "ok",
     "timestamp": 1640910554313,
     "user_tz": -540,
     "elapsed": 11,
     "user": {
      "displayName": "권오성",
      "photoUrl": "https://lh3.googleusercontent.com/a/default-user=s64",
      "userId": "06266214997163650151"
     }
    },
    "outputId": "3d8cf906-bfc7-47da-9f0b-ff23bfc8f87a"
   },
   "source": [
    "from sklearn.neighbors import KNeighborsRegressor\n",
    "from sklearn.preprocessing import RobustScaler\n",
    "from sklearn.datasets import load_boston\n",
    "from sklearn.model_selection import train_test_split\n",
    "\n",
    "data = load_boston()\n",
    "X_train, X_test, y_train, y_test = train_test_split(data.data, data.target, random_state=42)"
   ],
   "execution_count": 116,
   "outputs": []
  },
  {
   "cell_type": "code",
   "metadata": {
    "id": "Oe-CG49qrcDC",
    "colab": {
     "base_uri": "https://localhost:8080/",
     "height": 255
    },
    "executionInfo": {
     "status": "ok",
     "timestamp": 1640910922902,
     "user_tz": -540,
     "elapsed": 302,
     "user": {
      "displayName": "권오성",
      "photoUrl": "https://lh3.googleusercontent.com/a/default-user=s64",
      "userId": "06266214997163650151"
     }
    },
    "outputId": "09ea106a-7ee5-41e1-e59b-66f41827d412"
   },
   "source": [
    "ks = [1, 3, 5, 7, 9, 11]\n",
    "\n",
    "def kNNtuner(ks, xtr, ytr, xts, yts):\n",
    "    best = {}\n",
    "    scores = {}\n",
    "    scores['k'] = []\n",
    "    scores['R2'] = []\n",
    "    bs = 0\n",
    "    for k in ks:\n",
    "        m = KNeighborsRegressor(k).fit(xtr, ytr)\n",
    "        R2 = m.score(xts, yts)\n",
    "        scores['k'].append(k)\n",
    "        scores['R2'].append(R2)\n",
    "        if R2 > bs:\n",
    "            bs = R2\n",
    "            best['k'] = k\n",
    "            best['R2'] = R2\n",
    "            best['m'] = m\n",
    "    \n",
    "    import pandas as pd\n",
    "    scores = pd.DataFrame(scores)\n",
    "    \n",
    "    return best, scores\n",
    "\n",
    "best, scores = kNNtuner(ks, X_train, y_train, X_test, y_test)\n",
    "\n",
    "print(best)\n",
    "scores"
   ],
   "execution_count": 117,
   "outputs": [
    {
     "name": "stdout",
     "output_type": "stream",
     "text": [
      "{'k': 3, 'R2': 0.6946008632462907, 'm': KNeighborsRegressor(n_neighbors=3)}\n"
     ]
    },
    {
     "data": {
      "text/plain": "    k        R2\n0   1  0.481494\n1   3  0.694601\n2   5  0.639665\n3   7  0.570995\n4   9  0.514882\n5  11  0.514995",
      "text/html": "<div>\n<style scoped>\n    .dataframe tbody tr th:only-of-type {\n        vertical-align: middle;\n    }\n\n    .dataframe tbody tr th {\n        vertical-align: top;\n    }\n\n    .dataframe thead th {\n        text-align: right;\n    }\n</style>\n<table border=\"1\" class=\"dataframe\">\n  <thead>\n    <tr style=\"text-align: right;\">\n      <th></th>\n      <th>k</th>\n      <th>R2</th>\n    </tr>\n  </thead>\n  <tbody>\n    <tr>\n      <th>0</th>\n      <td>1</td>\n      <td>0.481494</td>\n    </tr>\n    <tr>\n      <th>1</th>\n      <td>3</td>\n      <td>0.694601</td>\n    </tr>\n    <tr>\n      <th>2</th>\n      <td>5</td>\n      <td>0.639665</td>\n    </tr>\n    <tr>\n      <th>3</th>\n      <td>7</td>\n      <td>0.570995</td>\n    </tr>\n    <tr>\n      <th>4</th>\n      <td>9</td>\n      <td>0.514882</td>\n    </tr>\n    <tr>\n      <th>5</th>\n      <td>11</td>\n      <td>0.514995</td>\n    </tr>\n  </tbody>\n</table>\n</div>"
     },
     "execution_count": 117,
     "metadata": {},
     "output_type": "execute_result"
    }
   ]
  },
  {
   "cell_type": "markdown",
   "metadata": {
    "id": "Cuw3u7qKxTGS"
   },
   "source": [
    "거리기반 모델은 반듯이 스케일링을 수행하여, 각 변수들이 동등한 기여도를 갖도록 해주어야 한다."
   ]
  },
  {
   "cell_type": "code",
   "metadata": {
    "id": "vfEXpXWfrcDD",
    "colab": {
     "base_uri": "https://localhost:8080/",
     "height": 255
    },
    "executionInfo": {
     "status": "ok",
     "timestamp": 1640910554313,
     "user_tz": -540,
     "elapsed": 7,
     "user": {
      "displayName": "권오성",
      "photoUrl": "https://lh3.googleusercontent.com/a/default-user=s64",
      "userId": "06266214997163650151"
     }
    },
    "outputId": "634505a4-be2f-484c-bf5b-21c414a03e4b"
   },
   "source": [
    "from sklearn.preprocessing import RobustScaler\n",
    "mns = RobustScaler().fit(X_train)\n",
    "X_train_scaled = mns.transform(X_train)\n",
    "X_test_scaled = mns.transform(X_test)\n",
    "\n",
    "best, scores = kNNtuner(ks, X_train_scaled, y_train, X_test_scaled, y_test)\n",
    "\n",
    "print(best)\n",
    "scores"
   ],
   "execution_count": 118,
   "outputs": [
    {
     "name": "stdout",
     "output_type": "stream",
     "text": [
      "{'k': 3, 'R2': 0.7293736562378218, 'm': KNeighborsRegressor(n_neighbors=3)}\n"
     ]
    },
    {
     "data": {
      "text/plain": "    k        R2\n0   1  0.445515\n1   3  0.729374\n2   5  0.722990\n3   7  0.702703\n4   9  0.684632\n5  11  0.707657",
      "text/html": "<div>\n<style scoped>\n    .dataframe tbody tr th:only-of-type {\n        vertical-align: middle;\n    }\n\n    .dataframe tbody tr th {\n        vertical-align: top;\n    }\n\n    .dataframe thead th {\n        text-align: right;\n    }\n</style>\n<table border=\"1\" class=\"dataframe\">\n  <thead>\n    <tr style=\"text-align: right;\">\n      <th></th>\n      <th>k</th>\n      <th>R2</th>\n    </tr>\n  </thead>\n  <tbody>\n    <tr>\n      <th>0</th>\n      <td>1</td>\n      <td>0.445515</td>\n    </tr>\n    <tr>\n      <th>1</th>\n      <td>3</td>\n      <td>0.729374</td>\n    </tr>\n    <tr>\n      <th>2</th>\n      <td>5</td>\n      <td>0.722990</td>\n    </tr>\n    <tr>\n      <th>3</th>\n      <td>7</td>\n      <td>0.702703</td>\n    </tr>\n    <tr>\n      <th>4</th>\n      <td>9</td>\n      <td>0.684632</td>\n    </tr>\n    <tr>\n      <th>5</th>\n      <td>11</td>\n      <td>0.707657</td>\n    </tr>\n  </tbody>\n</table>\n</div>"
     },
     "execution_count": 118,
     "metadata": {},
     "output_type": "execute_result"
    }
   ]
  },
  {
   "cell_type": "markdown",
   "metadata": {
    "id": "LE7yWDeD0eH9"
   },
   "source": [
    "[Quiz] weights를 distance로 변경할 때, k 값을 튜닝하여 테스트셋에서 가장 좋은 $R^2$을 구해보자."
   ]
  },
  {
   "cell_type": "code",
   "metadata": {
    "id": "Ds0RCm_m0d1Z",
    "executionInfo": {
     "status": "ok",
     "timestamp": 1640910935332,
     "user_tz": -540,
     "elapsed": 282,
     "user": {
      "displayName": "권오성",
      "photoUrl": "https://lh3.googleusercontent.com/a/default-user=s64",
      "userId": "06266214997163650151"
     }
    }
   },
   "source": [
    "def kNNtunerWithWeights(ks, xtr, ytr, xts, yts, w='uniform'):\n",
    "    best = {}\n",
    "    scores = {}\n",
    "    scores['k'] = []\n",
    "    scores['R2'] = []\n",
    "    bs = 0\n",
    "    for k in ks:\n",
    "        m = KNeighborsRegressor(k, weights=w).fit(xtr, ytr)\n",
    "        R2 = m.score(xts, yts)\n",
    "        scores['k'].append(k)\n",
    "        scores['R2'].append(R2)\n",
    "        if R2 > bs:\n",
    "            bs = R2\n",
    "            best['k'] = k\n",
    "            best['R2'] = R2\n",
    "            best['m'] = m\n",
    "    \n",
    "    import pandas as pd\n",
    "    scores = pd.DataFrame(scores)\n",
    "    \n",
    "    return best, scores"
   ],
   "execution_count": 119,
   "outputs": []
  },
  {
   "cell_type": "code",
   "metadata": {
    "id": "jH35l8dFrcDD",
    "colab": {
     "base_uri": "https://localhost:8080/",
     "height": 443
    },
    "executionInfo": {
     "status": "ok",
     "timestamp": 1640910937703,
     "user_tz": -540,
     "elapsed": 371,
     "user": {
      "displayName": "권오성",
      "photoUrl": "https://lh3.googleusercontent.com/a/default-user=s64",
      "userId": "06266214997163650151"
     }
    },
    "outputId": "cbb71ca1-6ec4-42fe-e888-9665faf27117"
   },
   "source": [
    "ks = range(3, 15)\n",
    "best, scores = kNNtunerWithWeights(ks, \n",
    "                                   X_train_scaled, y_train, \n",
    "                                   X_test_scaled, y_test, \n",
    "                                   'distance')\n",
    "\n",
    "print(best)\n",
    "scores"
   ],
   "execution_count": 120,
   "outputs": [
    {
     "name": "stdout",
     "output_type": "stream",
     "text": [
      "{'k': 5, 'R2': 0.7269507925086454, 'm': KNeighborsRegressor(weights='distance')}\n"
     ]
    },
    {
     "data": {
      "text/plain": "     k        R2\n0    3  0.722440\n1    4  0.722468\n2    5  0.726951\n3    6  0.720795\n4    7  0.714737\n5    8  0.702373\n6    9  0.702749\n7   10  0.722370\n8   11  0.722280\n9   12  0.719500\n10  13  0.709455\n11  14  0.703236",
      "text/html": "<div>\n<style scoped>\n    .dataframe tbody tr th:only-of-type {\n        vertical-align: middle;\n    }\n\n    .dataframe tbody tr th {\n        vertical-align: top;\n    }\n\n    .dataframe thead th {\n        text-align: right;\n    }\n</style>\n<table border=\"1\" class=\"dataframe\">\n  <thead>\n    <tr style=\"text-align: right;\">\n      <th></th>\n      <th>k</th>\n      <th>R2</th>\n    </tr>\n  </thead>\n  <tbody>\n    <tr>\n      <th>0</th>\n      <td>3</td>\n      <td>0.722440</td>\n    </tr>\n    <tr>\n      <th>1</th>\n      <td>4</td>\n      <td>0.722468</td>\n    </tr>\n    <tr>\n      <th>2</th>\n      <td>5</td>\n      <td>0.726951</td>\n    </tr>\n    <tr>\n      <th>3</th>\n      <td>6</td>\n      <td>0.720795</td>\n    </tr>\n    <tr>\n      <th>4</th>\n      <td>7</td>\n      <td>0.714737</td>\n    </tr>\n    <tr>\n      <th>5</th>\n      <td>8</td>\n      <td>0.702373</td>\n    </tr>\n    <tr>\n      <th>6</th>\n      <td>9</td>\n      <td>0.702749</td>\n    </tr>\n    <tr>\n      <th>7</th>\n      <td>10</td>\n      <td>0.722370</td>\n    </tr>\n    <tr>\n      <th>8</th>\n      <td>11</td>\n      <td>0.722280</td>\n    </tr>\n    <tr>\n      <th>9</th>\n      <td>12</td>\n      <td>0.719500</td>\n    </tr>\n    <tr>\n      <th>10</th>\n      <td>13</td>\n      <td>0.709455</td>\n    </tr>\n    <tr>\n      <th>11</th>\n      <td>14</td>\n      <td>0.703236</td>\n    </tr>\n  </tbody>\n</table>\n</div>"
     },
     "execution_count": 120,
     "metadata": {},
     "output_type": "execute_result"
    }
   ]
  },
  {
   "cell_type": "markdown",
   "source": [
    "### [Excercise] \n",
    "insurance 데이터를 이용하여 의료비(의료비 청구액)를 예측하는 모델을 작성해보자.\n",
    "\n",
    "#### 1. EDA"
   ],
   "metadata": {
    "id": "V7oYTkWOBcmV"
   }
  },
  {
   "cell_type": "code",
   "source": [
    "from google.colab import drive\n",
    "import os\n",
    "drive.mount('/content/drive/')\n",
    "os.chdir('/content/drive/My Drive/Colab Notebooks/MLStart')\n",
    "!pwd"
   ],
   "metadata": {
    "colab": {
     "base_uri": "https://localhost:8080/"
    },
    "id": "H5c67GVLG0Hg",
    "executionInfo": {
     "status": "ok",
     "timestamp": 1640910976881,
     "user_tz": -540,
     "elapsed": 24899,
     "user": {
      "displayName": "권오성",
      "photoUrl": "https://lh3.googleusercontent.com/a/default-user=s64",
      "userId": "06266214997163650151"
     }
    },
    "outputId": "18f916ee-24ff-47f1-9401-74760982b03c"
   },
   "execution_count": 121,
   "outputs": [
    {
     "ename": "ModuleNotFoundError",
     "evalue": "No module named 'google'",
     "output_type": "error",
     "traceback": [
      "\u001B[1;31m---------------------------------------------------------------------------\u001B[0m",
      "\u001B[1;31mModuleNotFoundError\u001B[0m                       Traceback (most recent call last)",
      "\u001B[1;32m<ipython-input-121-d814723f9f18>\u001B[0m in \u001B[0;36m<module>\u001B[1;34m\u001B[0m\n\u001B[1;32m----> 1\u001B[1;33m \u001B[1;32mfrom\u001B[0m \u001B[0mgoogle\u001B[0m\u001B[1;33m.\u001B[0m\u001B[0mcolab\u001B[0m \u001B[1;32mimport\u001B[0m \u001B[0mdrive\u001B[0m\u001B[1;33m\u001B[0m\u001B[1;33m\u001B[0m\u001B[0m\n\u001B[0m\u001B[0;32m      2\u001B[0m \u001B[1;32mimport\u001B[0m \u001B[0mos\u001B[0m\u001B[1;33m\u001B[0m\u001B[1;33m\u001B[0m\u001B[0m\n\u001B[0;32m      3\u001B[0m \u001B[0mdrive\u001B[0m\u001B[1;33m.\u001B[0m\u001B[0mmount\u001B[0m\u001B[1;33m(\u001B[0m\u001B[1;34m'/content/drive/'\u001B[0m\u001B[1;33m)\u001B[0m\u001B[1;33m\u001B[0m\u001B[1;33m\u001B[0m\u001B[0m\n\u001B[0;32m      4\u001B[0m \u001B[0mos\u001B[0m\u001B[1;33m.\u001B[0m\u001B[0mchdir\u001B[0m\u001B[1;33m(\u001B[0m\u001B[1;34m'/content/drive/My Drive/Colab Notebooks/MLStart'\u001B[0m\u001B[1;33m)\u001B[0m\u001B[1;33m\u001B[0m\u001B[1;33m\u001B[0m\u001B[0m\n\u001B[0;32m      5\u001B[0m \u001B[0mget_ipython\u001B[0m\u001B[1;33m(\u001B[0m\u001B[1;33m)\u001B[0m\u001B[1;33m.\u001B[0m\u001B[0msystem\u001B[0m\u001B[1;33m(\u001B[0m\u001B[1;34m'pwd'\u001B[0m\u001B[1;33m)\u001B[0m\u001B[1;33m\u001B[0m\u001B[1;33m\u001B[0m\u001B[0m\n",
      "\u001B[1;31mModuleNotFoundError\u001B[0m: No module named 'google'"
     ]
    }
   ]
  },
  {
   "cell_type": "code",
   "metadata": {
    "id": "xiWcXkS61g6E",
    "colab": {
     "base_uri": "https://localhost:8080/",
     "height": 206
    },
    "executionInfo": {
     "status": "ok",
     "timestamp": 1640910977893,
     "user_tz": -540,
     "elapsed": 428,
     "user": {
      "displayName": "권오성",
      "photoUrl": "https://lh3.googleusercontent.com/a/default-user=s64",
      "userId": "06266214997163650151"
     }
    },
    "outputId": "be33bf3d-08da-4f72-d9c2-d1104515c5fe"
   },
   "source": [
    "insu = pd.read_csv('./insurance.csv')\n",
    "insu.head()"
   ],
   "execution_count": 122,
   "outputs": [
    {
     "ename": "FileNotFoundError",
     "evalue": "[Errno 2] No such file or directory: './insurance.csv'",
     "output_type": "error",
     "traceback": [
      "\u001B[1;31m---------------------------------------------------------------------------\u001B[0m",
      "\u001B[1;31mFileNotFoundError\u001B[0m                         Traceback (most recent call last)",
      "\u001B[1;32m<ipython-input-122-17e12d21f1ee>\u001B[0m in \u001B[0;36m<module>\u001B[1;34m\u001B[0m\n\u001B[1;32m----> 1\u001B[1;33m \u001B[0minsu\u001B[0m \u001B[1;33m=\u001B[0m \u001B[0mpd\u001B[0m\u001B[1;33m.\u001B[0m\u001B[0mread_csv\u001B[0m\u001B[1;33m(\u001B[0m\u001B[1;34m'./insurance.csv'\u001B[0m\u001B[1;33m)\u001B[0m\u001B[1;33m\u001B[0m\u001B[1;33m\u001B[0m\u001B[0m\n\u001B[0m\u001B[0;32m      2\u001B[0m \u001B[0minsu\u001B[0m\u001B[1;33m.\u001B[0m\u001B[0mhead\u001B[0m\u001B[1;33m(\u001B[0m\u001B[1;33m)\u001B[0m\u001B[1;33m\u001B[0m\u001B[1;33m\u001B[0m\u001B[0m\n",
      "\u001B[1;32m~\\anaconda3\\lib\\site-packages\\pandas\\io\\parsers.py\u001B[0m in \u001B[0;36mread_csv\u001B[1;34m(filepath_or_buffer, sep, delimiter, header, names, index_col, usecols, squeeze, prefix, mangle_dupe_cols, dtype, engine, converters, true_values, false_values, skipinitialspace, skiprows, skipfooter, nrows, na_values, keep_default_na, na_filter, verbose, skip_blank_lines, parse_dates, infer_datetime_format, keep_date_col, date_parser, dayfirst, cache_dates, iterator, chunksize, compression, thousands, decimal, lineterminator, quotechar, quoting, doublequote, escapechar, comment, encoding, dialect, error_bad_lines, warn_bad_lines, delim_whitespace, low_memory, memory_map, float_precision, storage_options)\u001B[0m\n\u001B[0;32m    608\u001B[0m     \u001B[0mkwds\u001B[0m\u001B[1;33m.\u001B[0m\u001B[0mupdate\u001B[0m\u001B[1;33m(\u001B[0m\u001B[0mkwds_defaults\u001B[0m\u001B[1;33m)\u001B[0m\u001B[1;33m\u001B[0m\u001B[1;33m\u001B[0m\u001B[0m\n\u001B[0;32m    609\u001B[0m \u001B[1;33m\u001B[0m\u001B[0m\n\u001B[1;32m--> 610\u001B[1;33m     \u001B[1;32mreturn\u001B[0m \u001B[0m_read\u001B[0m\u001B[1;33m(\u001B[0m\u001B[0mfilepath_or_buffer\u001B[0m\u001B[1;33m,\u001B[0m \u001B[0mkwds\u001B[0m\u001B[1;33m)\u001B[0m\u001B[1;33m\u001B[0m\u001B[1;33m\u001B[0m\u001B[0m\n\u001B[0m\u001B[0;32m    611\u001B[0m \u001B[1;33m\u001B[0m\u001B[0m\n\u001B[0;32m    612\u001B[0m \u001B[1;33m\u001B[0m\u001B[0m\n",
      "\u001B[1;32m~\\anaconda3\\lib\\site-packages\\pandas\\io\\parsers.py\u001B[0m in \u001B[0;36m_read\u001B[1;34m(filepath_or_buffer, kwds)\u001B[0m\n\u001B[0;32m    460\u001B[0m \u001B[1;33m\u001B[0m\u001B[0m\n\u001B[0;32m    461\u001B[0m     \u001B[1;31m# Create the parser.\u001B[0m\u001B[1;33m\u001B[0m\u001B[1;33m\u001B[0m\u001B[1;33m\u001B[0m\u001B[0m\n\u001B[1;32m--> 462\u001B[1;33m     \u001B[0mparser\u001B[0m \u001B[1;33m=\u001B[0m \u001B[0mTextFileReader\u001B[0m\u001B[1;33m(\u001B[0m\u001B[0mfilepath_or_buffer\u001B[0m\u001B[1;33m,\u001B[0m \u001B[1;33m**\u001B[0m\u001B[0mkwds\u001B[0m\u001B[1;33m)\u001B[0m\u001B[1;33m\u001B[0m\u001B[1;33m\u001B[0m\u001B[0m\n\u001B[0m\u001B[0;32m    463\u001B[0m \u001B[1;33m\u001B[0m\u001B[0m\n\u001B[0;32m    464\u001B[0m     \u001B[1;32mif\u001B[0m \u001B[0mchunksize\u001B[0m \u001B[1;32mor\u001B[0m \u001B[0miterator\u001B[0m\u001B[1;33m:\u001B[0m\u001B[1;33m\u001B[0m\u001B[1;33m\u001B[0m\u001B[0m\n",
      "\u001B[1;32m~\\anaconda3\\lib\\site-packages\\pandas\\io\\parsers.py\u001B[0m in \u001B[0;36m__init__\u001B[1;34m(self, f, engine, **kwds)\u001B[0m\n\u001B[0;32m    817\u001B[0m             \u001B[0mself\u001B[0m\u001B[1;33m.\u001B[0m\u001B[0moptions\u001B[0m\u001B[1;33m[\u001B[0m\u001B[1;34m\"has_index_names\"\u001B[0m\u001B[1;33m]\u001B[0m \u001B[1;33m=\u001B[0m \u001B[0mkwds\u001B[0m\u001B[1;33m[\u001B[0m\u001B[1;34m\"has_index_names\"\u001B[0m\u001B[1;33m]\u001B[0m\u001B[1;33m\u001B[0m\u001B[1;33m\u001B[0m\u001B[0m\n\u001B[0;32m    818\u001B[0m \u001B[1;33m\u001B[0m\u001B[0m\n\u001B[1;32m--> 819\u001B[1;33m         \u001B[0mself\u001B[0m\u001B[1;33m.\u001B[0m\u001B[0m_engine\u001B[0m \u001B[1;33m=\u001B[0m \u001B[0mself\u001B[0m\u001B[1;33m.\u001B[0m\u001B[0m_make_engine\u001B[0m\u001B[1;33m(\u001B[0m\u001B[0mself\u001B[0m\u001B[1;33m.\u001B[0m\u001B[0mengine\u001B[0m\u001B[1;33m)\u001B[0m\u001B[1;33m\u001B[0m\u001B[1;33m\u001B[0m\u001B[0m\n\u001B[0m\u001B[0;32m    820\u001B[0m \u001B[1;33m\u001B[0m\u001B[0m\n\u001B[0;32m    821\u001B[0m     \u001B[1;32mdef\u001B[0m \u001B[0mclose\u001B[0m\u001B[1;33m(\u001B[0m\u001B[0mself\u001B[0m\u001B[1;33m)\u001B[0m\u001B[1;33m:\u001B[0m\u001B[1;33m\u001B[0m\u001B[1;33m\u001B[0m\u001B[0m\n",
      "\u001B[1;32m~\\anaconda3\\lib\\site-packages\\pandas\\io\\parsers.py\u001B[0m in \u001B[0;36m_make_engine\u001B[1;34m(self, engine)\u001B[0m\n\u001B[0;32m   1048\u001B[0m             )\n\u001B[0;32m   1049\u001B[0m         \u001B[1;31m# error: Too many arguments for \"ParserBase\"\u001B[0m\u001B[1;33m\u001B[0m\u001B[1;33m\u001B[0m\u001B[1;33m\u001B[0m\u001B[0m\n\u001B[1;32m-> 1050\u001B[1;33m         \u001B[1;32mreturn\u001B[0m \u001B[0mmapping\u001B[0m\u001B[1;33m[\u001B[0m\u001B[0mengine\u001B[0m\u001B[1;33m]\u001B[0m\u001B[1;33m(\u001B[0m\u001B[0mself\u001B[0m\u001B[1;33m.\u001B[0m\u001B[0mf\u001B[0m\u001B[1;33m,\u001B[0m \u001B[1;33m**\u001B[0m\u001B[0mself\u001B[0m\u001B[1;33m.\u001B[0m\u001B[0moptions\u001B[0m\u001B[1;33m)\u001B[0m  \u001B[1;31m# type: ignore[call-arg]\u001B[0m\u001B[1;33m\u001B[0m\u001B[1;33m\u001B[0m\u001B[0m\n\u001B[0m\u001B[0;32m   1051\u001B[0m \u001B[1;33m\u001B[0m\u001B[0m\n\u001B[0;32m   1052\u001B[0m     \u001B[1;32mdef\u001B[0m \u001B[0m_failover_to_python\u001B[0m\u001B[1;33m(\u001B[0m\u001B[0mself\u001B[0m\u001B[1;33m)\u001B[0m\u001B[1;33m:\u001B[0m\u001B[1;33m\u001B[0m\u001B[1;33m\u001B[0m\u001B[0m\n",
      "\u001B[1;32m~\\anaconda3\\lib\\site-packages\\pandas\\io\\parsers.py\u001B[0m in \u001B[0;36m__init__\u001B[1;34m(self, src, **kwds)\u001B[0m\n\u001B[0;32m   1865\u001B[0m \u001B[1;33m\u001B[0m\u001B[0m\n\u001B[0;32m   1866\u001B[0m         \u001B[1;31m# open handles\u001B[0m\u001B[1;33m\u001B[0m\u001B[1;33m\u001B[0m\u001B[1;33m\u001B[0m\u001B[0m\n\u001B[1;32m-> 1867\u001B[1;33m         \u001B[0mself\u001B[0m\u001B[1;33m.\u001B[0m\u001B[0m_open_handles\u001B[0m\u001B[1;33m(\u001B[0m\u001B[0msrc\u001B[0m\u001B[1;33m,\u001B[0m \u001B[0mkwds\u001B[0m\u001B[1;33m)\u001B[0m\u001B[1;33m\u001B[0m\u001B[1;33m\u001B[0m\u001B[0m\n\u001B[0m\u001B[0;32m   1868\u001B[0m         \u001B[1;32massert\u001B[0m \u001B[0mself\u001B[0m\u001B[1;33m.\u001B[0m\u001B[0mhandles\u001B[0m \u001B[1;32mis\u001B[0m \u001B[1;32mnot\u001B[0m \u001B[1;32mNone\u001B[0m\u001B[1;33m\u001B[0m\u001B[1;33m\u001B[0m\u001B[0m\n\u001B[0;32m   1869\u001B[0m         \u001B[1;32mfor\u001B[0m \u001B[0mkey\u001B[0m \u001B[1;32min\u001B[0m \u001B[1;33m(\u001B[0m\u001B[1;34m\"storage_options\"\u001B[0m\u001B[1;33m,\u001B[0m \u001B[1;34m\"encoding\"\u001B[0m\u001B[1;33m,\u001B[0m \u001B[1;34m\"memory_map\"\u001B[0m\u001B[1;33m,\u001B[0m \u001B[1;34m\"compression\"\u001B[0m\u001B[1;33m)\u001B[0m\u001B[1;33m:\u001B[0m\u001B[1;33m\u001B[0m\u001B[1;33m\u001B[0m\u001B[0m\n",
      "\u001B[1;32m~\\anaconda3\\lib\\site-packages\\pandas\\io\\parsers.py\u001B[0m in \u001B[0;36m_open_handles\u001B[1;34m(self, src, kwds)\u001B[0m\n\u001B[0;32m   1360\u001B[0m         \u001B[0mLet\u001B[0m \u001B[0mthe\u001B[0m \u001B[0mreaders\u001B[0m \u001B[0mopen\u001B[0m \u001B[0mIOHanldes\u001B[0m \u001B[0mafter\u001B[0m \u001B[0mthey\u001B[0m \u001B[0mare\u001B[0m \u001B[0mdone\u001B[0m \u001B[1;32mwith\u001B[0m \u001B[0mtheir\u001B[0m \u001B[0mpotential\u001B[0m \u001B[0mraises\u001B[0m\u001B[1;33m.\u001B[0m\u001B[1;33m\u001B[0m\u001B[1;33m\u001B[0m\u001B[0m\n\u001B[0;32m   1361\u001B[0m         \"\"\"\n\u001B[1;32m-> 1362\u001B[1;33m         self.handles = get_handle(\n\u001B[0m\u001B[0;32m   1363\u001B[0m             \u001B[0msrc\u001B[0m\u001B[1;33m,\u001B[0m\u001B[1;33m\u001B[0m\u001B[1;33m\u001B[0m\u001B[0m\n\u001B[0;32m   1364\u001B[0m             \u001B[1;34m\"r\"\u001B[0m\u001B[1;33m,\u001B[0m\u001B[1;33m\u001B[0m\u001B[1;33m\u001B[0m\u001B[0m\n",
      "\u001B[1;32m~\\anaconda3\\lib\\site-packages\\pandas\\io\\common.py\u001B[0m in \u001B[0;36mget_handle\u001B[1;34m(path_or_buf, mode, encoding, compression, memory_map, is_text, errors, storage_options)\u001B[0m\n\u001B[0;32m    640\u001B[0m                 \u001B[0merrors\u001B[0m \u001B[1;33m=\u001B[0m \u001B[1;34m\"replace\"\u001B[0m\u001B[1;33m\u001B[0m\u001B[1;33m\u001B[0m\u001B[0m\n\u001B[0;32m    641\u001B[0m             \u001B[1;31m# Encoding\u001B[0m\u001B[1;33m\u001B[0m\u001B[1;33m\u001B[0m\u001B[1;33m\u001B[0m\u001B[0m\n\u001B[1;32m--> 642\u001B[1;33m             handle = open(\n\u001B[0m\u001B[0;32m    643\u001B[0m                 \u001B[0mhandle\u001B[0m\u001B[1;33m,\u001B[0m\u001B[1;33m\u001B[0m\u001B[1;33m\u001B[0m\u001B[0m\n\u001B[0;32m    644\u001B[0m                 \u001B[0mioargs\u001B[0m\u001B[1;33m.\u001B[0m\u001B[0mmode\u001B[0m\u001B[1;33m,\u001B[0m\u001B[1;33m\u001B[0m\u001B[1;33m\u001B[0m\u001B[0m\n",
      "\u001B[1;31mFileNotFoundError\u001B[0m: [Errno 2] No such file or directory: './insurance.csv'"
     ]
    }
   ]
  },
  {
   "cell_type": "code",
   "source": [
    "insu.info()"
   ],
   "metadata": {
    "colab": {
     "base_uri": "https://localhost:8080/"
    },
    "id": "qRYHpRv6GoyV",
    "executionInfo": {
     "status": "ok",
     "timestamp": 1640910978194,
     "user_tz": -540,
     "elapsed": 303,
     "user": {
      "displayName": "권오성",
      "photoUrl": "https://lh3.googleusercontent.com/a/default-user=s64",
      "userId": "06266214997163650151"
     }
    },
    "outputId": "ccf22e59-dbdc-4e10-af6d-259ae8ac1782"
   },
   "execution_count": 123,
   "outputs": [
    {
     "ename": "NameError",
     "evalue": "name 'insu' is not defined",
     "output_type": "error",
     "traceback": [
      "\u001B[1;31m---------------------------------------------------------------------------\u001B[0m",
      "\u001B[1;31mNameError\u001B[0m                                 Traceback (most recent call last)",
      "\u001B[1;32m<ipython-input-123-b45d9b7d5957>\u001B[0m in \u001B[0;36m<module>\u001B[1;34m\u001B[0m\n\u001B[1;32m----> 1\u001B[1;33m \u001B[0minsu\u001B[0m\u001B[1;33m.\u001B[0m\u001B[0minfo\u001B[0m\u001B[1;33m(\u001B[0m\u001B[1;33m)\u001B[0m\u001B[1;33m\u001B[0m\u001B[1;33m\u001B[0m\u001B[0m\n\u001B[0m",
      "\u001B[1;31mNameError\u001B[0m: name 'insu' is not defined"
     ]
    }
   ]
  },
  {
   "cell_type": "code",
   "source": [
    "insu.describe()"
   ],
   "metadata": {
    "colab": {
     "base_uri": "https://localhost:8080/",
     "height": 300
    },
    "id": "_lIERK6TGw1l",
    "executionInfo": {
     "status": "ok",
     "timestamp": 1640910978194,
     "user_tz": -540,
     "elapsed": 3,
     "user": {
      "displayName": "권오성",
      "photoUrl": "https://lh3.googleusercontent.com/a/default-user=s64",
      "userId": "06266214997163650151"
     }
    },
    "outputId": "5f1dc4e7-5ec5-4c0b-f25e-fa93e2528f18"
   },
   "execution_count": 124,
   "outputs": [
    {
     "ename": "NameError",
     "evalue": "name 'insu' is not defined",
     "output_type": "error",
     "traceback": [
      "\u001B[1;31m---------------------------------------------------------------------------\u001B[0m",
      "\u001B[1;31mNameError\u001B[0m                                 Traceback (most recent call last)",
      "\u001B[1;32m<ipython-input-124-838bed63ce43>\u001B[0m in \u001B[0;36m<module>\u001B[1;34m\u001B[0m\n\u001B[1;32m----> 1\u001B[1;33m \u001B[0minsu\u001B[0m\u001B[1;33m.\u001B[0m\u001B[0mdescribe\u001B[0m\u001B[1;33m(\u001B[0m\u001B[1;33m)\u001B[0m\u001B[1;33m\u001B[0m\u001B[1;33m\u001B[0m\u001B[0m\n\u001B[0m",
      "\u001B[1;31mNameError\u001B[0m: name 'insu' is not defined"
     ]
    }
   ]
  },
  {
   "cell_type": "code",
   "source": [
    "import seaborn as sns\n",
    "sns.pairplot(insu, kind='reg', hue='sex', plot_kws={'scatter_kws': {'alpha': 0.5, 's': 1}})"
   ],
   "metadata": {
    "colab": {
     "base_uri": "https://localhost:8080/",
     "height": 643
    },
    "id": "VlPiBgeuHQ9N",
    "executionInfo": {
     "status": "ok",
     "timestamp": 1640910989760,
     "user_tz": -540,
     "elapsed": 11569,
     "user": {
      "displayName": "권오성",
      "photoUrl": "https://lh3.googleusercontent.com/a/default-user=s64",
      "userId": "06266214997163650151"
     }
    },
    "outputId": "d32abe5f-0ee0-460a-f98c-bae44290d755"
   },
   "execution_count": 125,
   "outputs": [
    {
     "ename": "NameError",
     "evalue": "name 'insu' is not defined",
     "output_type": "error",
     "traceback": [
      "\u001B[1;31m---------------------------------------------------------------------------\u001B[0m",
      "\u001B[1;31mNameError\u001B[0m                                 Traceback (most recent call last)",
      "\u001B[1;32m<ipython-input-125-70b5cf667059>\u001B[0m in \u001B[0;36m<module>\u001B[1;34m\u001B[0m\n\u001B[0;32m      1\u001B[0m \u001B[1;32mimport\u001B[0m \u001B[0mseaborn\u001B[0m \u001B[1;32mas\u001B[0m \u001B[0msns\u001B[0m\u001B[1;33m\u001B[0m\u001B[1;33m\u001B[0m\u001B[0m\n\u001B[1;32m----> 2\u001B[1;33m \u001B[0msns\u001B[0m\u001B[1;33m.\u001B[0m\u001B[0mpairplot\u001B[0m\u001B[1;33m(\u001B[0m\u001B[0minsu\u001B[0m\u001B[1;33m,\u001B[0m \u001B[0mkind\u001B[0m\u001B[1;33m=\u001B[0m\u001B[1;34m'reg'\u001B[0m\u001B[1;33m,\u001B[0m \u001B[0mhue\u001B[0m\u001B[1;33m=\u001B[0m\u001B[1;34m'sex'\u001B[0m\u001B[1;33m,\u001B[0m \u001B[0mplot_kws\u001B[0m\u001B[1;33m=\u001B[0m\u001B[1;33m{\u001B[0m\u001B[1;34m'scatter_kws'\u001B[0m\u001B[1;33m:\u001B[0m \u001B[1;33m{\u001B[0m\u001B[1;34m'alpha'\u001B[0m\u001B[1;33m:\u001B[0m \u001B[1;36m0.5\u001B[0m\u001B[1;33m,\u001B[0m \u001B[1;34m's'\u001B[0m\u001B[1;33m:\u001B[0m \u001B[1;36m1\u001B[0m\u001B[1;33m}\u001B[0m\u001B[1;33m}\u001B[0m\u001B[1;33m)\u001B[0m\u001B[1;33m\u001B[0m\u001B[1;33m\u001B[0m\u001B[0m\n\u001B[0m",
      "\u001B[1;31mNameError\u001B[0m: name 'insu' is not defined"
     ]
    }
   ]
  },
  {
   "cell_type": "markdown",
   "source": [
    "- bmi가 약 30 이상일 때 charges에 대한 2분포가 형성되는 것으로 보인다.\n",
    "- age와 charges의 산점도에서 3개의 분포가 나타나는 것이 확인된다.\n",
    "- children을 범주형으로 보는 것이 유용하다."
   ],
   "metadata": {
    "id": "bf2wYLNOKtSq"
   }
  },
  {
   "cell_type": "code",
   "source": [
    "sns.pairplot(insu, kind='reg', hue='smoker', plot_kws={'scatter_kws': {'alpha': 0.5, 's': 1}})"
   ],
   "metadata": {
    "colab": {
     "base_uri": "https://localhost:8080/",
     "height": 656
    },
    "id": "m0A5DK46Ho8F",
    "executionInfo": {
     "status": "ok",
     "timestamp": 1640911000386,
     "user_tz": -540,
     "elapsed": 10629,
     "user": {
      "displayName": "권오성",
      "photoUrl": "https://lh3.googleusercontent.com/a/default-user=s64",
      "userId": "06266214997163650151"
     }
    },
    "outputId": "62dc06c3-4dfb-46b3-a297-50c2b8663133"
   },
   "execution_count": 126,
   "outputs": [
    {
     "ename": "NameError",
     "evalue": "name 'insu' is not defined",
     "output_type": "error",
     "traceback": [
      "\u001B[1;31m---------------------------------------------------------------------------\u001B[0m",
      "\u001B[1;31mNameError\u001B[0m                                 Traceback (most recent call last)",
      "\u001B[1;32m<ipython-input-126-c4390d99769c>\u001B[0m in \u001B[0;36m<module>\u001B[1;34m\u001B[0m\n\u001B[1;32m----> 1\u001B[1;33m \u001B[0msns\u001B[0m\u001B[1;33m.\u001B[0m\u001B[0mpairplot\u001B[0m\u001B[1;33m(\u001B[0m\u001B[0minsu\u001B[0m\u001B[1;33m,\u001B[0m \u001B[0mkind\u001B[0m\u001B[1;33m=\u001B[0m\u001B[1;34m'reg'\u001B[0m\u001B[1;33m,\u001B[0m \u001B[0mhue\u001B[0m\u001B[1;33m=\u001B[0m\u001B[1;34m'smoker'\u001B[0m\u001B[1;33m,\u001B[0m \u001B[0mplot_kws\u001B[0m\u001B[1;33m=\u001B[0m\u001B[1;33m{\u001B[0m\u001B[1;34m'scatter_kws'\u001B[0m\u001B[1;33m:\u001B[0m \u001B[1;33m{\u001B[0m\u001B[1;34m'alpha'\u001B[0m\u001B[1;33m:\u001B[0m \u001B[1;36m0.5\u001B[0m\u001B[1;33m,\u001B[0m \u001B[1;34m's'\u001B[0m\u001B[1;33m:\u001B[0m \u001B[1;36m1\u001B[0m\u001B[1;33m}\u001B[0m\u001B[1;33m}\u001B[0m\u001B[1;33m)\u001B[0m\u001B[1;33m\u001B[0m\u001B[1;33m\u001B[0m\u001B[0m\n\u001B[0m",
      "\u001B[1;31mNameError\u001B[0m: name 'insu' is not defined"
     ]
    }
   ]
  },
  {
   "cell_type": "markdown",
   "source": [
    "- 흡연여부에 따라 bmi에 대한 회귀계수가 달라지는 것이 명확하다.\n",
    "- 특히 bmi 30을 기준으로 흡연자인 경우 2개의 분포를형성하며, 그 분산이 bmi에 따라 더 증가한다."
   ],
   "metadata": {
    "id": "vhW69ZJ_K2Y0"
   }
  },
  {
   "cell_type": "code",
   "source": [
    "sns.pairplot(insu, kind='reg', hue='region', plot_kws={'scatter_kws': {'alpha': 0.5, 's': 1}})"
   ],
   "metadata": {
    "colab": {
     "base_uri": "https://localhost:8080/",
     "height": 630
    },
    "id": "3XONLTmGImNd",
    "executionInfo": {
     "status": "ok",
     "timestamp": 1640911014243,
     "user_tz": -540,
     "elapsed": 13860,
     "user": {
      "displayName": "권오성",
      "photoUrl": "https://lh3.googleusercontent.com/a/default-user=s64",
      "userId": "06266214997163650151"
     }
    },
    "outputId": "e688a9c2-3fab-47e1-f9cc-12bac2ab7969"
   },
   "execution_count": 127,
   "outputs": [
    {
     "ename": "NameError",
     "evalue": "name 'insu' is not defined",
     "output_type": "error",
     "traceback": [
      "\u001B[1;31m---------------------------------------------------------------------------\u001B[0m",
      "\u001B[1;31mNameError\u001B[0m                                 Traceback (most recent call last)",
      "\u001B[1;32m<ipython-input-127-7caf3bd46497>\u001B[0m in \u001B[0;36m<module>\u001B[1;34m\u001B[0m\n\u001B[1;32m----> 1\u001B[1;33m \u001B[0msns\u001B[0m\u001B[1;33m.\u001B[0m\u001B[0mpairplot\u001B[0m\u001B[1;33m(\u001B[0m\u001B[0minsu\u001B[0m\u001B[1;33m,\u001B[0m \u001B[0mkind\u001B[0m\u001B[1;33m=\u001B[0m\u001B[1;34m'reg'\u001B[0m\u001B[1;33m,\u001B[0m \u001B[0mhue\u001B[0m\u001B[1;33m=\u001B[0m\u001B[1;34m'region'\u001B[0m\u001B[1;33m,\u001B[0m \u001B[0mplot_kws\u001B[0m\u001B[1;33m=\u001B[0m\u001B[1;33m{\u001B[0m\u001B[1;34m'scatter_kws'\u001B[0m\u001B[1;33m:\u001B[0m \u001B[1;33m{\u001B[0m\u001B[1;34m'alpha'\u001B[0m\u001B[1;33m:\u001B[0m \u001B[1;36m0.5\u001B[0m\u001B[1;33m,\u001B[0m \u001B[1;34m's'\u001B[0m\u001B[1;33m:\u001B[0m \u001B[1;36m1\u001B[0m\u001B[1;33m}\u001B[0m\u001B[1;33m}\u001B[0m\u001B[1;33m)\u001B[0m\u001B[1;33m\u001B[0m\u001B[1;33m\u001B[0m\u001B[0m\n\u001B[0m",
      "\u001B[1;31mNameError\u001B[0m: name 'insu' is not defined"
     ]
    }
   ]
  },
  {
   "cell_type": "code",
   "source": [
    "insu['bmi30'] = np.where(insu.bmi > 30, 1, 0)"
   ],
   "metadata": {
    "id": "oyQObWpbNuYS",
    "executionInfo": {
     "status": "ok",
     "timestamp": 1640911014243,
     "user_tz": -540,
     "elapsed": 3,
     "user": {
      "displayName": "권오성",
      "photoUrl": "https://lh3.googleusercontent.com/a/default-user=s64",
      "userId": "06266214997163650151"
     }
    }
   },
   "execution_count": 128,
   "outputs": [
    {
     "ename": "NameError",
     "evalue": "name 'insu' is not defined",
     "output_type": "error",
     "traceback": [
      "\u001B[1;31m---------------------------------------------------------------------------\u001B[0m",
      "\u001B[1;31mNameError\u001B[0m                                 Traceback (most recent call last)",
      "\u001B[1;32m<ipython-input-128-8d351234354a>\u001B[0m in \u001B[0;36m<module>\u001B[1;34m\u001B[0m\n\u001B[1;32m----> 1\u001B[1;33m \u001B[0minsu\u001B[0m\u001B[1;33m[\u001B[0m\u001B[1;34m'bmi30'\u001B[0m\u001B[1;33m]\u001B[0m \u001B[1;33m=\u001B[0m \u001B[0mnp\u001B[0m\u001B[1;33m.\u001B[0m\u001B[0mwhere\u001B[0m\u001B[1;33m(\u001B[0m\u001B[0minsu\u001B[0m\u001B[1;33m.\u001B[0m\u001B[0mbmi\u001B[0m \u001B[1;33m>\u001B[0m \u001B[1;36m30\u001B[0m\u001B[1;33m,\u001B[0m \u001B[1;36m1\u001B[0m\u001B[1;33m,\u001B[0m \u001B[1;36m0\u001B[0m\u001B[1;33m)\u001B[0m\u001B[1;33m\u001B[0m\u001B[1;33m\u001B[0m\u001B[0m\n\u001B[0m",
      "\u001B[1;31mNameError\u001B[0m: name 'insu' is not defined"
     ]
    }
   ]
  },
  {
   "cell_type": "code",
   "source": [
    "sns.displot(insu, x='charges', hue='smoker',\n",
    "            row='region', col='bmi30', )"
   ],
   "metadata": {
    "colab": {
     "base_uri": "https://localhost:8080/",
     "height": 1000
    },
    "id": "fnnvdnkXL5gj",
    "executionInfo": {
     "status": "ok",
     "timestamp": 1640911019119,
     "user_tz": -540,
     "elapsed": 4879,
     "user": {
      "displayName": "권오성",
      "photoUrl": "https://lh3.googleusercontent.com/a/default-user=s64",
      "userId": "06266214997163650151"
     }
    },
    "outputId": "5525ceb9-5698-4e8e-c629-1352d2f880fa"
   },
   "execution_count": 129,
   "outputs": [
    {
     "ename": "NameError",
     "evalue": "name 'insu' is not defined",
     "output_type": "error",
     "traceback": [
      "\u001B[1;31m---------------------------------------------------------------------------\u001B[0m",
      "\u001B[1;31mNameError\u001B[0m                                 Traceback (most recent call last)",
      "\u001B[1;32m<ipython-input-129-f82a620ceae2>\u001B[0m in \u001B[0;36m<module>\u001B[1;34m\u001B[0m\n\u001B[1;32m----> 1\u001B[1;33m sns.displot(insu, x='charges', hue='smoker',\n\u001B[0m\u001B[0;32m      2\u001B[0m             row='region', col='bmi30', )\n",
      "\u001B[1;31mNameError\u001B[0m: name 'insu' is not defined"
     ]
    }
   ]
  },
  {
   "cell_type": "markdown",
   "source": [
    "#### 2. 기본 base 모델 작성\n",
    "기본 데이터를 이용한 base 모델을 작성한다."
   ],
   "metadata": {
    "id": "m0ln08SRPuMb"
   }
  },
  {
   "cell_type": "code",
   "source": [
    "X = pd.get_dummies(insu.iloc[:, :-2], drop_first=True)\n",
    "y = insu.charges\n",
    "\n",
    "X_train, X_test, y_train, y_test = train_test_split(X, y)\n",
    "base = LinearRegression()\n",
    "base.fit(X_train, y_train)\n",
    "baseScore = base.score(X_test, y_test)\n",
    "baseScore"
   ],
   "metadata": {
    "colab": {
     "base_uri": "https://localhost:8080/"
    },
    "id": "ZZ94gzhnPreN",
    "executionInfo": {
     "status": "ok",
     "timestamp": 1640911019120,
     "user_tz": -540,
     "elapsed": 12,
     "user": {
      "displayName": "권오성",
      "photoUrl": "https://lh3.googleusercontent.com/a/default-user=s64",
      "userId": "06266214997163650151"
     }
    },
    "outputId": "951ee139-5bdb-4164-b325-f570fe82b797"
   },
   "execution_count": 130,
   "outputs": [
    {
     "ename": "NameError",
     "evalue": "name 'insu' is not defined",
     "output_type": "error",
     "traceback": [
      "\u001B[1;31m---------------------------------------------------------------------------\u001B[0m",
      "\u001B[1;31mNameError\u001B[0m                                 Traceback (most recent call last)",
      "\u001B[1;32m<ipython-input-130-d6b0794fb541>\u001B[0m in \u001B[0;36m<module>\u001B[1;34m\u001B[0m\n\u001B[1;32m----> 1\u001B[1;33m \u001B[0mX\u001B[0m \u001B[1;33m=\u001B[0m \u001B[0mpd\u001B[0m\u001B[1;33m.\u001B[0m\u001B[0mget_dummies\u001B[0m\u001B[1;33m(\u001B[0m\u001B[0minsu\u001B[0m\u001B[1;33m.\u001B[0m\u001B[0miloc\u001B[0m\u001B[1;33m[\u001B[0m\u001B[1;33m:\u001B[0m\u001B[1;33m,\u001B[0m \u001B[1;33m:\u001B[0m\u001B[1;33m-\u001B[0m\u001B[1;36m2\u001B[0m\u001B[1;33m]\u001B[0m\u001B[1;33m,\u001B[0m \u001B[0mdrop_first\u001B[0m\u001B[1;33m=\u001B[0m\u001B[1;32mTrue\u001B[0m\u001B[1;33m)\u001B[0m\u001B[1;33m\u001B[0m\u001B[1;33m\u001B[0m\u001B[0m\n\u001B[0m\u001B[0;32m      2\u001B[0m \u001B[0my\u001B[0m \u001B[1;33m=\u001B[0m \u001B[0minsu\u001B[0m\u001B[1;33m.\u001B[0m\u001B[0mcharges\u001B[0m\u001B[1;33m\u001B[0m\u001B[1;33m\u001B[0m\u001B[0m\n\u001B[0;32m      3\u001B[0m \u001B[1;33m\u001B[0m\u001B[0m\n\u001B[0;32m      4\u001B[0m \u001B[0mX_train\u001B[0m\u001B[1;33m,\u001B[0m \u001B[0mX_test\u001B[0m\u001B[1;33m,\u001B[0m \u001B[0my_train\u001B[0m\u001B[1;33m,\u001B[0m \u001B[0my_test\u001B[0m \u001B[1;33m=\u001B[0m \u001B[0mtrain_test_split\u001B[0m\u001B[1;33m(\u001B[0m\u001B[0mX\u001B[0m\u001B[1;33m,\u001B[0m \u001B[0my\u001B[0m\u001B[1;33m)\u001B[0m\u001B[1;33m\u001B[0m\u001B[1;33m\u001B[0m\u001B[0m\n\u001B[0;32m      5\u001B[0m \u001B[0mbase\u001B[0m \u001B[1;33m=\u001B[0m \u001B[0mLinearRegression\u001B[0m\u001B[1;33m(\u001B[0m\u001B[1;33m)\u001B[0m\u001B[1;33m\u001B[0m\u001B[1;33m\u001B[0m\u001B[0m\n",
      "\u001B[1;31mNameError\u001B[0m: name 'insu' is not defined"
     ]
    }
   ]
  },
  {
   "cell_type": "markdown",
   "source": [
    "#### 3. 피처 엔지니어링\n",
    "1. children은 범주형으로 변환\n",
    "2. bmi30과 smoker와의 교호작용 존재\n",
    "3. bmi에 대한 2차항 필요\n",
    "4. 범주형 변수에 대한 one-hot-encoding"
   ],
   "metadata": {
    "id": "wsfKVvsaPLJb"
   }
  },
  {
   "cell_type": "code",
   "source": [
    "insu.children = insu.children.astype('str')\n",
    "insu.smoker = np.where(insu.smoker=='yes', 1, 0)\n",
    "insu.sex = np.where(insu.sex=='male', 1, 0)\n",
    "insu['bmi2sq'] = insu.bmi ** 2\n",
    "insu['bmi30smk'] = insu.bmi30 * insu.smoker\n",
    "insu['bmismk'] = insu.bmi * insu.smoker\n",
    "insu['bmi2sqsmk'] = insu.bmi2sq * insu.smoker\n",
    "insu['bmisex'] = insu.bmi * insu.sex\n",
    "\n",
    "X = pd.get_dummies(insu.drop('charges', axis=1), drop_first=True)\n",
    "y = insu.charges\n",
    "\n",
    "X_train, X_test, y_train, y_test = train_test_split(X, y)\n",
    "reg = LinearRegression()\n",
    "reg.fit(X_train, y_train)\n",
    "regScore = reg.score(X_test, y_test)\n",
    "regScore, baseScore"
   ],
   "metadata": {
    "colab": {
     "base_uri": "https://localhost:8080/"
    },
    "id": "_O5gRRr1OMpG",
    "executionInfo": {
     "status": "ok",
     "timestamp": 1640911019120,
     "user_tz": -540,
     "elapsed": 6,
     "user": {
      "displayName": "권오성",
      "photoUrl": "https://lh3.googleusercontent.com/a/default-user=s64",
      "userId": "06266214997163650151"
     }
    },
    "outputId": "876d46c2-abba-407a-eab7-e9ebea629263"
   },
   "execution_count": 131,
   "outputs": [
    {
     "ename": "NameError",
     "evalue": "name 'insu' is not defined",
     "output_type": "error",
     "traceback": [
      "\u001B[1;31m---------------------------------------------------------------------------\u001B[0m",
      "\u001B[1;31mNameError\u001B[0m                                 Traceback (most recent call last)",
      "\u001B[1;32m<ipython-input-131-890be645335d>\u001B[0m in \u001B[0;36m<module>\u001B[1;34m\u001B[0m\n\u001B[1;32m----> 1\u001B[1;33m \u001B[0minsu\u001B[0m\u001B[1;33m.\u001B[0m\u001B[0mchildren\u001B[0m \u001B[1;33m=\u001B[0m \u001B[0minsu\u001B[0m\u001B[1;33m.\u001B[0m\u001B[0mchildren\u001B[0m\u001B[1;33m.\u001B[0m\u001B[0mastype\u001B[0m\u001B[1;33m(\u001B[0m\u001B[1;34m'str'\u001B[0m\u001B[1;33m)\u001B[0m\u001B[1;33m\u001B[0m\u001B[1;33m\u001B[0m\u001B[0m\n\u001B[0m\u001B[0;32m      2\u001B[0m \u001B[0minsu\u001B[0m\u001B[1;33m.\u001B[0m\u001B[0msmoker\u001B[0m \u001B[1;33m=\u001B[0m \u001B[0mnp\u001B[0m\u001B[1;33m.\u001B[0m\u001B[0mwhere\u001B[0m\u001B[1;33m(\u001B[0m\u001B[0minsu\u001B[0m\u001B[1;33m.\u001B[0m\u001B[0msmoker\u001B[0m\u001B[1;33m==\u001B[0m\u001B[1;34m'yes'\u001B[0m\u001B[1;33m,\u001B[0m \u001B[1;36m1\u001B[0m\u001B[1;33m,\u001B[0m \u001B[1;36m0\u001B[0m\u001B[1;33m)\u001B[0m\u001B[1;33m\u001B[0m\u001B[1;33m\u001B[0m\u001B[0m\n\u001B[0;32m      3\u001B[0m \u001B[0minsu\u001B[0m\u001B[1;33m.\u001B[0m\u001B[0msex\u001B[0m \u001B[1;33m=\u001B[0m \u001B[0mnp\u001B[0m\u001B[1;33m.\u001B[0m\u001B[0mwhere\u001B[0m\u001B[1;33m(\u001B[0m\u001B[0minsu\u001B[0m\u001B[1;33m.\u001B[0m\u001B[0msex\u001B[0m\u001B[1;33m==\u001B[0m\u001B[1;34m'male'\u001B[0m\u001B[1;33m,\u001B[0m \u001B[1;36m1\u001B[0m\u001B[1;33m,\u001B[0m \u001B[1;36m0\u001B[0m\u001B[1;33m)\u001B[0m\u001B[1;33m\u001B[0m\u001B[1;33m\u001B[0m\u001B[0m\n\u001B[0;32m      4\u001B[0m \u001B[0minsu\u001B[0m\u001B[1;33m[\u001B[0m\u001B[1;34m'bmi2sq'\u001B[0m\u001B[1;33m]\u001B[0m \u001B[1;33m=\u001B[0m \u001B[0minsu\u001B[0m\u001B[1;33m.\u001B[0m\u001B[0mbmi\u001B[0m \u001B[1;33m**\u001B[0m \u001B[1;36m2\u001B[0m\u001B[1;33m\u001B[0m\u001B[1;33m\u001B[0m\u001B[0m\n\u001B[0;32m      5\u001B[0m \u001B[0minsu\u001B[0m\u001B[1;33m[\u001B[0m\u001B[1;34m'bmi30smk'\u001B[0m\u001B[1;33m]\u001B[0m \u001B[1;33m=\u001B[0m \u001B[0minsu\u001B[0m\u001B[1;33m.\u001B[0m\u001B[0mbmi30\u001B[0m \u001B[1;33m*\u001B[0m \u001B[0minsu\u001B[0m\u001B[1;33m.\u001B[0m\u001B[0msmoker\u001B[0m\u001B[1;33m\u001B[0m\u001B[1;33m\u001B[0m\u001B[0m\n",
      "\u001B[1;31mNameError\u001B[0m: name 'insu' is not defined"
     ]
    }
   ]
  },
  {
   "cell_type": "code",
   "source": [
    "from sklearn.base import clone\n",
    "ms, als = [Ridge(max_iter=5000), Lasso(max_iter=5000)], range(-4, 3)\n",
    "best = {}\n",
    "best['score'] = regScore\n",
    "for m in ms:\n",
    "    for a in als:\n",
    "        params = {'alpha':10**a}\n",
    "        m = clone(m)\n",
    "        m.set_params(**params)\n",
    "        m.fit(X_train, y_train)\n",
    "        s = m.score(X_test, y_test)\n",
    "        if s > best['score']:\n",
    "            best['score'] = s\n",
    "            best['model'] = m\n",
    "best"
   ],
   "metadata": {
    "colab": {
     "base_uri": "https://localhost:8080/"
    },
    "id": "EbcK24qcSm5t",
    "executionInfo": {
     "status": "ok",
     "timestamp": 1640911019841,
     "user_tz": -540,
     "elapsed": 725,
     "user": {
      "displayName": "권오성",
      "photoUrl": "https://lh3.googleusercontent.com/a/default-user=s64",
      "userId": "06266214997163650151"
     }
    },
    "outputId": "68413efb-2718-4415-de1a-fa4a2ede04e0"
   },
   "execution_count": 132,
   "outputs": [
    {
     "ename": "NameError",
     "evalue": "name 'regScore' is not defined",
     "output_type": "error",
     "traceback": [
      "\u001B[1;31m---------------------------------------------------------------------------\u001B[0m",
      "\u001B[1;31mNameError\u001B[0m                                 Traceback (most recent call last)",
      "\u001B[1;32m<ipython-input-132-3a79b905decf>\u001B[0m in \u001B[0;36m<module>\u001B[1;34m\u001B[0m\n\u001B[0;32m      2\u001B[0m \u001B[0mms\u001B[0m\u001B[1;33m,\u001B[0m \u001B[0mals\u001B[0m \u001B[1;33m=\u001B[0m \u001B[1;33m[\u001B[0m\u001B[0mRidge\u001B[0m\u001B[1;33m(\u001B[0m\u001B[0mmax_iter\u001B[0m\u001B[1;33m=\u001B[0m\u001B[1;36m5000\u001B[0m\u001B[1;33m)\u001B[0m\u001B[1;33m,\u001B[0m \u001B[0mLasso\u001B[0m\u001B[1;33m(\u001B[0m\u001B[0mmax_iter\u001B[0m\u001B[1;33m=\u001B[0m\u001B[1;36m5000\u001B[0m\u001B[1;33m)\u001B[0m\u001B[1;33m]\u001B[0m\u001B[1;33m,\u001B[0m \u001B[0mrange\u001B[0m\u001B[1;33m(\u001B[0m\u001B[1;33m-\u001B[0m\u001B[1;36m4\u001B[0m\u001B[1;33m,\u001B[0m \u001B[1;36m3\u001B[0m\u001B[1;33m)\u001B[0m\u001B[1;33m\u001B[0m\u001B[1;33m\u001B[0m\u001B[0m\n\u001B[0;32m      3\u001B[0m \u001B[0mbest\u001B[0m \u001B[1;33m=\u001B[0m \u001B[1;33m{\u001B[0m\u001B[1;33m}\u001B[0m\u001B[1;33m\u001B[0m\u001B[1;33m\u001B[0m\u001B[0m\n\u001B[1;32m----> 4\u001B[1;33m \u001B[0mbest\u001B[0m\u001B[1;33m[\u001B[0m\u001B[1;34m'score'\u001B[0m\u001B[1;33m]\u001B[0m \u001B[1;33m=\u001B[0m \u001B[0mregScore\u001B[0m\u001B[1;33m\u001B[0m\u001B[1;33m\u001B[0m\u001B[0m\n\u001B[0m\u001B[0;32m      5\u001B[0m \u001B[1;32mfor\u001B[0m \u001B[0mm\u001B[0m \u001B[1;32min\u001B[0m \u001B[0mms\u001B[0m\u001B[1;33m:\u001B[0m\u001B[1;33m\u001B[0m\u001B[1;33m\u001B[0m\u001B[0m\n\u001B[0;32m      6\u001B[0m     \u001B[1;32mfor\u001B[0m \u001B[0ma\u001B[0m \u001B[1;32min\u001B[0m \u001B[0mals\u001B[0m\u001B[1;33m:\u001B[0m\u001B[1;33m\u001B[0m\u001B[1;33m\u001B[0m\u001B[0m\n",
      "\u001B[1;31mNameError\u001B[0m: name 'regScore' is not defined"
     ]
    }
   ]
  },
  {
   "cell_type": "code",
   "source": [
    "best['model'].score(X_test, y_test)"
   ],
   "metadata": {
    "colab": {
     "base_uri": "https://localhost:8080/"
    },
    "id": "EN0BASX9UEkf",
    "executionInfo": {
     "status": "ok",
     "timestamp": 1640911019841,
     "user_tz": -540,
     "elapsed": 6,
     "user": {
      "displayName": "권오성",
      "photoUrl": "https://lh3.googleusercontent.com/a/default-user=s64",
      "userId": "06266214997163650151"
     }
    },
    "outputId": "5dba9cf9-1b29-4080-9df8-f5e1fb712a04"
   },
   "execution_count": 133,
   "outputs": [
    {
     "ename": "KeyError",
     "evalue": "'model'",
     "output_type": "error",
     "traceback": [
      "\u001B[1;31m---------------------------------------------------------------------------\u001B[0m",
      "\u001B[1;31mKeyError\u001B[0m                                  Traceback (most recent call last)",
      "\u001B[1;32m<ipython-input-133-25b18ffc60ec>\u001B[0m in \u001B[0;36m<module>\u001B[1;34m\u001B[0m\n\u001B[1;32m----> 1\u001B[1;33m \u001B[0mbest\u001B[0m\u001B[1;33m[\u001B[0m\u001B[1;34m'model'\u001B[0m\u001B[1;33m]\u001B[0m\u001B[1;33m.\u001B[0m\u001B[0mscore\u001B[0m\u001B[1;33m(\u001B[0m\u001B[0mX_test\u001B[0m\u001B[1;33m,\u001B[0m \u001B[0my_test\u001B[0m\u001B[1;33m)\u001B[0m\u001B[1;33m\u001B[0m\u001B[1;33m\u001B[0m\u001B[0m\n\u001B[0m",
      "\u001B[1;31mKeyError\u001B[0m: 'model'"
     ]
    }
   ]
  },
  {
   "cell_type": "markdown",
   "source": [
    "#### 4. 추가적인 성능 개선\n",
    "아래와 스케일링이 필요하다."
   ],
   "metadata": {
    "id": "pwb5uNF6Yhog"
   }
  },
  {
   "cell_type": "code",
   "source": [
    "X_train.mean()"
   ],
   "metadata": {
    "id": "Ag5omq1CUPcX",
    "colab": {
     "base_uri": "https://localhost:8080/"
    },
    "executionInfo": {
     "status": "ok",
     "timestamp": 1640911019842,
     "user_tz": -540,
     "elapsed": 4,
     "user": {
      "displayName": "권오성",
      "photoUrl": "https://lh3.googleusercontent.com/a/default-user=s64",
      "userId": "06266214997163650151"
     }
    },
    "outputId": "c2f2b49a-8eb8-4586-83fd-1f2d4c99bbd9"
   },
   "execution_count": 134,
   "outputs": [
    {
     "data": {
      "text/plain": "70.02084930992491"
     },
     "execution_count": 134,
     "metadata": {},
     "output_type": "execute_result"
    }
   ]
  },
  {
   "cell_type": "code",
   "source": [
    "from sklearn.preprocessing import RobustScaler\n",
    "scaler = RobustScaler()\n",
    "X_tr_scaled = scaler.fit_transform(X_train)\n",
    "X_ts_scaled = scaler.fit_transform(X_test)"
   ],
   "metadata": {
    "id": "79xBh8XieK-x",
    "executionInfo": {
     "status": "ok",
     "timestamp": 1640911019842,
     "user_tz": -540,
     "elapsed": 2,
     "user": {
      "displayName": "권오성",
      "photoUrl": "https://lh3.googleusercontent.com/a/default-user=s64",
      "userId": "06266214997163650151"
     }
    }
   },
   "execution_count": 135,
   "outputs": []
  },
  {
   "cell_type": "code",
   "source": [
    "ms, als = [Ridge(max_iter=5000), Lasso(max_iter=5000)], range(-4, 3)\n",
    "s = best['score']\n",
    "best = {}\n",
    "best['score'] = s\n",
    "for m in ms:\n",
    "    for a in als:\n",
    "        params = {'alpha':10**a}\n",
    "        m = clone(m)\n",
    "        m.set_params(**params)\n",
    "        m.fit(X_tr_scaled, y_train)\n",
    "        s = m.score(X_ts_scaled, y_test)\n",
    "        if s > best['score']:\n",
    "            best['score'] = s\n",
    "            best['model'] = m\n",
    "best"
   ],
   "metadata": {
    "colab": {
     "base_uri": "https://localhost:8080/"
    },
    "id": "OXVgZGRceyIA",
    "executionInfo": {
     "status": "ok",
     "timestamp": 1640911020565,
     "user_tz": -540,
     "elapsed": 725,
     "user": {
      "displayName": "권오성",
      "photoUrl": "https://lh3.googleusercontent.com/a/default-user=s64",
      "userId": "06266214997163650151"
     }
    },
    "outputId": "2466b869-eb1b-480b-aa8a-f393c2d665ca"
   },
   "execution_count": 136,
   "outputs": [
    {
     "ename": "KeyError",
     "evalue": "'score'",
     "output_type": "error",
     "traceback": [
      "\u001B[1;31m---------------------------------------------------------------------------\u001B[0m",
      "\u001B[1;31mKeyError\u001B[0m                                  Traceback (most recent call last)",
      "\u001B[1;32m<ipython-input-136-8d311ad2e856>\u001B[0m in \u001B[0;36m<module>\u001B[1;34m\u001B[0m\n\u001B[0;32m      1\u001B[0m \u001B[0mms\u001B[0m\u001B[1;33m,\u001B[0m \u001B[0mals\u001B[0m \u001B[1;33m=\u001B[0m \u001B[1;33m[\u001B[0m\u001B[0mRidge\u001B[0m\u001B[1;33m(\u001B[0m\u001B[0mmax_iter\u001B[0m\u001B[1;33m=\u001B[0m\u001B[1;36m5000\u001B[0m\u001B[1;33m)\u001B[0m\u001B[1;33m,\u001B[0m \u001B[0mLasso\u001B[0m\u001B[1;33m(\u001B[0m\u001B[0mmax_iter\u001B[0m\u001B[1;33m=\u001B[0m\u001B[1;36m5000\u001B[0m\u001B[1;33m)\u001B[0m\u001B[1;33m]\u001B[0m\u001B[1;33m,\u001B[0m \u001B[0mrange\u001B[0m\u001B[1;33m(\u001B[0m\u001B[1;33m-\u001B[0m\u001B[1;36m4\u001B[0m\u001B[1;33m,\u001B[0m \u001B[1;36m3\u001B[0m\u001B[1;33m)\u001B[0m\u001B[1;33m\u001B[0m\u001B[1;33m\u001B[0m\u001B[0m\n\u001B[1;32m----> 2\u001B[1;33m \u001B[0ms\u001B[0m \u001B[1;33m=\u001B[0m \u001B[0mbest\u001B[0m\u001B[1;33m[\u001B[0m\u001B[1;34m'score'\u001B[0m\u001B[1;33m]\u001B[0m\u001B[1;33m\u001B[0m\u001B[1;33m\u001B[0m\u001B[0m\n\u001B[0m\u001B[0;32m      3\u001B[0m \u001B[0mbest\u001B[0m \u001B[1;33m=\u001B[0m \u001B[1;33m{\u001B[0m\u001B[1;33m}\u001B[0m\u001B[1;33m\u001B[0m\u001B[1;33m\u001B[0m\u001B[0m\n\u001B[0;32m      4\u001B[0m \u001B[0mbest\u001B[0m\u001B[1;33m[\u001B[0m\u001B[1;34m'score'\u001B[0m\u001B[1;33m]\u001B[0m \u001B[1;33m=\u001B[0m \u001B[0ms\u001B[0m\u001B[1;33m\u001B[0m\u001B[1;33m\u001B[0m\u001B[0m\n\u001B[0;32m      5\u001B[0m \u001B[1;32mfor\u001B[0m \u001B[0mm\u001B[0m \u001B[1;32min\u001B[0m \u001B[0mms\u001B[0m\u001B[1;33m:\u001B[0m\u001B[1;33m\u001B[0m\u001B[1;33m\u001B[0m\u001B[0m\n",
      "\u001B[1;31mKeyError\u001B[0m: 'score'"
     ]
    }
   ]
  },
  {
   "cell_type": "code",
   "source": [],
   "metadata": {
    "id": "hKrmUR7xfGnZ",
    "executionInfo": {
     "status": "ok",
     "timestamp": 1640911020565,
     "user_tz": -540,
     "elapsed": 3,
     "user": {
      "displayName": "권오성",
      "photoUrl": "https://lh3.googleusercontent.com/a/default-user=s64",
      "userId": "06266214997163650151"
     }
    }
   },
   "execution_count": 136,
   "outputs": []
  },
  {
   "cell_type": "code",
   "execution_count": 136,
   "outputs": [],
   "source": [],
   "metadata": {
    "collapsed": false,
    "pycharm": {
     "name": "#%%\n"
    }
   }
  },
  {
   "cell_type": "code",
   "execution_count": 136,
   "outputs": [],
   "source": [],
   "metadata": {
    "collapsed": false,
    "pycharm": {
     "name": "#%%\n"
    }
   }
  },
  {
   "cell_type": "code",
   "execution_count": null,
   "outputs": [],
   "source": [],
   "metadata": {
    "collapsed": false,
    "pycharm": {
     "name": "#%%\n"
    }
   }
  }
 ]
}